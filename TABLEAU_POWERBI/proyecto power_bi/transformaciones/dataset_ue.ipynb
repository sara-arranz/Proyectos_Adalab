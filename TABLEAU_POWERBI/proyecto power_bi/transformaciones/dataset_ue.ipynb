{
 "cells": [
  {
   "cell_type": "markdown",
   "metadata": {},
   "source": [
    "---\n",
    "description: EDA brecha tecnológica UE\n",
    "---\n",
    "\n",
    "\n",
    "## Los Datos:\n",
    "Digital economy and society statistics - households and individuals\n",
    "\n",
    "[Fuente](https://ec.europa.eu/eurostat/statistics-explained/index.php?title=Digital_economy_and_society_statistics_-_households_and_individuals)\n",
    "\n",
    "A su vez, la fuente anterior nos lleva a este dataset:\n",
    "\n",
    "[Fuente](https://ec.europa.eu/eurostat/databrowser/view/isoc_ci_ac_i__custom_16380599/default/table?lang=en)"
   ]
  },
  {
   "cell_type": "code",
   "execution_count": 1,
   "metadata": {},
   "outputs": [],
   "source": [
    "# Tratamiento de datos\n",
    "# -----------------------------------------------------------------------\n",
    "import pandas as pd\n",
    "import numpy as np\n",
    "\n",
    "# Configuro el entorno de trabajo\n",
    "# -----------------------------------------------------------------------\n",
    "pd.set_option('display.max_columns', None)"
   ]
  },
  {
   "cell_type": "code",
   "execution_count": 4,
   "metadata": {},
   "outputs": [
    {
     "name": "stderr",
     "output_type": "stream",
     "text": [
      "/tmp/ipykernel_6524/2987893334.py:1: DtypeWarning: Columns (10) have mixed types. Specify dtype option on import or set low_memory=False.\n",
      "  df_eu = pd.read_csv('../datos/5 uso-internet-ue.csv');\n"
     ]
    }
   ],
   "source": [
    "df_eu = pd.read_csv('../datos/5 uso-internet-ue.csv');"
   ]
  },
  {
   "cell_type": "code",
   "execution_count": 5,
   "metadata": {},
   "outputs": [
    {
     "data": {
      "text/html": [
       "<div>\n",
       "<style scoped>\n",
       "    .dataframe tbody tr th:only-of-type {\n",
       "        vertical-align: middle;\n",
       "    }\n",
       "\n",
       "    .dataframe tbody tr th {\n",
       "        vertical-align: top;\n",
       "    }\n",
       "\n",
       "    .dataframe thead th {\n",
       "        text-align: right;\n",
       "    }\n",
       "</style>\n",
       "<table border=\"1\" class=\"dataframe\">\n",
       "  <thead>\n",
       "    <tr style=\"text-align: right;\">\n",
       "      <th></th>\n",
       "      <th>DATAFLOW</th>\n",
       "      <th>LAST UPDATE</th>\n",
       "      <th>freq</th>\n",
       "      <th>indic_is</th>\n",
       "      <th>unit</th>\n",
       "      <th>ind_type</th>\n",
       "      <th>geo</th>\n",
       "      <th>TIME_PERIOD</th>\n",
       "      <th>OBS_VALUE</th>\n",
       "      <th>OBS_FLAG</th>\n",
       "      <th>CONF_STATUS</th>\n",
       "    </tr>\n",
       "  </thead>\n",
       "  <tbody>\n",
       "    <tr>\n",
       "      <th>0</th>\n",
       "      <td>ESTAT:ISOC_CI_AC_I(1.0)</td>\n",
       "      <td>17/12/24 11:00:00</td>\n",
       "      <td>Annual</td>\n",
       "      <td>Internet use: seeking health information</td>\n",
       "      <td>Percentage of individuals</td>\n",
       "      <td>All individuals</td>\n",
       "      <td>Albania</td>\n",
       "      <td>2018</td>\n",
       "      <td>30.32</td>\n",
       "      <td>NaN</td>\n",
       "      <td>NaN</td>\n",
       "    </tr>\n",
       "    <tr>\n",
       "      <th>1</th>\n",
       "      <td>ESTAT:ISOC_CI_AC_I(1.0)</td>\n",
       "      <td>17/12/24 11:00:00</td>\n",
       "      <td>Annual</td>\n",
       "      <td>Internet use: seeking health information</td>\n",
       "      <td>Percentage of individuals</td>\n",
       "      <td>All individuals</td>\n",
       "      <td>Albania</td>\n",
       "      <td>2019</td>\n",
       "      <td>33.33</td>\n",
       "      <td>NaN</td>\n",
       "      <td>NaN</td>\n",
       "    </tr>\n",
       "  </tbody>\n",
       "</table>\n",
       "</div>"
      ],
      "text/plain": [
       "                  DATAFLOW        LAST UPDATE    freq  \\\n",
       "0  ESTAT:ISOC_CI_AC_I(1.0)  17/12/24 11:00:00  Annual   \n",
       "1  ESTAT:ISOC_CI_AC_I(1.0)  17/12/24 11:00:00  Annual   \n",
       "\n",
       "                                   indic_is                       unit  \\\n",
       "0  Internet use: seeking health information  Percentage of individuals   \n",
       "1  Internet use: seeking health information  Percentage of individuals   \n",
       "\n",
       "          ind_type      geo  TIME_PERIOD  OBS_VALUE OBS_FLAG CONF_STATUS  \n",
       "0  All individuals  Albania         2018      30.32      NaN         NaN  \n",
       "1  All individuals  Albania         2019      33.33      NaN         NaN  "
      ]
     },
     "execution_count": 5,
     "metadata": {},
     "output_type": "execute_result"
    }
   ],
   "source": [
    "df_eu.head(2)"
   ]
  },
  {
   "cell_type": "code",
   "execution_count": 6,
   "metadata": {},
   "outputs": [
    {
     "data": {
      "text/plain": [
       "Index(['DATAFLOW', 'LAST UPDATE', 'freq', 'indic_is', 'unit', 'ind_type',\n",
       "       'geo', 'TIME_PERIOD', 'OBS_VALUE', 'OBS_FLAG', 'CONF_STATUS'],\n",
       "      dtype='object')"
      ]
     },
     "execution_count": 6,
     "metadata": {},
     "output_type": "execute_result"
    }
   ],
   "source": [
    "df_eu.columns"
   ]
  },
  {
   "cell_type": "code",
   "execution_count": 7,
   "metadata": {},
   "outputs": [
    {
     "data": {
      "text/plain": [
       "freq\n",
       "Annual    157297\n",
       "Name: count, dtype: int64"
      ]
     },
     "execution_count": 7,
     "metadata": {},
     "output_type": "execute_result"
    }
   ],
   "source": [
    "df_eu['freq'].value_counts() #columna a eliminar"
   ]
  },
  {
   "cell_type": "code",
   "execution_count": 8,
   "metadata": {},
   "outputs": [
    {
     "data": {
      "text/plain": [
       "ind_type\n",
       "All individuals                      21660\n",
       "Individuals, 16 to 24 years old      21636\n",
       "Individuals, 35 to 44 years old      21636\n",
       "Individuals, 25 to 34 years old      21634\n",
       "Individuals, 45 to 54 years old      21634\n",
       "Individuals, 55 to 64 years old      21630\n",
       "Individuals, 65 to 74 years old      21598\n",
       "Individuals, 75 years old or more     3599\n",
       "Individuals, 15 years old or less     2270\n",
       "Name: count, dtype: int64"
      ]
     },
     "execution_count": 8,
     "metadata": {},
     "output_type": "execute_result"
    }
   ],
   "source": [
    "df_eu['ind_type'].value_counts()"
   ]
  },
  {
   "cell_type": "code",
   "execution_count": 9,
   "metadata": {},
   "outputs": [
    {
     "data": {
      "text/plain": [
       "unit\n",
       "Percentage of individuals                                           78670\n",
       "Percentage of individuals who used internet in the last 3 months    78627\n",
       "Name: count, dtype: int64"
      ]
     },
     "execution_count": 9,
     "metadata": {},
     "output_type": "execute_result"
    }
   ],
   "source": [
    "df_eu['unit'].value_counts()"
   ]
  },
  {
   "cell_type": "code",
   "execution_count": 10,
   "metadata": {},
   "outputs": [
    {
     "data": {
      "text/plain": [
       "DATAFLOW\n",
       "ESTAT:ISOC_CI_AC_I(1.0)    157297\n",
       "Name: count, dtype: int64"
      ]
     },
     "execution_count": 10,
     "metadata": {},
     "output_type": "execute_result"
    }
   ],
   "source": [
    "df_eu['DATAFLOW'].value_counts()#columna a eliminar"
   ]
  },
  {
   "cell_type": "code",
   "execution_count": 11,
   "metadata": {},
   "outputs": [
    {
     "data": {
      "text/plain": [
       "OBS_FLAG\n",
       "u     4162\n",
       "b     2300\n",
       "e      448\n",
       "bu      30\n",
       "Name: count, dtype: int64"
      ]
     },
     "execution_count": 11,
     "metadata": {},
     "output_type": "execute_result"
    }
   ],
   "source": [
    "df_eu['OBS_FLAG'].value_counts()#columna a eliminar"
   ]
  },
  {
   "cell_type": "code",
   "execution_count": 12,
   "metadata": {},
   "outputs": [
    {
     "data": {
      "text/plain": [
       "CONF_STATUS\n",
       "C    22\n",
       "Name: count, dtype: int64"
      ]
     },
     "execution_count": 12,
     "metadata": {},
     "output_type": "execute_result"
    }
   ],
   "source": [
    "df_eu['CONF_STATUS'].value_counts()#columna a eliminar"
   ]
  },
  {
   "cell_type": "code",
   "execution_count": 13,
   "metadata": {},
   "outputs": [
    {
     "name": "stdout",
     "output_type": "stream",
     "text": [
      "<class 'pandas.core.frame.DataFrame'>\n",
      "RangeIndex: 157297 entries, 0 to 157296\n",
      "Data columns (total 11 columns):\n",
      " #   Column       Non-Null Count   Dtype  \n",
      "---  ------       --------------   -----  \n",
      " 0   DATAFLOW     157297 non-null  object \n",
      " 1   LAST UPDATE  157297 non-null  object \n",
      " 2   freq         157297 non-null  object \n",
      " 3   indic_is     157297 non-null  object \n",
      " 4   unit         157297 non-null  object \n",
      " 5   ind_type     157297 non-null  object \n",
      " 6   geo          157297 non-null  object \n",
      " 7   TIME_PERIOD  157297 non-null  int64  \n",
      " 8   OBS_VALUE    153924 non-null  float64\n",
      " 9   OBS_FLAG     6940 non-null    object \n",
      " 10  CONF_STATUS  22 non-null      object \n",
      "dtypes: float64(1), int64(1), object(9)\n",
      "memory usage: 13.2+ MB\n"
     ]
    }
   ],
   "source": [
    "df_eu.info() #tipos de datos del dataframe"
   ]
  },
  {
   "cell_type": "code",
   "execution_count": 14,
   "metadata": {},
   "outputs": [
    {
     "data": {
      "text/plain": [
       "(157297, 11)"
      ]
     },
     "execution_count": 14,
     "metadata": {},
     "output_type": "execute_result"
    }
   ],
   "source": [
    "#filas y col del dataframe:\n",
    "df_eu.shape"
   ]
  },
  {
   "cell_type": "code",
   "execution_count": 15,
   "metadata": {},
   "outputs": [],
   "source": [
    "#valores nulos por columna:\n",
    "df_val_nulos = (df_eu.isnull().sum()/df_eu.shape[0] * 100)\n",
    "df_val_nulos = df_val_nulos.reset_index()\n",
    "df_val_nulos = df_val_nulos.sort_values(by=0, ascending=False)"
   ]
  },
  {
   "cell_type": "code",
   "execution_count": 16,
   "metadata": {},
   "outputs": [
    {
     "data": {
      "text/html": [
       "<div>\n",
       "<style scoped>\n",
       "    .dataframe tbody tr th:only-of-type {\n",
       "        vertical-align: middle;\n",
       "    }\n",
       "\n",
       "    .dataframe tbody tr th {\n",
       "        vertical-align: top;\n",
       "    }\n",
       "\n",
       "    .dataframe thead th {\n",
       "        text-align: right;\n",
       "    }\n",
       "</style>\n",
       "<table border=\"1\" class=\"dataframe\">\n",
       "  <thead>\n",
       "    <tr style=\"text-align: right;\">\n",
       "      <th></th>\n",
       "      <th>index</th>\n",
       "      <th>0</th>\n",
       "    </tr>\n",
       "  </thead>\n",
       "  <tbody>\n",
       "    <tr>\n",
       "      <th>10</th>\n",
       "      <td>CONF_STATUS</td>\n",
       "      <td>99.986014</td>\n",
       "    </tr>\n",
       "    <tr>\n",
       "      <th>9</th>\n",
       "      <td>OBS_FLAG</td>\n",
       "      <td>95.587964</td>\n",
       "    </tr>\n",
       "    <tr>\n",
       "      <th>8</th>\n",
       "      <td>OBS_VALUE</td>\n",
       "      <td>2.144351</td>\n",
       "    </tr>\n",
       "    <tr>\n",
       "      <th>0</th>\n",
       "      <td>DATAFLOW</td>\n",
       "      <td>0.000000</td>\n",
       "    </tr>\n",
       "    <tr>\n",
       "      <th>1</th>\n",
       "      <td>LAST UPDATE</td>\n",
       "      <td>0.000000</td>\n",
       "    </tr>\n",
       "    <tr>\n",
       "      <th>2</th>\n",
       "      <td>freq</td>\n",
       "      <td>0.000000</td>\n",
       "    </tr>\n",
       "    <tr>\n",
       "      <th>3</th>\n",
       "      <td>indic_is</td>\n",
       "      <td>0.000000</td>\n",
       "    </tr>\n",
       "    <tr>\n",
       "      <th>4</th>\n",
       "      <td>unit</td>\n",
       "      <td>0.000000</td>\n",
       "    </tr>\n",
       "    <tr>\n",
       "      <th>5</th>\n",
       "      <td>ind_type</td>\n",
       "      <td>0.000000</td>\n",
       "    </tr>\n",
       "    <tr>\n",
       "      <th>6</th>\n",
       "      <td>geo</td>\n",
       "      <td>0.000000</td>\n",
       "    </tr>\n",
       "    <tr>\n",
       "      <th>7</th>\n",
       "      <td>TIME_PERIOD</td>\n",
       "      <td>0.000000</td>\n",
       "    </tr>\n",
       "  </tbody>\n",
       "</table>\n",
       "</div>"
      ],
      "text/plain": [
       "          index          0\n",
       "10  CONF_STATUS  99.986014\n",
       "9      OBS_FLAG  95.587964\n",
       "8     OBS_VALUE   2.144351\n",
       "0      DATAFLOW   0.000000\n",
       "1   LAST UPDATE   0.000000\n",
       "2          freq   0.000000\n",
       "3      indic_is   0.000000\n",
       "4          unit   0.000000\n",
       "5      ind_type   0.000000\n",
       "6           geo   0.000000\n",
       "7   TIME_PERIOD   0.000000"
      ]
     },
     "execution_count": 16,
     "metadata": {},
     "output_type": "execute_result"
    }
   ],
   "source": [
    "df_val_nulos"
   ]
  },
  {
   "cell_type": "code",
   "execution_count": 17,
   "metadata": {},
   "outputs": [
    {
     "data": {
      "text/plain": [
       "0"
      ]
     },
     "execution_count": 17,
     "metadata": {},
     "output_type": "execute_result"
    }
   ],
   "source": [
    "#filas duplicadas:\n",
    "df_eu.duplicated().sum() #no hay filas duplicadas"
   ]
  },
  {
   "cell_type": "markdown",
   "metadata": {},
   "source": [
    "Para sacar los ppales estadísticos, voy a separar las variables por categóricas y numéricas:"
   ]
  },
  {
   "cell_type": "code",
   "execution_count": 18,
   "metadata": {},
   "outputs": [],
   "source": [
    "df_cat = df_eu.select_dtypes(include = 'O')\n",
    "col_cat = df_cat.columns"
   ]
  },
  {
   "cell_type": "code",
   "execution_count": 19,
   "metadata": {},
   "outputs": [
    {
     "data": {
      "text/plain": [
       "Index(['DATAFLOW', 'LAST UPDATE', 'freq', 'indic_is', 'unit', 'ind_type',\n",
       "       'geo', 'OBS_FLAG', 'CONF_STATUS'],\n",
       "      dtype='object')"
      ]
     },
     "execution_count": 19,
     "metadata": {},
     "output_type": "execute_result"
    }
   ],
   "source": [
    "col_cat"
   ]
  },
  {
   "cell_type": "code",
   "execution_count": 20,
   "metadata": {},
   "outputs": [
    {
     "data": {
      "text/html": [
       "<div>\n",
       "<style scoped>\n",
       "    .dataframe tbody tr th:only-of-type {\n",
       "        vertical-align: middle;\n",
       "    }\n",
       "\n",
       "    .dataframe tbody tr th {\n",
       "        vertical-align: top;\n",
       "    }\n",
       "\n",
       "    .dataframe thead th {\n",
       "        text-align: right;\n",
       "    }\n",
       "</style>\n",
       "<table border=\"1\" class=\"dataframe\">\n",
       "  <thead>\n",
       "    <tr style=\"text-align: right;\">\n",
       "      <th></th>\n",
       "      <th>count</th>\n",
       "      <th>unique</th>\n",
       "      <th>top</th>\n",
       "      <th>freq</th>\n",
       "    </tr>\n",
       "  </thead>\n",
       "  <tbody>\n",
       "    <tr>\n",
       "      <th>DATAFLOW</th>\n",
       "      <td>157297</td>\n",
       "      <td>1</td>\n",
       "      <td>ESTAT:ISOC_CI_AC_I(1.0)</td>\n",
       "      <td>157297</td>\n",
       "    </tr>\n",
       "    <tr>\n",
       "      <th>LAST UPDATE</th>\n",
       "      <td>157297</td>\n",
       "      <td>1</td>\n",
       "      <td>17/12/24 11:00:00</td>\n",
       "      <td>157297</td>\n",
       "    </tr>\n",
       "    <tr>\n",
       "      <th>freq</th>\n",
       "      <td>157297</td>\n",
       "      <td>1</td>\n",
       "      <td>Annual</td>\n",
       "      <td>157297</td>\n",
       "    </tr>\n",
       "    <tr>\n",
       "      <th>indic_is</th>\n",
       "      <td>157297</td>\n",
       "      <td>33</td>\n",
       "      <td>Internet use: finding information about goods ...</td>\n",
       "      <td>11079</td>\n",
       "    </tr>\n",
       "    <tr>\n",
       "      <th>unit</th>\n",
       "      <td>157297</td>\n",
       "      <td>2</td>\n",
       "      <td>Percentage of individuals</td>\n",
       "      <td>78670</td>\n",
       "    </tr>\n",
       "    <tr>\n",
       "      <th>ind_type</th>\n",
       "      <td>157297</td>\n",
       "      <td>9</td>\n",
       "      <td>All individuals</td>\n",
       "      <td>21660</td>\n",
       "    </tr>\n",
       "    <tr>\n",
       "      <th>geo</th>\n",
       "      <td>157297</td>\n",
       "      <td>41</td>\n",
       "      <td>Slovakia</td>\n",
       "      <td>4936</td>\n",
       "    </tr>\n",
       "    <tr>\n",
       "      <th>OBS_FLAG</th>\n",
       "      <td>6940</td>\n",
       "      <td>4</td>\n",
       "      <td>u</td>\n",
       "      <td>4162</td>\n",
       "    </tr>\n",
       "    <tr>\n",
       "      <th>CONF_STATUS</th>\n",
       "      <td>22</td>\n",
       "      <td>1</td>\n",
       "      <td>C</td>\n",
       "      <td>22</td>\n",
       "    </tr>\n",
       "  </tbody>\n",
       "</table>\n",
       "</div>"
      ],
      "text/plain": [
       "              count unique                                                top  \\\n",
       "DATAFLOW     157297      1                            ESTAT:ISOC_CI_AC_I(1.0)   \n",
       "LAST UPDATE  157297      1                                  17/12/24 11:00:00   \n",
       "freq         157297      1                                             Annual   \n",
       "indic_is     157297     33  Internet use: finding information about goods ...   \n",
       "unit         157297      2                          Percentage of individuals   \n",
       "ind_type     157297      9                                    All individuals   \n",
       "geo          157297     41                                           Slovakia   \n",
       "OBS_FLAG       6940      4                                                  u   \n",
       "CONF_STATUS      22      1                                                  C   \n",
       "\n",
       "               freq  \n",
       "DATAFLOW     157297  \n",
       "LAST UPDATE  157297  \n",
       "freq         157297  \n",
       "indic_is      11079  \n",
       "unit          78670  \n",
       "ind_type      21660  \n",
       "geo            4936  \n",
       "OBS_FLAG       4162  \n",
       "CONF_STATUS      22  "
      ]
     },
     "execution_count": 20,
     "metadata": {},
     "output_type": "execute_result"
    }
   ],
   "source": [
    "df_cat.describe().T #no nos dice gran cosa"
   ]
  },
  {
   "cell_type": "code",
   "execution_count": 21,
   "metadata": {},
   "outputs": [],
   "source": [
    "df_num = df_eu.select_dtypes(exclude = 'O')\n",
    "col_num = df_num.columns"
   ]
  },
  {
   "cell_type": "code",
   "execution_count": 22,
   "metadata": {},
   "outputs": [
    {
     "data": {
      "text/plain": [
       "Index(['TIME_PERIOD', 'OBS_VALUE'], dtype='object')"
      ]
     },
     "execution_count": 22,
     "metadata": {},
     "output_type": "execute_result"
    }
   ],
   "source": [
    "col_num"
   ]
  },
  {
   "cell_type": "code",
   "execution_count": 23,
   "metadata": {},
   "outputs": [
    {
     "data": {
      "text/html": [
       "<div>\n",
       "<style scoped>\n",
       "    .dataframe tbody tr th:only-of-type {\n",
       "        vertical-align: middle;\n",
       "    }\n",
       "\n",
       "    .dataframe tbody tr th {\n",
       "        vertical-align: top;\n",
       "    }\n",
       "\n",
       "    .dataframe thead th {\n",
       "        text-align: right;\n",
       "    }\n",
       "</style>\n",
       "<table border=\"1\" class=\"dataframe\">\n",
       "  <thead>\n",
       "    <tr style=\"text-align: right;\">\n",
       "      <th></th>\n",
       "      <th>count</th>\n",
       "      <th>mean</th>\n",
       "      <th>std</th>\n",
       "      <th>min</th>\n",
       "      <th>25%</th>\n",
       "      <th>50%</th>\n",
       "      <th>75%</th>\n",
       "      <th>max</th>\n",
       "    </tr>\n",
       "  </thead>\n",
       "  <tbody>\n",
       "    <tr>\n",
       "      <th>TIME_PERIOD</th>\n",
       "      <td>157297.0</td>\n",
       "      <td>2014.755641</td>\n",
       "      <td>5.862062</td>\n",
       "      <td>2002.0</td>\n",
       "      <td>2010.00</td>\n",
       "      <td>2015.00</td>\n",
       "      <td>2020.00</td>\n",
       "      <td>2024.0</td>\n",
       "    </tr>\n",
       "    <tr>\n",
       "      <th>OBS_VALUE</th>\n",
       "      <td>153924.0</td>\n",
       "      <td>38.228716</td>\n",
       "      <td>29.376402</td>\n",
       "      <td>0.0</td>\n",
       "      <td>11.96</td>\n",
       "      <td>31.06</td>\n",
       "      <td>62.78</td>\n",
       "      <td>100.0</td>\n",
       "    </tr>\n",
       "  </tbody>\n",
       "</table>\n",
       "</div>"
      ],
      "text/plain": [
       "                count         mean        std     min      25%      50%  \\\n",
       "TIME_PERIOD  157297.0  2014.755641   5.862062  2002.0  2010.00  2015.00   \n",
       "OBS_VALUE    153924.0    38.228716  29.376402     0.0    11.96    31.06   \n",
       "\n",
       "                 75%     max  \n",
       "TIME_PERIOD  2020.00  2024.0  \n",
       "OBS_VALUE      62.78   100.0  "
      ]
     },
     "execution_count": 23,
     "metadata": {},
     "output_type": "execute_result"
    }
   ],
   "source": [
    "df_num.describe().T #no nos dice gran cosa."
   ]
  },
  {
   "cell_type": "markdown",
   "metadata": {},
   "source": [
    "## Columnas a eliminar:\n",
    "- freq\n",
    "- DATAFLOW\n",
    "- LAST UPDATE (porque no ofrece información relevante)\n",
    "- CONF_STATUS\n",
    "- OBS_FLAG"
   ]
  },
  {
   "cell_type": "code",
   "execution_count": 24,
   "metadata": {},
   "outputs": [],
   "source": [
    "df_eu= df_eu.drop(columns = ['freq', 'DATAFLOW', 'LAST UPDATE', 'CONF_STATUS', 'OBS_FLAG'])"
   ]
  },
  {
   "cell_type": "code",
   "execution_count": 25,
   "metadata": {},
   "outputs": [
    {
     "data": {
      "text/html": [
       "<div>\n",
       "<style scoped>\n",
       "    .dataframe tbody tr th:only-of-type {\n",
       "        vertical-align: middle;\n",
       "    }\n",
       "\n",
       "    .dataframe tbody tr th {\n",
       "        vertical-align: top;\n",
       "    }\n",
       "\n",
       "    .dataframe thead th {\n",
       "        text-align: right;\n",
       "    }\n",
       "</style>\n",
       "<table border=\"1\" class=\"dataframe\">\n",
       "  <thead>\n",
       "    <tr style=\"text-align: right;\">\n",
       "      <th></th>\n",
       "      <th>indic_is</th>\n",
       "      <th>unit</th>\n",
       "      <th>ind_type</th>\n",
       "      <th>geo</th>\n",
       "      <th>TIME_PERIOD</th>\n",
       "      <th>OBS_VALUE</th>\n",
       "    </tr>\n",
       "  </thead>\n",
       "  <tbody>\n",
       "    <tr>\n",
       "      <th>0</th>\n",
       "      <td>Internet use: seeking health information</td>\n",
       "      <td>Percentage of individuals</td>\n",
       "      <td>All individuals</td>\n",
       "      <td>Albania</td>\n",
       "      <td>2018</td>\n",
       "      <td>30.32</td>\n",
       "    </tr>\n",
       "  </tbody>\n",
       "</table>\n",
       "</div>"
      ],
      "text/plain": [
       "                                   indic_is                       unit  \\\n",
       "0  Internet use: seeking health information  Percentage of individuals   \n",
       "\n",
       "          ind_type      geo  TIME_PERIOD  OBS_VALUE  \n",
       "0  All individuals  Albania         2018      30.32  "
      ]
     },
     "execution_count": 25,
     "metadata": {},
     "output_type": "execute_result"
    }
   ],
   "source": [
    "df_eu.head(1)"
   ]
  },
  {
   "cell_type": "markdown",
   "metadata": {},
   "source": [
    "## Cambio de título:\n",
    "- indic_is: information society indicator, pero lo dejamos en - español: 'indicador TIC'\n",
    "- unit: unidades\n",
    "- ind_type: individual type, lo ponemos en español:  'tipo persona'\n",
    "- 'geo': 'Entidad', \n",
    "- 'TIME_PERIOD':'Periodo', \n",
    "- 'OBS_VALUE': 'valor'."
   ]
  },
  {
   "cell_type": "code",
   "execution_count": 26,
   "metadata": {},
   "outputs": [],
   "source": [
    "mapa = {'indic_is': 'indicador TIC', 'unit': 'unidades', 'ind_type': 'tipo de persona','geo': 'Entidad', 'TIME_PERIOD':'Periodo', 'OBS_VALUE': 'valor'}\n",
    "df_eu.rename(columns=mapa, inplace=True)"
   ]
  },
  {
   "cell_type": "code",
   "execution_count": 27,
   "metadata": {},
   "outputs": [
    {
     "data": {
      "text/html": [
       "<div>\n",
       "<style scoped>\n",
       "    .dataframe tbody tr th:only-of-type {\n",
       "        vertical-align: middle;\n",
       "    }\n",
       "\n",
       "    .dataframe tbody tr th {\n",
       "        vertical-align: top;\n",
       "    }\n",
       "\n",
       "    .dataframe thead th {\n",
       "        text-align: right;\n",
       "    }\n",
       "</style>\n",
       "<table border=\"1\" class=\"dataframe\">\n",
       "  <thead>\n",
       "    <tr style=\"text-align: right;\">\n",
       "      <th></th>\n",
       "      <th>indicador TIC</th>\n",
       "      <th>unidades</th>\n",
       "      <th>tipo de persona</th>\n",
       "      <th>Entidad</th>\n",
       "      <th>Periodo</th>\n",
       "      <th>valor</th>\n",
       "    </tr>\n",
       "  </thead>\n",
       "  <tbody>\n",
       "    <tr>\n",
       "      <th>0</th>\n",
       "      <td>Internet use: seeking health information</td>\n",
       "      <td>Percentage of individuals</td>\n",
       "      <td>All individuals</td>\n",
       "      <td>Albania</td>\n",
       "      <td>2018</td>\n",
       "      <td>30.32</td>\n",
       "    </tr>\n",
       "    <tr>\n",
       "      <th>1</th>\n",
       "      <td>Internet use: seeking health information</td>\n",
       "      <td>Percentage of individuals</td>\n",
       "      <td>All individuals</td>\n",
       "      <td>Albania</td>\n",
       "      <td>2019</td>\n",
       "      <td>33.33</td>\n",
       "    </tr>\n",
       "    <tr>\n",
       "      <th>2</th>\n",
       "      <td>Internet use: seeking health information</td>\n",
       "      <td>Percentage of individuals</td>\n",
       "      <td>All individuals</td>\n",
       "      <td>Albania</td>\n",
       "      <td>2020</td>\n",
       "      <td>41.39</td>\n",
       "    </tr>\n",
       "    <tr>\n",
       "      <th>3</th>\n",
       "      <td>Internet use: seeking health information</td>\n",
       "      <td>Percentage of individuals</td>\n",
       "      <td>All individuals</td>\n",
       "      <td>Albania</td>\n",
       "      <td>2021</td>\n",
       "      <td>47.53</td>\n",
       "    </tr>\n",
       "    <tr>\n",
       "      <th>4</th>\n",
       "      <td>Internet use: seeking health information</td>\n",
       "      <td>Percentage of individuals</td>\n",
       "      <td>All individuals</td>\n",
       "      <td>Albania</td>\n",
       "      <td>2022</td>\n",
       "      <td>41.59</td>\n",
       "    </tr>\n",
       "  </tbody>\n",
       "</table>\n",
       "</div>"
      ],
      "text/plain": [
       "                              indicador TIC                   unidades  \\\n",
       "0  Internet use: seeking health information  Percentage of individuals   \n",
       "1  Internet use: seeking health information  Percentage of individuals   \n",
       "2  Internet use: seeking health information  Percentage of individuals   \n",
       "3  Internet use: seeking health information  Percentage of individuals   \n",
       "4  Internet use: seeking health information  Percentage of individuals   \n",
       "\n",
       "   tipo de persona  Entidad  Periodo  valor  \n",
       "0  All individuals  Albania     2018  30.32  \n",
       "1  All individuals  Albania     2019  33.33  \n",
       "2  All individuals  Albania     2020  41.39  \n",
       "3  All individuals  Albania     2021  47.53  \n",
       "4  All individuals  Albania     2022  41.59  "
      ]
     },
     "execution_count": 27,
     "metadata": {},
     "output_type": "execute_result"
    }
   ],
   "source": [
    "df_eu.head()"
   ]
  },
  {
   "cell_type": "code",
   "execution_count": 28,
   "metadata": {},
   "outputs": [
    {
     "data": {
      "text/plain": [
       "indicador TIC\n",
       "Internet use: finding information about goods and services                                                                                       362\n",
       "Internet use: selling goods or services                                                                                                          362\n",
       "Internet use: sending/receiving e-mails                                                                                                          346\n",
       "Internet use: Internet banking                                                                                                                   346\n",
       "Internet use: seeking health information                                                                                                         298\n",
       "Internet use: telephoning or video calls                                                                                                         272\n",
       "Internet use: travel and accommodation services                                                                                                  250\n",
       "Internet use: doing an online course (of any subject)                                                                                            240\n",
       "Internet use: participating in social networks (creating user profile, posting messages or other contributions to facebook, twitter, etc.)       208\n",
       "Internet use: job search or sending an application                                                                                               176\n",
       "Internet use: reading online news sites/newspapers/news magazines                                                                                176\n",
       "Internet use: playing/downloading games, images, films or music                                                                                  156\n",
       "Internet use: taking part in on-line consultations or voting to define civic or political issues (e.g. urban planning, signing a petition)       144\n",
       "Internet use: uploading self-created content to any website to be shared                                                                         144\n",
       "Internet use: online learning material                                                                                                           144\n",
       "Internet use: reading/downloading online newspapers/news                                                                                         142\n",
       "Internet use: civic or political participation                                                                                                   128\n",
       "Internet use: looking for information about education, training or course offers                                                                 112\n",
       "Internet use: making an appointment with a practitioner via a website                                                                            112\n",
       "Internet use: Telephoning or video calls, or instant messaging (i.e. exchanging messages, for example, via Skype, Messenger, WhatsApp, Viber)     96\n",
       "Internet use: listening to web radios and/or watching web TV                                                                                      94\n",
       "Internet use: communicating with instructors or students using educational websites/portals                                                       80\n",
       "Internet use: participating in professional networks (creating user profile, posting messages or other contributions to LinkedIn, Xing, etc.)     64\n",
       "Internet use: posting opinions on civic or political issues via websites (e.g. blogs, social networks, etc.) (until 2019)                         64\n",
       "Internet use: expressing opinions on civic or political issues on websites or in social media (e.g. Facebook, Twitter, Instagram, YouTube)        64\n",
       "Internet use: participating in social or professional networks                                                                                    64\n",
       "Internet use: for other health services via a website or app instead of having to go to the hospital or visit a doctor                            48\n",
       "Internet use: accessing personal health records online                                                                                            48\n",
       "Internet use: posting messages to social media sites or instant messaging                                                                         48\n",
       "Internet use: creating websites or blogs                                                                                                          48\n",
       "Internet use: reading and posting opinions on civic or political issues via websites                                                              16\n",
       "Internet use: sharing or publishing self-created videos, photos, music, texts, etc on a website or via an app                                     16\n",
       "Internet use: listening to web radio                                                                                                              16\n",
       "Name: count, dtype: int64"
      ]
     },
     "execution_count": 28,
     "metadata": {},
     "output_type": "execute_result"
    }
   ],
   "source": [
    "#vamos a agrupar estas categorías:\n",
    "df_eu['indicador TIC'][df_eu['Entidad']== 'Spain'].value_counts()"
   ]
  },
  {
   "cell_type": "code",
   "execution_count": 30,
   "metadata": {},
   "outputs": [],
   "source": [
    "# Diccionario con categorías y listas de actividades\n",
    "categorias = {\n",
    "    'Comercio y consumo': [\n",
    "        'Internet use: finding information about goods and services',\n",
    "        'Internet use: Internet banking',\n",
    "        'Internet use: selling goods or services',\n",
    "        'Internet use: travel and accommodation services',\n",
    "        'Internet use: job search or sending an application'\n",
    "    ],\n",
    "    'Educación y aprendizaje': [\n",
    "        'Internet use: doing an online course (of any subject)',\n",
    "        'Internet use: online learning material',\n",
    "        'Internet use: communicating with instructors or students using educational websites/portals',\n",
    "        'Internet use: looking for information about education, training or course offers'\n",
    "    ],\n",
    "    'Salud': [\n",
    "        'Internet use: seeking health information',\n",
    "        'Internet use: making an appointment with a practitioner via a website',\n",
    "        'Internet use: accessing personal health records online',\n",
    "        'Internet use: for other health services via a website or app instead of having to go to the hospital or visit a doctor'\n",
    "    ],\n",
    "    'Redes sociales y entretenimiento': [\n",
    "        'Internet use: participating in social networks (creating user profile, posting messages or other contributions to facebook, twitter, etc.)',\n",
    "        'Internet use: playing/downloading games, images, films or music',\n",
    "        'Internet use: listening to web radios and/or watching web TV',\n",
    "        'Internet use: posting messages to social media sites or instant messaging',\n",
    "        'Internet use: sharing or publishing self-created videos, photos, music, texts, etc on a website or via an app',\n",
    "        'Internet use: participating in professional networks (creating user profile, posting messages or other contributions to LinkedIn, Xing, etc.)',\n",
    "        'Internet use: creating websites or blogs',\n",
    "        'Internet use: listening to web radio',\n",
    "        'Internet use: participating in social or professional networks'\n",
    "    ],\n",
    "    'Participación cívica/política': [\n",
    "        'Internet use: taking part in on-line consultations or voting to define civic or political issues (e.g. urban planning, signing a petition)',\n",
    "        'Internet use: civic or political participation',\n",
    "        'Internet use: posting opinions on civic or political issues via websites (e.g. blogs, social networks, etc.) (until 2019)',\n",
    "        'Internet use: expressing opinions on civic or political issues on websites or in social media (e.g. Facebook, Twitter, Instagram, YouTube)',\n",
    "        'Internet use: reading/downloading online newspapers/news',\n",
    "        'Internet use: reading and posting opinions on civic or political issues via websites',\n",
    "        'Internet use: reading online news sites/newspapers/news magazines'\n",
    "    ]\n",
    "}\n"
   ]
  },
  {
   "cell_type": "code",
   "execution_count": 31,
   "metadata": {},
   "outputs": [],
   "source": [
    "#Le damos la vuelta al diccionario y le asignamos categoría:\n",
    "actividad_a_categoria = {\n",
    "    actividad: categoria\n",
    "    for categoria, actividades in categorias.items()\n",
    "    for actividad in actividades\n",
    "}\n",
    "\n",
    "# Crear nueva columna en el DataFrame con la categoría\n",
    "df_eu['categoría'] = df_eu['indicador TIC'].map(actividad_a_categoria)\n"
   ]
  },
  {
   "cell_type": "code",
   "execution_count": 32,
   "metadata": {},
   "outputs": [
    {
     "name": "stdout",
     "output_type": "stream",
     "text": [
      "Actividades sin categoría asignada:\n",
      "['Internet use: sending/receiving e-mails'\n",
      " 'Internet use: telephoning or video calls'\n",
      " 'Internet use: Telephoning or video calls, or instant messaging (i.e. exchanging messages, for example, via Skype, Messenger, WhatsApp, Viber)'\n",
      " 'Internet use: uploading self-created content to any website to be shared']\n"
     ]
    }
   ],
   "source": [
    "#Comprobamos qué filas se han quedado sin categorizar:\n",
    "no_categorizadas = df_eu[df_eu['categoría'].isna()]['indicador TIC'].unique()\n",
    "print(\"Actividades sin categoría asignada:\")\n",
    "print(no_categorizadas)"
   ]
  },
  {
   "cell_type": "code",
   "execution_count": 33,
   "metadata": {},
   "outputs": [],
   "source": [
    "actividad_a_categoria.update({\n",
    "    'Internet use: sending/receiving e-mails': 'Redes sociales y entretenimiento',\n",
    "    'Internet use: telephoning or video calls': 'Redes sociales y entretenimiento',\n",
    "    'Internet use: Telephoning or video calls, or instant messaging (i.e. exchanging messages, for example, via Skype, Messenger, WhatsApp, Viber)': 'Redes sociales y entretenimiento',\n",
    "    'Internet use: uploading self-created content to any website to be shared': 'Redes sociales y entretenimiento'\n",
    "})"
   ]
  },
  {
   "cell_type": "code",
   "execution_count": 34,
   "metadata": {},
   "outputs": [],
   "source": [
    "df_eu['categoría'] = df_eu['indicador TIC'].map(actividad_a_categoria)\n"
   ]
  },
  {
   "cell_type": "code",
   "execution_count": 35,
   "metadata": {},
   "outputs": [
    {
     "name": "stdout",
     "output_type": "stream",
     "text": [
      "Actividades sin categoría asignada:\n",
      "[]\n"
     ]
    }
   ],
   "source": [
    "#Comprobamos qué filas se han quedado sin categorizar:\n",
    "no_categorizadas = df_eu[df_eu['categoría'].isna()]['indicador TIC'].unique()\n",
    "print(\"Actividades sin categoría asignada:\")\n",
    "print(no_categorizadas)"
   ]
  },
  {
   "cell_type": "code",
   "execution_count": 36,
   "metadata": {},
   "outputs": [
    {
     "data": {
      "text/html": [
       "<div>\n",
       "<style scoped>\n",
       "    .dataframe tbody tr th:only-of-type {\n",
       "        vertical-align: middle;\n",
       "    }\n",
       "\n",
       "    .dataframe tbody tr th {\n",
       "        vertical-align: top;\n",
       "    }\n",
       "\n",
       "    .dataframe thead th {\n",
       "        text-align: right;\n",
       "    }\n",
       "</style>\n",
       "<table border=\"1\" class=\"dataframe\">\n",
       "  <thead>\n",
       "    <tr style=\"text-align: right;\">\n",
       "      <th></th>\n",
       "      <th>indicador TIC</th>\n",
       "      <th>unidades</th>\n",
       "      <th>tipo de persona</th>\n",
       "      <th>Entidad</th>\n",
       "      <th>Periodo</th>\n",
       "      <th>valor</th>\n",
       "      <th>categoría</th>\n",
       "    </tr>\n",
       "  </thead>\n",
       "  <tbody>\n",
       "    <tr>\n",
       "      <th>102908</th>\n",
       "      <td>Internet use: online learning material</td>\n",
       "      <td>Percentage of individuals</td>\n",
       "      <td>Individuals, 45 to 54 years old</td>\n",
       "      <td>Latvia</td>\n",
       "      <td>2021</td>\n",
       "      <td>21.50</td>\n",
       "      <td>Educación y aprendizaje</td>\n",
       "    </tr>\n",
       "    <tr>\n",
       "      <th>81477</th>\n",
       "      <td>Internet use: reading/downloading online newsp...</td>\n",
       "      <td>Percentage of individuals who used internet in...</td>\n",
       "      <td>All individuals</td>\n",
       "      <td>Netherlands</td>\n",
       "      <td>2006</td>\n",
       "      <td>44.89</td>\n",
       "      <td>Participación cívica/política</td>\n",
       "    </tr>\n",
       "    <tr>\n",
       "      <th>73560</th>\n",
       "      <td>Internet use: making an appointment with a pra...</td>\n",
       "      <td>Percentage of individuals</td>\n",
       "      <td>Individuals, 16 to 24 years old</td>\n",
       "      <td>France</td>\n",
       "      <td>2012</td>\n",
       "      <td>4.43</td>\n",
       "      <td>Salud</td>\n",
       "    </tr>\n",
       "    <tr>\n",
       "      <th>74557</th>\n",
       "      <td>Internet use: making an appointment with a pra...</td>\n",
       "      <td>Percentage of individuals</td>\n",
       "      <td>Individuals, 55 to 64 years old</td>\n",
       "      <td>European Union - 27 countries (from 2020)</td>\n",
       "      <td>2018</td>\n",
       "      <td>14.40</td>\n",
       "      <td>Salud</td>\n",
       "    </tr>\n",
       "  </tbody>\n",
       "</table>\n",
       "</div>"
      ],
      "text/plain": [
       "                                            indicador TIC  \\\n",
       "102908             Internet use: online learning material   \n",
       "81477   Internet use: reading/downloading online newsp...   \n",
       "73560   Internet use: making an appointment with a pra...   \n",
       "74557   Internet use: making an appointment with a pra...   \n",
       "\n",
       "                                                 unidades  \\\n",
       "102908                          Percentage of individuals   \n",
       "81477   Percentage of individuals who used internet in...   \n",
       "73560                           Percentage of individuals   \n",
       "74557                           Percentage of individuals   \n",
       "\n",
       "                        tipo de persona  \\\n",
       "102908  Individuals, 45 to 54 years old   \n",
       "81477                   All individuals   \n",
       "73560   Individuals, 16 to 24 years old   \n",
       "74557   Individuals, 55 to 64 years old   \n",
       "\n",
       "                                          Entidad  Periodo  valor  \\\n",
       "102908                                     Latvia     2021  21.50   \n",
       "81477                                 Netherlands     2006  44.89   \n",
       "73560                                      France     2012   4.43   \n",
       "74557   European Union - 27 countries (from 2020)     2018  14.40   \n",
       "\n",
       "                            categoría  \n",
       "102908        Educación y aprendizaje  \n",
       "81477   Participación cívica/política  \n",
       "73560                           Salud  \n",
       "74557                           Salud  "
      ]
     },
     "execution_count": 36,
     "metadata": {},
     "output_type": "execute_result"
    }
   ],
   "source": [
    "df_eu.sample(4)"
   ]
  },
  {
   "cell_type": "code",
   "execution_count": 37,
   "metadata": {},
   "outputs": [
    {
     "data": {
      "text/plain": [
       "Entidad\n",
       "Slovakia                                                                                                         4936\n",
       "Norway                                                                                                           4902\n",
       "Spain                                                                                                            4884\n",
       "Italy                                                                                                            4852\n",
       "Germany                                                                                                          4817\n",
       "Latvia                                                                                                           4668\n",
       "Czechia                                                                                                          4587\n",
       "Sweden                                                                                                           4564\n",
       "Denmark                                                                                                          4524\n",
       "Slovenia                                                                                                         4494\n",
       "Finland                                                                                                          4484\n",
       "Austria                                                                                                          4462\n",
       "Luxembourg                                                                                                       4452\n",
       "Greece                                                                                                           4442\n",
       "Portugal                                                                                                         4428\n",
       "Netherlands                                                                                                      4422\n",
       "Ireland                                                                                                          4420\n",
       "Estonia                                                                                                          4376\n",
       "Hungary                                                                                                          4268\n",
       "Poland                                                                                                           4234\n",
       "Lithuania                                                                                                        4230\n",
       "Cyprus                                                                                                           4228\n",
       "Romania                                                                                                          4186\n",
       "Euro area (EA11-1999, EA12-2001, EA13-2007, EA15-2008, EA16-2009, EA17-2011, EA18-2014, EA19-2015, EA20-2023)    4098\n",
       "Malta                                                                                                            4088\n",
       "Bulgaria                                                                                                         4082\n",
       "Belgium                                                                                                          4080\n",
       "European Union - 27 countries (from 2020)                                                                        3868\n",
       "Türkiye                                                                                                          3864\n",
       "Croatia                                                                                                          3838\n",
       "France                                                                                                           3746\n",
       "United Kingdom                                                                                                   3714\n",
       "North Macedonia                                                                                                  3467\n",
       "Iceland                                                                                                          3188\n",
       "European Union - 28 countries (2013-2020)                                                                        2688\n",
       "Serbia                                                                                                           2352\n",
       "Montenegro                                                                                                       1918\n",
       "Albania                                                                                                          1296\n",
       "Bosnia and Herzegovina                                                                                           1232\n",
       "Switzerland                                                                                                      1078\n",
       "Kosovo*                                                                                                           840\n",
       "Name: count, dtype: int64"
      ]
     },
     "execution_count": 37,
     "metadata": {},
     "output_type": "execute_result"
    }
   ],
   "source": [
    "df_eu['Entidad'].value_counts()"
   ]
  },
  {
   "cell_type": "code",
   "execution_count": 38,
   "metadata": {},
   "outputs": [],
   "source": [
    "#eliminamos Euro area (EA11-1999, EA12-2001, EA13-2007, EA15-2008 .....):\n",
    "df_eu= df_eu[df_eu['Entidad'] != 'Euro area (EA11-1999, EA12-2001, EA13-2007, EA15-2008, EA16-2009, EA17-2011, EA18-2014, EA19-2015, EA20-2023)']"
   ]
  },
  {
   "cell_type": "code",
   "execution_count": 39,
   "metadata": {},
   "outputs": [],
   "source": [
    "df_eu.to_csv('uso-internet-ue-clean.csv', index=False)"
   ]
  }
 ],
 "metadata": {
  "kernelspec": {
   "display_name": "base",
   "language": "python",
   "name": "python3"
  },
  "language_info": {
   "codemirror_mode": {
    "name": "ipython",
    "version": 3
   },
   "file_extension": ".py",
   "mimetype": "text/x-python",
   "name": "python",
   "nbconvert_exporter": "python",
   "pygments_lexer": "ipython3",
   "version": "3.11.11"
  }
 },
 "nbformat": 4,
 "nbformat_minor": 2
}
