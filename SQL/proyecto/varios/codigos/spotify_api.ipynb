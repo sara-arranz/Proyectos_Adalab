{
 "cells": [
  {
   "cell_type": "code",
   "execution_count": 1,
   "metadata": {},
   "outputs": [
    {
     "name": "stdout",
     "output_type": "stream",
     "text": [
      "Collecting spotipy\n",
      "  Downloading spotipy-2.25.0-py3-none-any.whl.metadata (4.7 kB)\n",
      "Collecting redis>=3.5.3 (from spotipy)\n",
      "  Downloading redis-5.2.1-py3-none-any.whl.metadata (9.1 kB)\n",
      "Requirement already satisfied: requests>=2.25.0 in /Users/sandrasimonmarques/opt/anaconda3/envs/promo49/lib/python3.11/site-packages (from spotipy) (2.32.3)\n",
      "Requirement already satisfied: urllib3>=1.26.0 in /Users/sandrasimonmarques/opt/anaconda3/envs/promo49/lib/python3.11/site-packages (from spotipy) (2.3.0)\n",
      "Requirement already satisfied: charset-normalizer<4,>=2 in /Users/sandrasimonmarques/opt/anaconda3/envs/promo49/lib/python3.11/site-packages (from requests>=2.25.0->spotipy) (3.4.1)\n",
      "Requirement already satisfied: idna<4,>=2.5 in /Users/sandrasimonmarques/opt/anaconda3/envs/promo49/lib/python3.11/site-packages (from requests>=2.25.0->spotipy) (3.10)\n",
      "Requirement already satisfied: certifi>=2017.4.17 in /Users/sandrasimonmarques/opt/anaconda3/envs/promo49/lib/python3.11/site-packages (from requests>=2.25.0->spotipy) (2025.1.31)\n",
      "Downloading spotipy-2.25.0-py3-none-any.whl (30 kB)\n",
      "Downloading redis-5.2.1-py3-none-any.whl (261 kB)\n",
      "Installing collected packages: redis, spotipy\n",
      "Successfully installed redis-5.2.1 spotipy-2.25.0\n",
      "Note: you may need to restart the kernel to use updated packages.\n"
     ]
    }
   ],
   "source": [
    "pip install spotipy"
   ]
  },
  {
   "cell_type": "code",
   "execution_count": 1,
   "metadata": {},
   "outputs": [],
   "source": [
    "import requests\n",
    "\n",
    "import re\n",
    "\n",
    "import spotipy\n",
    "from spotipy.oauth2 import SpotifyClientCredentials"
   ]
  },
  {
   "cell_type": "code",
   "execution_count": 3,
   "metadata": {},
   "outputs": [],
   "source": [
    "# Coloca tus credenciales aquí\n",
    "CLIENT_ID = '90527396d8f84493aae641a416e24f17'\n",
    "CLIENT_SECRET = '0d68e0bcec03408890499dcb774bd3f6'\n",
    "\n",
    "# Autenticación\n",
    "auth_manager = SpotifyClientCredentials(client_id=CLIENT_ID, client_secret=CLIENT_SECRET)\n",
    "sp = spotipy.Spotify(auth_manager=auth_manager)"
   ]
  },
  {
   "cell_type": "markdown",
   "metadata": {},
   "source": [
    "## Endpoint:\n",
    "\n",
    "```python\n",
    "#retomamos la variable sp de arriba que recordamos que es el acceso a la API con el TOKEN:\n",
    "\n",
    "sp.search(q, limit=10, offset=0, type='track', market=None)\n",
    "\n",
    "```\n",
    "`search`: searches for an item\n",
    "\n",
    "*Parameters*:\n",
    "\n",
    "`q`: the search query (see how to write a query in the official documentation https://developer.spotify.com/documentation/web-api/reference/search/) #noqa\n",
    "\n",
    "`limit`: the number of items to return (min = 1, default = 10, max = 50). The limit is applied *within each type*, not on the total response.\n",
    "\n",
    "`offset`: the index of the first item to return.\n",
    "Default: offset = 0\n",
    "Range: 0 - 1000\n",
    "Example: offset=5\n",
    "\n",
    "\n",
    "`type`: the types of items to return. One or more of ‘artist’, ‘album’, ‘track’, ‘playlist’, ‘show’, and ‘episode’. If multiple types are desired, pass in a comma separated string; e.g., ‘track,album,episode’.\n",
    "\n",
    "`market`:  An ISO 3166-1 alpha-2 country code or the string from_token\n",
    "\n",
    "\n",
    "\n",
    "#### Nuestra búsqueda:\n",
    "`q`: \n",
    "- género musical \n",
    "- año\n",
    "\n",
    "`type`: \n",
    "- ¿canción o album? yo cojo CANCION.\n",
    "- artista: puede que no sea necesario ponerlo en el type, si pones directamente 'track' puede que te salga el nombre del artista de esta canción.\n",
    "\n",
    "`market`: ES (de SPAIN conforme a la ISO 3166-1 alpha-2 country code)\n"
   ]
  },
  {
   "cell_type": "markdown",
   "metadata": {},
   "source": [
    "Conforme al enunciado del Proyecto, tenemos que extractar a partir de un año:\n",
    "1. Artista: buscar en el diccionario\n",
    "2. género musical : esto ya lo damos en la q del search\n",
    "3. tipo (canción o álbum). Yo he seleccionado CANCION\n",
    "4. Nombre: en mi caso de la CANCION\n",
    "5. Año de lanzamiento: el año que he buscado: el 2021\n",
    "6. ID: en mi caso de la CANCION."
   ]
  },
  {
   "cell_type": "code",
   "execution_count": null,
   "metadata": {},
   "outputs": [],
   "source": [
    "rock_1 = sp.search(q = \"genre:rock year:2021\", limit=50, offset=0, type = 'track', market='ES') #hago la petición\n"
   ]
  },
  {
   "cell_type": "code",
   "execution_count": 10,
   "metadata": {},
   "outputs": [
    {
     "data": {
      "text/plain": [
       "dict"
      ]
     },
     "execution_count": 10,
     "metadata": {},
     "output_type": "execute_result"
    }
   ],
   "source": [
    "type(rock_1)\n"
   ]
  },
  {
   "cell_type": "code",
   "execution_count": null,
   "metadata": {},
   "outputs": [
    {
     "data": {
      "text/plain": [
       "dict_keys(['album', 'artists', 'disc_number', 'duration_ms', 'explicit', 'external_ids', 'external_urls', 'href', 'id', 'is_local', 'is_playable', 'name', 'popularity', 'preview_url', 'track_number', 'type', 'uri'])"
      ]
     },
     "execution_count": 30,
     "metadata": {},
     "output_type": "execute_result"
    }
   ],
   "source": [
    "rock_1['tracks']['items'][0].keys() #voy a probar todas las Keys() para ver si alguna es útil"
   ]
  },
  {
   "cell_type": "code",
   "execution_count": null,
   "metadata": {},
   "outputs": [
    {
     "data": {
      "text/plain": [
       "'Arde Bogotá'"
      ]
     },
     "execution_count": 34,
     "metadata": {},
     "output_type": "execute_result"
    }
   ],
   "source": [
    "rock_1['tracks']['items'][0]['artists'][0]['name'] #== con este código accedemos al nombre del artista\n",
    "#primer cero a iterar en una lista con un for loop, segundo cero siempre va a ser ceroporque queremos acceder al único elemento de la lista."
   ]
  },
  {
   "cell_type": "code",
   "execution_count": 64,
   "metadata": {},
   "outputs": [
    {
     "data": {
      "text/plain": [
       "'Exoplaneta'"
      ]
     },
     "execution_count": 64,
     "metadata": {},
     "output_type": "execute_result"
    }
   ],
   "source": [
    "rock_1['tracks']['items'][0]['name'] #nombre de la canción"
   ]
  },
  {
   "cell_type": "code",
   "execution_count": null,
   "metadata": {},
   "outputs": [
    {
     "data": {
      "text/plain": [
       "'68PEuXNjodWFts3Ph4BPVv'"
      ]
     },
     "execution_count": 52,
     "metadata": {},
     "output_type": "execute_result"
    }
   ],
   "source": [
    "rock_1['tracks']['items'][0]['id'] #¿este ID es de la canción o del album? Vamos a investigar.\n",
    "#si lo pones en google te sale directamente que es el ID de 'expoplaneta'"
   ]
  },
  {
   "cell_type": "markdown",
   "metadata": {},
   "source": [
    "Hasta ahora, hemos encontrado:\n",
    "\n",
    "- Artista: `rock_1['tracks']['items'][0]['artists'][0]['name']`\n",
    "Si recordamos, al primer [0] se accede iterando y al segundo [0] no es necesario iterar, porque es el valor que nos interesa.\n",
    "\n",
    "- nombre canción: `rock_1['tracks']['items'][0]['name']`\n",
    "\n",
    "- ID canción: `rock_1['tracks']['items'][0]['id']`"
   ]
  },
  {
   "cell_type": "code",
   "execution_count": 92,
   "metadata": {},
   "outputs": [],
   "source": [
    "import pandas as pd"
   ]
  },
  {
   "cell_type": "code",
   "execution_count": 99,
   "metadata": {},
   "outputs": [],
   "source": [
    "def limpiar_datos_rock(llamada_api):\n",
    "    \"\"\" \n",
    "    función para limpiar los datos de la API\n",
    "    \"\"\"\n",
    "#Creamos diciconario vacío que vamos a rellenar con la iteracion:\n",
    "\n",
    "    diccionario_util_rock_2021 = {'género': 'rock', #en este caso, rock es predeterminado, cuando aprendamos a sacar varios géneros musicales a la vez\n",
    "                              'canción': [], #pongo la canción antes que el artista, porque lo importante son las canciones. Puede haber varios artistas por cacion.\n",
    "                              'id_canción': [],\n",
    "                              'artista': []\n",
    "                              }\n",
    "\n",
    "\n",
    "#Iteramos para rellenar el diccionario:\n",
    "    for element in rock_1['tracks']['items']:\n",
    "        diccionario_util_rock_2021['canción'].append(element['name'])\n",
    "        diccionario_util_rock_2021['id_canción'].append(element['id'])\n",
    "        for el in element['artists']:\n",
    "            diccionario_util_rock_2021['artista'].append(el['name'])\n",
    "\n",
    "    return diccionario_util_rock_2021\n",
    "\n",
    "#esto hay que convertirlo en DataFrame pero como todos los elementos no tienen la misma len no se puede todavía. \n",
    "# Habrá que hacer un if y else diciendo en el else que si no encuentra nada, ponga \"none\""
   ]
  },
  {
   "cell_type": "code",
   "execution_count": 100,
   "metadata": {},
   "outputs": [
    {
     "data": {
      "text/plain": [
       "{'género': 'rock',\n",
       " 'canción': ['Exoplaneta',\n",
       "  'La Gent Que Estimo',\n",
       "  'Gitana',\n",
       "  'Cold Heart - PNAU Remix',\n",
       "  'Elefants',\n",
       "  'Cold Heart - PNAU Remix',\n",
       "  'Abajo',\n",
       "  'Te debo una canción',\n",
       "  'La sonrisa intacta',\n",
       "  'El Beso',\n",
       "  'Viaje Sin Vuelta',\n",
       "  'I WANNA BE YOUR SLAVE',\n",
       "  'La Boca Junta',\n",
       "  'Me Quedo Contigo',\n",
       "  'Enemy (with JID) - from the series Arcane League of Legends',\n",
       "  'Millennial',\n",
       "  'Inercia',\n",
       "  'Miraflores',\n",
       "  'Cielo hermético',\n",
       "  'La Isla del Deseo',\n",
       "  'Tobogan',\n",
       "  'Tan Alto Como Tus Dudas',\n",
       "  'Me Sabe Mal',\n",
       "  'Finisterre',\n",
       "  'De Bonesh',\n",
       "  'La Quiero a Morir',\n",
       "  'Petar-ho',\n",
       "  'Volver a ser Romeo (feat. Galvan Real)',\n",
       "  'Me Sabe Mal - Remix',\n",
       "  \"T'he Trobat a Faltar\",\n",
       "  'ZITTI E BUONI',\n",
       "  'El Único Habitante de tu Piel',\n",
       "  'Diazepam',\n",
       "  'Wake Up',\n",
       "  'Por si las Moscas',\n",
       "  'CORALINE',\n",
       "  'Premio de Consolación',\n",
       "  'La Electricidad',\n",
       "  'De Perreo',\n",
       "  'A quemarropa',\n",
       "  'Valientes de Sofá',\n",
       "  'Histéricos',\n",
       "  'Te Lo Dije de Verdad',\n",
       "  'La sonrisa intacta',\n",
       "  'Run',\n",
       "  'cuídate',\n",
       "  'Flecha',\n",
       "  'Procuro Olvidarte',\n",
       "  'Enemy - From the series Arcane League of Legends',\n",
       "  'Stranger Things'],\n",
       " 'id_canción': ['68PEuXNjodWFts3Ph4BPVv',\n",
       "  '2aTvlIMGoo2L9x5YzJNjj5',\n",
       "  '1voueLCs7g2cD8NLHg1Iz7',\n",
       "  '6zSpb8dQRaw0M1dK8PBwQz',\n",
       "  '7aMxgxCCbkmtRpNNB5OWgY',\n",
       "  '6JIC3hbC28JZKZ8AlAqX8h',\n",
       "  '45ucex4am8ru040h5mhxuo',\n",
       "  '6E4Z9YuZz9VA7NxXxshXQx',\n",
       "  '52Pxn490S6sTjhXgyfeSbk',\n",
       "  '325R4okpFnhCZ8guXOH0Ah',\n",
       "  '0Wb8sPg5hVeroHV6n1oY9F',\n",
       "  '4pt5fDVTg5GhEvEtlz9dKk',\n",
       "  '0rFD2VyCIu2ToXbkvlsKJv',\n",
       "  '5D0JfdpGhV0zLQicft0rE2',\n",
       "  '1r9xUipOqoNwggBpENDsvJ',\n",
       "  '7JQT8PH2xysd0MXWNyIfNd',\n",
       "  '0vz6zBI9fKo2vTWCUJKz4P',\n",
       "  '78CC6Od9HAoF0wy16X3gzr',\n",
       "  '2O82EzPmpQZfWO0hfTHOJL',\n",
       "  '2SQMJ3ht2GGQwHwm9q9dfa',\n",
       "  '4VTUvh41TeBWemxxBHGxOV',\n",
       "  '7e9xg44WcBozcJYlfJY9QY',\n",
       "  '53w7xjn8fwwU8Pc6rgMm5v',\n",
       "  '5FhTo7yj2umChnDdqch8oG',\n",
       "  '5ObiVsgtKaynGBIVwjzhGb',\n",
       "  '78sSlHHLTGwIZKEOr0YG6l',\n",
       "  '6uA2ws8LIx8zUMEsBwEWAA',\n",
       "  '0TzLYdOfR2fAnmDDVTSjOX',\n",
       "  '5tyngIB1CqMV6xWIfWRqEi',\n",
       "  '0Pub20AwouQspBTdtFKa55',\n",
       "  '776AftMmFFAWUIEAb3lHhw',\n",
       "  '74YS8i2OcE6nnVj0uqigSp',\n",
       "  '2KrXkY8yRsncGk2kXPD4Zt',\n",
       "  '2jFX7KfdsikRQRzdqKGvqw',\n",
       "  '3exoEpRfk1AzrA8EHEOA3X',\n",
       "  '7HMz8o0m7ASQ3ImFPfhWTY',\n",
       "  '5gcUEklXEEtWnkjRfKzMvi',\n",
       "  '0E3qf8HoJc2I7637mxgXjA',\n",
       "  '7Men0McTVqAHxfVrRCzb41',\n",
       "  '4h9mtgPAhoROcGA0OR1tay',\n",
       "  '7jfMSrCnMhdwqpFEV3woIu',\n",
       "  '0b7VF2YIpjMOtcTh2NAPX7',\n",
       "  '1oVsCWIwjVF2k6NHkeq4rM',\n",
       "  '6r72Bmd4lhdCmCY0D0DNxd',\n",
       "  '6KL88T4Ma4ABXqzgUoEwkd',\n",
       "  '5D7hSm0LjrDq1OcDtXpKbE',\n",
       "  '1vmSs9UqHEF09fw75pDVXG',\n",
       "  '2Vtm9P7GZ38baY6UnZfH7W',\n",
       "  '5UlnuulVAVmmesw4VzqHdG',\n",
       "  '011dHmNnbheqKSHDVlEAHn'],\n",
       " 'artista': ['Arde Bogotá',\n",
       "  'Oques Grasses',\n",
       "  'Rita Payés',\n",
       "  'MARLENA',\n",
       "  'Elton John',\n",
       "  'Dua Lipa',\n",
       "  'PNAU',\n",
       "  'Oques Grasses',\n",
       "  'Elton John',\n",
       "  'Dua Lipa',\n",
       "  'PNAU',\n",
       "  'Arde Bogotá',\n",
       "  'Shinova',\n",
       "  'Shinova',\n",
       "  'Arde Bogotá',\n",
       "  'Paula Mattheus',\n",
       "  'Pol 3.14',\n",
       "  'Måneskin',\n",
       "  'Melendi',\n",
       "  'Mau y Ricky',\n",
       "  'Miguel Campello',\n",
       "  'Imagine Dragons',\n",
       "  'JID',\n",
       "  'Arcane',\n",
       "  'League of Legends',\n",
       "  'Arde Bogotá',\n",
       "  'IZAL',\n",
       "  'La Maravillosa Orquesta del Alcohol',\n",
       "  'Fito y Fitipaldis',\n",
       "  'Comandante Twin',\n",
       "  'Arde Bogotá',\n",
       "  'ZOO',\n",
       "  'Arde Bogotá',\n",
       "  'MARLENA',\n",
       "  'Vetusta Morla',\n",
       "  'Oques Grasses',\n",
       "  'Miguel Campello',\n",
       "  'Oques Grasses',\n",
       "  'Maki',\n",
       "  'Galvan Real',\n",
       "  'MARLENA',\n",
       "  'Bombai',\n",
       "  'Buhos',\n",
       "  'En Tol Sarmiento',\n",
       "  'Måneskin',\n",
       "  'Melendi',\n",
       "  'Carlos Rivera',\n",
       "  'Leiva',\n",
       "  'Natalia Lafourcade',\n",
       "  'Oques Grasses',\n",
       "  'Stay Homas',\n",
       "  'Melendi',\n",
       "  'Guaynaa',\n",
       "  'Måneskin',\n",
       "  'Leiva',\n",
       "  'Natalia Lacunza',\n",
       "  'Melendi',\n",
       "  'Aitana',\n",
       "  'Marlon',\n",
       "  'Fito y Fitipaldis',\n",
       "  'Paula Mattheus',\n",
       "  'Leiva',\n",
       "  'Ximena Sariñana',\n",
       "  'Paula Mattheus',\n",
       "  'Shinova',\n",
       "  'OneRepublic',\n",
       "  'Valeria Castro',\n",
       "  'Leiva',\n",
       "  'Elsa y Elmar',\n",
       "  'Miguel Campello',\n",
       "  'Imagine Dragons',\n",
       "  'Arcane',\n",
       "  'League of Legends',\n",
       "  'Leiva',\n",
       "  'Zahara']}"
      ]
     },
     "execution_count": 100,
     "metadata": {},
     "output_type": "execute_result"
    }
   ],
   "source": [
    "limpiar_datos_rock(rock_1)"
   ]
  }
 ],
 "metadata": {
  "kernelspec": {
   "display_name": "promo49",
   "language": "python",
   "name": "python3"
  },
  "language_info": {
   "codemirror_mode": {
    "name": "ipython",
    "version": 3
   },
   "file_extension": ".py",
   "mimetype": "text/x-python",
   "name": "python",
   "nbconvert_exporter": "python",
   "pygments_lexer": "ipython3",
   "version": "3.11.11"
  }
 },
 "nbformat": 4,
 "nbformat_minor": 2
}
