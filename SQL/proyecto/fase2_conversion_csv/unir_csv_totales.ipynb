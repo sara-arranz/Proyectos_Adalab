{
 "cells": [
  {
   "cell_type": "code",
   "execution_count": 1,
   "metadata": {},
   "outputs": [],
   "source": [
    "import pandas as pd"
   ]
  },
  {
   "cell_type": "code",
   "execution_count": 14,
   "metadata": {},
   "outputs": [],
   "source": [
    "#cada una pone su cvs de lastFM y luego igual de spotipy\n",
    "df1=pd.read_csv(\"csv_last_fm/2020/indie20_artist_getinfo.csv\")\n",
    "df2=pd.read_csv(\"csv_last_fm/2020/pop20_artist_getinfo.csv\")\n",
    "df3=pd.read_csv(\"csv_last_fm/2020/rap20_artist_getinfo.csv\")\n",
    "df4=pd.read_csv(\"csv_last_fm/2020/reggaeton20_artist_getinfo.csv\")"
   ]
  },
  {
   "cell_type": "code",
   "execution_count": 15,
   "metadata": {},
   "outputs": [],
   "source": [
    "result = pd.concat([df1, df2, df3,df4], ignore_index=False)"
   ]
  },
  {
   "cell_type": "code",
   "execution_count": 16,
   "metadata": {},
   "outputs": [],
   "source": [
    "result.to_csv(\"total_datos_lastFM_2020.csv\")"
   ]
  }
 ],
 "metadata": {
  "kernelspec": {
   "display_name": "base",
   "language": "python",
   "name": "python3"
  },
  "language_info": {
   "codemirror_mode": {
    "name": "ipython",
    "version": 3
   },
   "file_extension": ".py",
   "mimetype": "text/x-python",
   "name": "python",
   "nbconvert_exporter": "python",
   "pygments_lexer": "ipython3",
   "version": "3.12.7"
  }
 },
 "nbformat": 4,
 "nbformat_minor": 2
}
