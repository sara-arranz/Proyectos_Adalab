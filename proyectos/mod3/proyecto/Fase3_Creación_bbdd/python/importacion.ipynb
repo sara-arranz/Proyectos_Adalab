{
 "cells": [
  {
   "cell_type": "code",
   "execution_count": 1,
   "metadata": {},
   "outputs": [],
   "source": [
    "import pandas as pd \n",
    "import numpy as np\n",
    "from IPython.display import display  "
   ]
  },
  {
   "cell_type": "code",
   "execution_count": 2,
   "metadata": {},
   "outputs": [],
   "source": [
    "df = pd.read_csv('bbdd_data.csv')"
   ]
  },
  {
   "cell_type": "code",
   "execution_count": 3,
   "metadata": {},
   "outputs": [
    {
     "data": {
      "text/plain": [
       "Index(['age', 'attrition', 'business_travel', 'daily_rate', 'department',\n",
       "       'distance_from_home', 'education', 'education_field', 'employee_count',\n",
       "       'employee_number', 'environment_satisfaction', 'gender', 'hourly_rate',\n",
       "       'job_involvement_level', 'job_level', 'job_role', 'job_satisfaction',\n",
       "       'marital_status', 'monthly_income', 'monthly_rate',\n",
       "       'num_companies_worked', 'over_18', 'overtime', 'percent_salary_hike',\n",
       "       'performance_rating', 'relationship_satisfaction', 'standard_hours',\n",
       "       'stock_option_level', 'total_working_years', 'training_times_last_year',\n",
       "       'work_life_balance', 'years_at_company', 'years_in_current_role',\n",
       "       'years_since_last_promotion', 'years_with_curr_manager',\n",
       "       'same_as_monthly_income', 'date_birth', 'salary', 'role_department',\n",
       "       'number_children', 'remote_work'],\n",
       "      dtype='object')"
      ]
     },
     "execution_count": 3,
     "metadata": {},
     "output_type": "execute_result"
    }
   ],
   "source": [
    "df.columns"
   ]
  },
  {
   "cell_type": "code",
   "execution_count": 4,
   "metadata": {},
   "outputs": [
    {
     "data": {
      "text/plain": [
       "age                             int64\n",
       "attrition                      object\n",
       "business_travel                object\n",
       "daily_rate                    float64\n",
       "department                     object\n",
       "distance_from_home              int64\n",
       "education                       int64\n",
       "education_field                object\n",
       "employee_count                  int64\n",
       "employee_number                 int64\n",
       "environment_satisfaction      float64\n",
       "gender                         object\n",
       "hourly_rate                   float64\n",
       "job_involvement_level           int64\n",
       "job_level                       int64\n",
       "job_role                       object\n",
       "job_satisfaction                int64\n",
       "marital_status                 object\n",
       "monthly_income                float64\n",
       "monthly_rate                  float64\n",
       "num_companies_worked            int64\n",
       "over_18                        object\n",
       "overtime                       object\n",
       "percent_salary_hike             int64\n",
       "performance_rating            float64\n",
       "relationship_satisfaction       int64\n",
       "standard_hours                 object\n",
       "stock_option_level              int64\n",
       "total_working_years           float64\n",
       "training_times_last_year        int64\n",
       "work_life_balance             float64\n",
       "years_at_company                int64\n",
       "years_in_current_role         float64\n",
       "years_since_last_promotion      int64\n",
       "years_with_curr_manager         int64\n",
       "same_as_monthly_income        float64\n",
       "date_birth                      int64\n",
       "salary                        float64\n",
       "role_department                object\n",
       "number_children               float64\n",
       "remote_work                    object\n",
       "dtype: object"
      ]
     },
     "execution_count": 4,
     "metadata": {},
     "output_type": "execute_result"
    }
   ],
   "source": [
    "df.dtypes"
   ]
  },
  {
   "cell_type": "code",
   "execution_count": 5,
   "metadata": {},
   "outputs": [],
   "source": [
    "import mysql.connector\n",
    "from mysql.connector import errorcode"
   ]
  },
  {
   "cell_type": "code",
   "execution_count": 7,
   "metadata": {},
   "outputs": [],
   "source": [
    "cnx = mysql.connector.connect(user='root', password='AlumnaAdalab', #carretera de unión\n",
    "                            host='127.0.0.1',\n",
    "                            database ='ABC_company')\n",
    "\n",
    "mycursor = cnx.cursor() # creamos el \"camioncito que transporta\""
   ]
  },
  {
   "cell_type": "code",
   "execution_count": null,
   "metadata": {},
   "outputs": [],
   "source": [
    "# Insertar en la tabla 'employees'\n",
    "#for index, row in df.iterrows():\n",
    "    #try:\n",
    "        #sql_employees = \"\"\"\n",
    "        #INSERT INTO employees (employee_number, age, gender, marital_status, over18, date_of_birth)\n",
    "        #VALUES (%s, %s, %s, %s, %s, %s)\n",
    "        #\"\"\"\n",
    "        # Convertir la fila en tupla\n",
    "        #values_employees = (row['employee_number'], row['age'], row['gender'], row['marital_status'], row['over_18'], row['date_birth'])\n",
    "        #mycursor.execute(sql_employees, values_employees)\n",
    "        #cnx.commit()\n",
    "    #except mysql.connector.Error as err:\n",
    "        #print(f\"Error al insertar en employees: {err}\")\n",
    "        #cnx.rollback()"
   ]
  },
  {
   "cell_type": "code",
   "execution_count": 10,
   "metadata": {},
   "outputs": [],
   "source": [
    "# Insertar en la tabla 'employee_attributes'\n",
    "for index, row in df.iterrows():\n",
    "    try:\n",
    "        sql_employee_attributes = \"\"\"\n",
    "        INSERT INTO employee_attributes (employee_number, job_involvement, job_role, job_level, job_satisfaction, \n",
    "            environment_satisfaction, relationship_satisfaction, work_life_balance, years_at_company, years_in_current_role, \n",
    "            years_since_last_promotion, years_with_current_manager, training_times_last_year, performance_rating)\n",
    "        VALUES (%s, %s, %s, %s, %s, %s, %s, %s, %s, %s, %s, %s, %s, %s)\n",
    "        \"\"\"\n",
    "        # Convertir la fila en tupla\n",
    "        values_employee_attributes = (\n",
    "            row['employee_number'], row['job_involvement_level'], row['job_role'], row['job_level'], row['job_satisfaction'],\n",
    "            row['environment_satisfaction'], row['relationship_satisfaction'], row['work_life_balance'], row['years_at_company'],\n",
    "            row['years_in_current_role'], row['years_since_last_promotion'], row['years_with_curr_manager'],\n",
    "            row['training_times_last_year'], row['performance_rating']\n",
    "        )\n",
    "        mycursor.execute(sql_employee_attributes, values_employee_attributes)\n",
    "        cnx.commit()\n",
    "    except mysql.connector.Error as err:\n",
    "        print(f\"Error al insertar en employee_attributes: {err}\")\n",
    "        cnx.rollback()\n"
   ]
  },
  {
   "cell_type": "code",
   "execution_count": 11,
   "metadata": {},
   "outputs": [],
   "source": [
    "# Insertar en la tabla 'business_travel'\n",
    "for index, row in df.iterrows():\n",
    "    try:\n",
    "        sql_business_travel = \"\"\"\n",
    "        INSERT INTO business_travel (employee_number, business_travel_status)\n",
    "        VALUES (%s, %s)\n",
    "        \"\"\"\n",
    "        # Convertir la fila en tupla\n",
    "        values_business_travel = (row['employee_number'], row['business_travel'])\n",
    "        mycursor.execute(sql_business_travel, values_business_travel)\n",
    "        cnx.commit()\n",
    "    except mysql.connector.Error as err:\n",
    "        print(f\"Error al insertar en business_travel: {err}\")\n",
    "        cnx.rollback()"
   ]
  },
  {
   "cell_type": "code",
   "execution_count": 12,
   "metadata": {},
   "outputs": [],
   "source": [
    "# Insertar en la tabla 'overtime'\n",
    "for index, row in df.iterrows():\n",
    "    try:\n",
    "        sql_overtime = \"\"\"\n",
    "        INSERT INTO overtime (employee_number, overtime_status)\n",
    "        VALUES (%s, %s)\n",
    "        \"\"\"\n",
    "        # Convertir la fila en tupla\n",
    "        values_overtime = (row['employee_number'], row['overtime'])\n",
    "        mycursor.execute(sql_overtime, values_overtime)\n",
    "        cnx.commit()\n",
    "    except mysql.connector.Error as err:\n",
    "        print(f\"Error al insertar en overtime: {err}\")\n",
    "        cnx.rollback()"
   ]
  },
  {
   "cell_type": "code",
   "execution_count": 13,
   "metadata": {},
   "outputs": [],
   "source": [
    "# Insertar en la tabla 'salaries'\n",
    "for index, row in df.iterrows():\n",
    "    try:\n",
    "        sql_salaries = \"\"\"\n",
    "        INSERT INTO salaries (employee_number, salary, monthly_income, monthly_rate, percent_salary_hike, same_as_monthly_income)\n",
    "        VALUES (%s, %s, %s, %s, %s, %s)\n",
    "        \"\"\"\n",
    "        # Convertir la fila en tupla\n",
    "        values_salaries = (\n",
    "            row['employee_number'], row['salary'], row['monthly_income'], row['monthly_rate'], row['percent_salary_hike'],\n",
    "            row['same_as_monthly_income']\n",
    "        )\n",
    "        mycursor.execute(sql_salaries, values_salaries)\n",
    "        cnx.commit()\n",
    "    except mysql.connector.Error as err:\n",
    "        print(f\"Error al insertar en salaries: {err}\")\n",
    "        cnx.rollback()"
   ]
  },
  {
   "cell_type": "code",
   "execution_count": 14,
   "metadata": {},
   "outputs": [],
   "source": [
    "# Insertar en la tabla 'employee_satisfaction'\n",
    "for index, row in df.iterrows():\n",
    "    try:\n",
    "        sql_employee_satisfaction = \"\"\"\n",
    "        INSERT INTO employee_satisfaction (employee_number, environment_satisfaction, job_satisfaction, \n",
    "            relationship_satisfaction, work_life_balance, performance_rating)\n",
    "        VALUES (%s, %s, %s, %s, %s, %s)\n",
    "        \"\"\"\n",
    "        # Convertir la fila en tupla\n",
    "        values_employee_satisfaction = (\n",
    "            row['employee_number'], row['environment_satisfaction'], row['job_satisfaction'], row['relationship_satisfaction'],\n",
    "            row['work_life_balance'], row['performance_rating']\n",
    "        )\n",
    "        mycursor.execute(sql_employee_satisfaction, values_employee_satisfaction)\n",
    "        cnx.commit()\n",
    "    except mysql.connector.Error as err:\n",
    "        print(f\"Error al insertar en employee_satisfaction: {err}\")\n",
    "        cnx.rollback()"
   ]
  },
  {
   "cell_type": "code",
   "execution_count": 15,
   "metadata": {},
   "outputs": [],
   "source": [
    "# Cerrar el cursor y la conexión\n",
    "mycursor.close()\n",
    "cnx.close()"
   ]
  }
 ],
 "metadata": {
  "kernelspec": {
   "display_name": "base",
   "language": "python",
   "name": "python3"
  },
  "language_info": {
   "codemirror_mode": {
    "name": "ipython",
    "version": 3
   },
   "file_extension": ".py",
   "mimetype": "text/x-python",
   "name": "python",
   "nbconvert_exporter": "python",
   "pygments_lexer": "ipython3",
   "version": "3.11.11"
  }
 },
 "nbformat": 4,
 "nbformat_minor": 2
}
