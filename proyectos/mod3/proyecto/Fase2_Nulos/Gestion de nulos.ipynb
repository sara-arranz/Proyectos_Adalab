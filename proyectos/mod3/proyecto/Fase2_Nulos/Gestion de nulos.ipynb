{
 "cells": [
  {
   "cell_type": "markdown",
   "metadata": {},
   "source": [
    "# Gestion de Nulos:"
   ]
  },
  {
   "cell_type": "code",
   "execution_count": 1,
   "metadata": {},
   "outputs": [],
   "source": [
    "import pandas as pd\n",
    "import numpy as np\n",
    "\n",
    "\n",
    "from sklearn.impute import SimpleImputer\n",
    "from sklearn.experimental import enable_iterative_imputer\n",
    "from sklearn.impute import IterativeImputer\n",
    "from sklearn.impute import KNNImputer\n",
    "\n",
    "import seaborn as sns\n",
    "import matplotlib.pyplot as plt"
   ]
  },
  {
   "cell_type": "markdown",
   "metadata": {},
   "source": [
    "* Para comenzar el análsiis leímos del archivo CSV el cual contenía la información de los empleados a analizar."
   ]
  },
  {
   "cell_type": "code",
   "execution_count": 2,
   "metadata": {},
   "outputs": [],
   "source": [
    "df_original = pd.read_csv(\"files/cleaned_data.csv\", index_col=0) # o la ruta completa si está en una carpeta"
   ]
  },
  {
   "cell_type": "code",
   "execution_count": 4,
   "metadata": {},
   "outputs": [
    {
     "data": {
      "text/plain": [
       "Index(['employee_turnover', 'business_travel_frequency', 'daily_rate',\n",
       "       'distance_from_home_km', 'education_level', 'education_field',\n",
       "       'remove_column', 'employee_id', 'environmental_satisfaction_level',\n",
       "       'gender', 'hourly_rate', 'job_involvement_level', 'job_level',\n",
       "       'job_role', 'job_satisfaction_level', 'marital_status',\n",
       "       'monthly_income', 'monthly_rate', 'num_companies_worked', 'over_18',\n",
       "       'percent_salary_hike', 'relationship_satisfaction_level',\n",
       "       'stock_option_level', 'training_sessions_last_year', 'years_at_company',\n",
       "       'years_since_last_promotion', 'years_with_current_manager',\n",
       "       'birth_year', 'overtime_hours', 'performance_rating',\n",
       "       'standard_work_hours', 'total_years_worked', 'work_life_balance',\n",
       "       'same_as_monthly_income', 'annual_salary', 'remote_work'],\n",
       "      dtype='object')"
      ]
     },
     "execution_count": 4,
     "metadata": {},
     "output_type": "execute_result"
    }
   ],
   "source": [
    "df_original.columns"
   ]
  },
  {
   "cell_type": "code",
   "execution_count": 5,
   "metadata": {},
   "outputs": [],
   "source": [
    "# elimino duplicados en la columna employee_id:\n",
    "\n",
    "df = df_original.drop_duplicates(\"employee_id\")"
   ]
  },
  {
   "cell_type": "code",
   "execution_count": 6,
   "metadata": {},
   "outputs": [
    {
     "data": {
      "text/plain": [
       "np.int64(64)"
      ]
     },
     "execution_count": 6,
     "metadata": {},
     "output_type": "execute_result"
    }
   ],
   "source": [
    "# reviso que ya no hayan duplicados.\n",
    "\n",
    "df_original[\"employee_id\"].duplicated().sum()\n"
   ]
  },
  {
   "cell_type": "code",
   "execution_count": 7,
   "metadata": {},
   "outputs": [
    {
     "name": "stdout",
     "output_type": "stream",
     "text": [
      "Filas antes: 1678\n",
      "Filas después: 1614\n"
     ]
    }
   ],
   "source": [
    "print(\"Filas antes:\", df_original.shape[0])\n",
    "print(\"Filas después:\", df.shape[0])"
   ]
  },
  {
   "cell_type": "code",
   "execution_count": 8,
   "metadata": {},
   "outputs": [
    {
     "data": {
      "text/plain": [
       "Index(['employee_turnover', 'business_travel_frequency', 'daily_rate',\n",
       "       'distance_from_home_km', 'education_level', 'education_field',\n",
       "       'remove_column', 'employee_id', 'environmental_satisfaction_level',\n",
       "       'gender', 'hourly_rate', 'job_involvement_level', 'job_level',\n",
       "       'job_role', 'job_satisfaction_level', 'marital_status',\n",
       "       'monthly_income', 'monthly_rate', 'num_companies_worked', 'over_18',\n",
       "       'percent_salary_hike', 'relationship_satisfaction_level',\n",
       "       'stock_option_level', 'training_sessions_last_year', 'years_at_company',\n",
       "       'years_since_last_promotion', 'years_with_current_manager',\n",
       "       'birth_year', 'overtime_hours', 'performance_rating',\n",
       "       'standard_work_hours', 'total_years_worked', 'work_life_balance',\n",
       "       'same_as_monthly_income', 'annual_salary', 'remote_work'],\n",
       "      dtype='object')"
      ]
     },
     "execution_count": 8,
     "metadata": {},
     "output_type": "execute_result"
    }
   ],
   "source": [
    "df.columns"
   ]
  },
  {
   "cell_type": "code",
   "execution_count": 9,
   "metadata": {},
   "outputs": [],
   "source": [
    "columnas_utiles = [\"employee_turnover\", \"business_travel_frequency\", \"distance_from_home_km\", \"education_level\", \"environmental_satisfaction_level\", \"gender\", \"job_involvement_level\", \"job_level\", \n",
    "                   \"job_satisfaction_level\", \"marital_status\",  \"num_companies_worked\", \"overtime_hours\", \"percent_salary_hike\", \"standard_work_hours\", \"stock_option_level\", \n",
    "                   \"training_sessions_last_year\", \"years_at_company\", \"years_with_current_manager\", \"birth_year\", \"remote_work\", \"total_years_worked\", \"annual_salary\", \"work_life_balance\"\n",
    "]\n",
    "\n",
    "df_filtrado = df[columnas_utiles]\n"
   ]
  },
  {
   "cell_type": "code",
   "execution_count": 10,
   "metadata": {},
   "outputs": [
    {
     "data": {
      "text/plain": [
       "(1678, 36)"
      ]
     },
     "execution_count": 10,
     "metadata": {},
     "output_type": "execute_result"
    }
   ],
   "source": [
    "df_original.shape\n"
   ]
  },
  {
   "cell_type": "code",
   "execution_count": 11,
   "metadata": {},
   "outputs": [
    {
     "data": {
      "text/plain": [
       "(1614, 23)"
      ]
     },
     "execution_count": 11,
     "metadata": {},
     "output_type": "execute_result"
    }
   ],
   "source": [
    "df_filtrado.shape # hay menos filas porque hemos eliminado los duplicados de employee_id"
   ]
  },
  {
   "cell_type": "code",
   "execution_count": 12,
   "metadata": {},
   "outputs": [
    {
     "data": {
      "text/html": [
       "<div>\n",
       "<style scoped>\n",
       "    .dataframe tbody tr th:only-of-type {\n",
       "        vertical-align: middle;\n",
       "    }\n",
       "\n",
       "    .dataframe tbody tr th {\n",
       "        vertical-align: top;\n",
       "    }\n",
       "\n",
       "    .dataframe thead th {\n",
       "        text-align: right;\n",
       "    }\n",
       "</style>\n",
       "<table border=\"1\" class=\"dataframe\">\n",
       "  <thead>\n",
       "    <tr style=\"text-align: right;\">\n",
       "      <th></th>\n",
       "      <th>employee_turnover</th>\n",
       "      <th>business_travel_frequency</th>\n",
       "      <th>distance_from_home_km</th>\n",
       "      <th>education_level</th>\n",
       "      <th>environmental_satisfaction_level</th>\n",
       "      <th>gender</th>\n",
       "      <th>job_involvement_level</th>\n",
       "      <th>job_level</th>\n",
       "      <th>job_satisfaction_level</th>\n",
       "      <th>marital_status</th>\n",
       "      <th>...</th>\n",
       "      <th>standard_work_hours</th>\n",
       "      <th>stock_option_level</th>\n",
       "      <th>training_sessions_last_year</th>\n",
       "      <th>years_at_company</th>\n",
       "      <th>years_with_current_manager</th>\n",
       "      <th>birth_year</th>\n",
       "      <th>remote_work</th>\n",
       "      <th>total_years_worked</th>\n",
       "      <th>annual_salary</th>\n",
       "      <th>work_life_balance</th>\n",
       "    </tr>\n",
       "    <tr>\n",
       "      <th>age</th>\n",
       "      <th></th>\n",
       "      <th></th>\n",
       "      <th></th>\n",
       "      <th></th>\n",
       "      <th></th>\n",
       "      <th></th>\n",
       "      <th></th>\n",
       "      <th></th>\n",
       "      <th></th>\n",
       "      <th></th>\n",
       "      <th></th>\n",
       "      <th></th>\n",
       "      <th></th>\n",
       "      <th></th>\n",
       "      <th></th>\n",
       "      <th></th>\n",
       "      <th></th>\n",
       "      <th></th>\n",
       "      <th></th>\n",
       "      <th></th>\n",
       "      <th></th>\n",
       "    </tr>\n",
       "  </thead>\n",
       "  <tbody>\n",
       "    <tr>\n",
       "      <th>51</th>\n",
       "      <td>no</td>\n",
       "      <td>NaN</td>\n",
       "      <td>6.0</td>\n",
       "      <td>3</td>\n",
       "      <td>1.0</td>\n",
       "      <td>male</td>\n",
       "      <td>3</td>\n",
       "      <td>5</td>\n",
       "      <td>3</td>\n",
       "      <td>NaN</td>\n",
       "      <td>...</td>\n",
       "      <td>full_time</td>\n",
       "      <td>0</td>\n",
       "      <td>5</td>\n",
       "      <td>20</td>\n",
       "      <td>15</td>\n",
       "      <td>1972</td>\n",
       "      <td>yes</td>\n",
       "      <td>NaN</td>\n",
       "      <td>195370.0</td>\n",
       "      <td>3.0</td>\n",
       "    </tr>\n",
       "    <tr>\n",
       "      <th>52</th>\n",
       "      <td>no</td>\n",
       "      <td>NaN</td>\n",
       "      <td>1.0</td>\n",
       "      <td>4</td>\n",
       "      <td>3.0</td>\n",
       "      <td>male</td>\n",
       "      <td>2</td>\n",
       "      <td>5</td>\n",
       "      <td>3</td>\n",
       "      <td>NaN</td>\n",
       "      <td>...</td>\n",
       "      <td>none</td>\n",
       "      <td>1</td>\n",
       "      <td>5</td>\n",
       "      <td>33</td>\n",
       "      <td>9</td>\n",
       "      <td>1971</td>\n",
       "      <td>yes</td>\n",
       "      <td>34.0</td>\n",
       "      <td>199990.0</td>\n",
       "      <td>3.0</td>\n",
       "    </tr>\n",
       "    <tr>\n",
       "      <th>42</th>\n",
       "      <td>no</td>\n",
       "      <td>travel_rarely</td>\n",
       "      <td>4.0</td>\n",
       "      <td>2</td>\n",
       "      <td>3.0</td>\n",
       "      <td>male</td>\n",
       "      <td>3</td>\n",
       "      <td>5</td>\n",
       "      <td>4</td>\n",
       "      <td>married</td>\n",
       "      <td>...</td>\n",
       "      <td>none</td>\n",
       "      <td>0</td>\n",
       "      <td>3</td>\n",
       "      <td>22</td>\n",
       "      <td>15</td>\n",
       "      <td>1981</td>\n",
       "      <td>yes</td>\n",
       "      <td>22.0</td>\n",
       "      <td>192320.0</td>\n",
       "      <td>NaN</td>\n",
       "    </tr>\n",
       "  </tbody>\n",
       "</table>\n",
       "<p>3 rows × 23 columns</p>\n",
       "</div>"
      ],
      "text/plain": [
       "    employee_turnover business_travel_frequency  distance_from_home_km  \\\n",
       "age                                                                      \n",
       "51                 no                       NaN                    6.0   \n",
       "52                 no                       NaN                    1.0   \n",
       "42                 no             travel_rarely                    4.0   \n",
       "\n",
       "     education_level  environmental_satisfaction_level gender  \\\n",
       "age                                                             \n",
       "51                 3                               1.0   male   \n",
       "52                 4                               3.0   male   \n",
       "42                 2                               3.0   male   \n",
       "\n",
       "     job_involvement_level  job_level  job_satisfaction_level marital_status  \\\n",
       "age                                                                            \n",
       "51                       3          5                       3            NaN   \n",
       "52                       2          5                       3            NaN   \n",
       "42                       3          5                       4        married   \n",
       "\n",
       "     ...  standard_work_hours stock_option_level  training_sessions_last_year  \\\n",
       "age  ...                                                                        \n",
       "51   ...            full_time                  0                            5   \n",
       "52   ...                 none                  1                            5   \n",
       "42   ...                 none                  0                            3   \n",
       "\n",
       "    years_at_company  years_with_current_manager  birth_year  remote_work  \\\n",
       "age                                                                         \n",
       "51                20                          15        1972          yes   \n",
       "52                33                           9        1971          yes   \n",
       "42                22                          15        1981          yes   \n",
       "\n",
       "     total_years_worked  annual_salary work_life_balance  \n",
       "age                                                       \n",
       "51                  NaN       195370.0               3.0  \n",
       "52                 34.0       199990.0               3.0  \n",
       "42                 22.0       192320.0               NaN  \n",
       "\n",
       "[3 rows x 23 columns]"
      ]
     },
     "execution_count": 12,
     "metadata": {},
     "output_type": "execute_result"
    }
   ],
   "source": [
    "df_filtrado.head(3)"
   ]
  },
  {
   "cell_type": "code",
   "execution_count": 13,
   "metadata": {},
   "outputs": [
    {
     "data": {
      "text/plain": [
       "business_travel_frequency           772\n",
       "marital_status                      651\n",
       "total_years_worked                  526\n",
       "annual_salary                       274\n",
       "distance_from_home_km               192\n",
       "work_life_balance                   108\n",
       "environmental_satisfaction_level    100\n",
       "stock_option_level                    0\n",
       "remote_work                           0\n",
       "birth_year                            0\n",
       "years_with_current_manager            0\n",
       "years_at_company                      0\n",
       "training_sessions_last_year           0\n",
       "employee_turnover                     0\n",
       "standard_work_hours                   0\n",
       "percent_salary_hike                   0\n",
       "num_companies_worked                  0\n",
       "job_satisfaction_level                0\n",
       "job_level                             0\n",
       "job_involvement_level                 0\n",
       "gender                                0\n",
       "education_level                       0\n",
       "overtime_hours                        0\n",
       "dtype: int64"
      ]
     },
     "execution_count": 13,
     "metadata": {},
     "output_type": "execute_result"
    }
   ],
   "source": [
    "df_filtrado.isnull().sum().sort_values(ascending=False)\n"
   ]
  },
  {
   "cell_type": "code",
   "execution_count": 14,
   "metadata": {},
   "outputs": [
    {
     "data": {
      "text/plain": [
       "business_travel_frequency           772\n",
       "distance_from_home_km               192\n",
       "environmental_satisfaction_level    100\n",
       "marital_status                      651\n",
       "total_years_worked                  526\n",
       "annual_salary                       274\n",
       "work_life_balance                   108\n",
       "dtype: int64"
      ]
     },
     "execution_count": 14,
     "metadata": {},
     "output_type": "execute_result"
    }
   ],
   "source": [
    "# para sacar solo las columnas que tienen nulos\n",
    "\n",
    "df_filtrado.isnull().sum()[df_filtrado.isnull().sum() > 0]\n"
   ]
  },
  {
   "cell_type": "code",
   "execution_count": 15,
   "metadata": {},
   "outputs": [
    {
     "data": {
      "text/plain": [
       "business_travel_frequency           772\n",
       "marital_status                      651\n",
       "total_years_worked                  526\n",
       "annual_salary                       274\n",
       "distance_from_home_km               192\n",
       "work_life_balance                   108\n",
       "environmental_satisfaction_level    100\n",
       "dtype: int64"
      ]
     },
     "execution_count": 15,
     "metadata": {},
     "output_type": "execute_result"
    }
   ],
   "source": [
    "# saco solo los nulos en orden descendente:\n",
    "\n",
    "df_filtrado.isnull().sum()[df_filtrado.isnull().sum() > 0].sort_values(ascending=False)\n"
   ]
  },
  {
   "cell_type": "code",
   "execution_count": 16,
   "metadata": {},
   "outputs": [
    {
     "data": {
      "text/plain": [
       "business_travel_frequency            object\n",
       "overtime_hours                       object\n",
       "marital_status                       object\n",
       "total_years_worked                  float64\n",
       "standard_work_hours                  object\n",
       "annual_salary                       float64\n",
       "distance_from_home_km               float64\n",
       "work_life_balance                   float64\n",
       "environmental_satisfaction_level    float64\n",
       "dtype: object"
      ]
     },
     "execution_count": 16,
     "metadata": {},
     "output_type": "execute_result"
    }
   ],
   "source": [
    "# vemos de que tipo es cada columna que tiene nulos:\n",
    "\n",
    "df_filtrado[[\"business_travel_frequency\", \"overtime_hours\", \"marital_status\", \"total_years_worked\", \"standard_work_hours\",\"annual_salary\", \"distance_from_home_km\", \"work_life_balance\", \"environmental_satisfaction_level\"]].dtypes"
   ]
  },
  {
   "cell_type": "markdown",
   "metadata": {},
   "source": [
    "## columnas categoricas "
   ]
  },
  {
   "cell_type": "code",
   "execution_count": 17,
   "metadata": {},
   "outputs": [
    {
     "name": "stdout",
     "output_type": "stream",
     "text": [
      "Valores únicos en 'business_travel_frequency':\n",
      "[nan 'travel_rarely' 'travel_frequently' 'non_travel']\n",
      "\n",
      "\n",
      "Valores únicos en 'overtime_hours':\n",
      "['no' 'none' 'yes']\n",
      "\n",
      "\n",
      "Valores únicos en 'marital_status':\n",
      "[nan 'married' 'divorced' 'single']\n",
      "\n",
      "\n",
      "Valores únicos en 'standard_work_hours':\n",
      "['full_time' 'none' 'part_time']\n",
      "\n",
      "\n"
     ]
    }
   ],
   "source": [
    "# Saco los valores unicos de las columnas categoricas:\n",
    "\n",
    "columnas_categoricas = [\n",
    "    \"business_travel_frequency\", \n",
    "    \"overtime_hours\", \n",
    "    \"marital_status\",\n",
    "    \"standard_work_hours\" \n",
    "]\n",
    "\n",
    "for col in columnas_categoricas:\n",
    "    print(f\"Valores únicos en '{col}':\")\n",
    "    print(df_filtrado[col].unique())\n",
    "    print(\"\\n\")\n"
   ]
  },
  {
   "cell_type": "code",
   "execution_count": 18,
   "metadata": {},
   "outputs": [
    {
     "data": {
      "text/plain": [
       "business_travel_frequency    47.83\n",
       "overtime_hours                0.00\n",
       "marital_status               40.33\n",
       "standard_work_hours           0.00\n",
       "dtype: float64"
      ]
     },
     "execution_count": 18,
     "metadata": {},
     "output_type": "execute_result"
    }
   ],
   "source": [
    "# sacamos el porcentaje de valores nulos de las columnas categoricas:\n",
    "\n",
    "round((df_filtrado[[\"business_travel_frequency\", \"overtime_hours\",\"marital_status\", \"standard_work_hours\" ]].isnull().sum() /len(df_filtrado)) *100, 2)\n",
    "\n",
    "# round((df_filtrado[\"overtime_hours\"].isnull().sum() / df_filtrado.shape[0]) * 100, 2) - > tambien podemos hacerlo con shape"
   ]
  },
  {
   "cell_type": "markdown",
   "metadata": {},
   "source": [
    "En las columnas \"business_travel_frequency\", \"overtime_hours\", \"marital_status\"  dejaremos los datos nulos como desconocdidos ya que es un porcentaje de nulos excesivamente alto.\n",
    "Sin embargo, de la columna standard_work_hours, analizaremos los valores de la columna para rellenar los datos nulos."
   ]
  },
  {
   "cell_type": "code",
   "execution_count": 19,
   "metadata": {},
   "outputs": [
    {
     "data": {
      "text/plain": [
       "count          1614\n",
       "unique            3\n",
       "top       part_time\n",
       "freq            888\n",
       "Name: standard_work_hours, dtype: object"
      ]
     },
     "execution_count": 19,
     "metadata": {},
     "output_type": "execute_result"
    }
   ],
   "source": [
    "# ahora trabajamos sobre \"standard_work_hours\"  ya que tiene un 20% de nulos para ver como los sustituimos:\n",
    "\n",
    "df_filtrado[\"standard_work_hours\"].describe().T"
   ]
  },
  {
   "cell_type": "code",
   "execution_count": 20,
   "metadata": {},
   "outputs": [
    {
     "data": {
      "text/plain": [
       "standard_work_hours\n",
       "part_time    55.02\n",
       "full_time    24.04\n",
       "none         20.94\n",
       "Name: proportion, dtype: float64"
      ]
     },
     "execution_count": 20,
     "metadata": {},
     "output_type": "execute_result"
    }
   ],
   "source": [
    "# Para sacar los porcentajes de cada valor unico\n",
    "\n",
    "round(df_filtrado[\"standard_work_hours\"].value_counts(normalize=True, dropna=False) * 100, 2)\n",
    "\n",
    "# con normalize = True, saca la proporcion, multiplico por 100 y tengo el porcentaje. \n",
    "# dropna = False para que incluya los valores nulos."
   ]
  },
  {
   "cell_type": "code",
   "execution_count": 21,
   "metadata": {},
   "outputs": [],
   "source": [
    "# estas columnas tienen mas de un 40% de valores nulos, los cuales los dejaremos como desconocido.\n",
    "# para la columna \"standard_work_hours\", dejaremos los nulos tb como \"Unknown\" porque aun siendo un porcentaje inferior que las anteriores, no se puede establecer un parametro similar.\n",
    "# para uno seria: df_filtrado[\"business_travel_frequency\"] = df_filtrado[\"business_travel_frequency\"].fillna(\"Unknown\")\n",
    "\n",
    "\n",
    "col_nulos_desconocido = [ \"business_travel_frequency\", \"overtime_hours\",\"marital_status\", \"standard_work_hours\"]\n",
    "\n",
    "for columna in col_nulos_desconocido:\n",
    "    df_filtrado.loc[:, columna] = df_filtrado[columna].fillna(\"unknown\") \n",
    "\n",
    "# al ser una copia de otro DF, necesito usar .loc para filtrar sino panda no entiende donde tiene que hacer el cambio.\n",
    "# df_filtrado.loc[:, columna] accede a todas las filas (:) de la columan y las modifica directamente en el Dataframe original.\n",
    "\n"
   ]
  },
  {
   "cell_type": "code",
   "execution_count": 22,
   "metadata": {},
   "outputs": [
    {
     "data": {
      "text/plain": [
       "business_travel_frequency    0.0\n",
       "overtime_hours               0.0\n",
       "marital_status               0.0\n",
       "standard_work_hours          0.0\n",
       "dtype: float64"
      ]
     },
     "execution_count": 22,
     "metadata": {},
     "output_type": "execute_result"
    }
   ],
   "source": [
    "# comprobamos si ya no tienen nulos: \n",
    "\n",
    "round((df_filtrado[[\"business_travel_frequency\", \"overtime_hours\",\"marital_status\", \"standard_work_hours\"]].isnull().sum() /len(df_filtrado)) *100, 2)\n"
   ]
  },
  {
   "cell_type": "markdown",
   "metadata": {},
   "source": [
    "## columnas numericas"
   ]
  },
  {
   "cell_type": "code",
   "execution_count": 23,
   "metadata": {},
   "outputs": [
    {
     "name": "stdout",
     "output_type": "stream",
     "text": [
      "Valores únicos en 'total_years_worked':\n",
      "[nan 34. 22. 28. 20. 21. 33. 40. 18. 25. 15. 17. 26. 16. 24. 14. 23. 27.\n",
      " 19. 11. 38. 37. 13. 12. 29. 10. 36. 35.  9. 31. 32.  8.  7. 30.  6.  5.\n",
      "  4.  3.  2.  1.  0.]\n",
      "\n",
      "\n",
      "Valores únicos en 'annual_salary':\n",
      "[195370.   199990.   192320.   171690.         nan 100071.84  53914.11\n",
      " 165950.   199730.   134020.   132060.   195450.   180410.   192460.\n",
      " 107480.   167520.    62010.   198450.    40010.   104470.   191324.62\n",
      " 160640.    32100.   102660.   104750.    61620.    47210.   153407.07\n",
      "  28111.13  46150.   169590.    54060.    59020.   108550.    59140.\n",
      "  66460.   139730.    66870.    47350.   138720.   190450.    96130.\n",
      " 115100.   170460.    36920.   198470.    23080.    57470.   104220.\n",
      "  63470.    23480.    30720.   124900.    80200.   170680.    89430.\n",
      " 192720.    55770.    26910.    74030.    88230.    35790.   177790.\n",
      " 182130.   135770.   191900.   171230.   191870.    79880.    70830.\n",
      "  34070.    29290.   120310.   154270.    51260.    96190.   190330.\n",
      " 104000.    56740.   191970.    84120.    33480.    53090.    76540.\n",
      " 128080.    65860.    25190.   170990.   131200.    44440.    98520.\n",
      " 178610.   137570.   165980.    42850.   101240.    97140.    99240.\n",
      " 112450.    92410.    64720.    30550.    83210.    31430.    85780.\n",
      "  98880.   133410.    29090.    95260.    44240.    60740.    61460.\n",
      "  61720.    46680.    56050.    43190.    35640.    62610.    68040.\n",
      " 194360.    24550.    50550.    52570.    59740.    30340.    83920.\n",
      "  40510.    48050.    53370.    94340.    53960.   111590.    87930.\n",
      " 191890.    22160.   117130.    53040.   111030.    66320.    75870.\n",
      "  43350.    59800.    52280.    27000.    23660.    23290.    42940.\n",
      "  67250.   103250.    44470.   108450.    54720.    63850.    75250.\n",
      "  87400.   134990.    34910.   102520.   197400.    62090.    70940.\n",
      "  45340.    85000.    46390.    53630.    40810.    35780.   173280.\n",
      " 107930.   108510.   104660.    23620.    64390.    57690.    40660.\n",
      "  52060.    25700.    45020.    49680.    51470.    27180.    54680.\n",
      "  96670.    51540.    56750.    73140.    50980.   135700.    67120.\n",
      "  99910.   102480.    25930.    80950.   168560.    45370.   179240.\n",
      "  40140.   127420.    33760.   104820.    42490.   195860.    82370.\n",
      "  47740.    45680.    59930.    64990.    34520.    63970.    27250.\n",
      "  36220.    61800.    62740.    43810.    25590.    54880.    25140.\n",
      "  31960.    34200.    53680.   129360.    42210.    49630.    76390.\n",
      " 135250.    63800.    31020.    45560.    42300.    48590.    63220.\n",
      " 107610.    29730.    52040.   173990.   168850.    43230.    51550.\n",
      "  29360.   187890.    48830.    20290.    29960.    92780.    88530.\n",
      "  48760.    21410.    39360.    68420.    39890.    49300.    27050.\n",
      "  44480.    23790.    54870.    28100.    89380.    99360.    54540.\n",
      "  54730.   135030.   135490.   181720.    27740.    94390.    52650.\n",
      "  38150.    23890.   175840.    48690.    46490.   104960.    27680.\n",
      "  34080.    37550.    21870.    42580.    53260.    27820.   176390.\n",
      "  60620.    62880.    34240.    41940.    25320.    56660.   137260.\n",
      "  41070.    35970.    41150.    62720.    25170.    39040.    92040.\n",
      "  43730.    20640.    24300.    48770.    37600.    29740.    27660.\n",
      "  33770.    42130.    65130.    42840.    22260.    55610.    53730.\n",
      "  28970.    54100.    48500.    39440.    29600.   189470.    64650.\n",
      "  26830.    20140.    34410.   136640.    50210.   188440.   106500.\n",
      "  43170.    20240.    30580.    39290.    44250.    23280.    59400.\n",
      "  26220.    32120.    29110.    69310.    21760.    32300.   186650.\n",
      "  27890.    64100.    49410.    39830.    29040.    21740.    26570.\n",
      " 109650.    25430.   194060.    65380.    22180.    26540.   119350.\n",
      "  25460.    38940.    42620.   105270.    36810.    34470.    88470.\n",
      "  20450.    48510.    81200.    45770.    54050.    37080.   137700.\n",
      "  24500.    43420.    31490.    53240.    43820.    25530.    59330.\n",
      "  44030.   109340.    20220.    42560.    28990.    23770.    24040.\n",
      "  27990.    28110.    43770.    42270.    39170.    49690.    20420.\n",
      "  22070.    20700.    27910.    82240.    26100.    57310.    25390.\n",
      "  23760.   190810.    27430.    45380.    38670.    20800.    20960.\n",
      "  46270.    23020.    50710.    54670.    23940.    36290.    93620.\n",
      "  32290.   164220.    44000.    20660.    66510.    48980.    31800.\n",
      " 112440.    63920.    33120.    31170.   152020.    25800.    21660.\n",
      "  43740.    55050.   159720.    23050.    34770.    39070.    34450.\n",
      "  27600.    62940.    21050.    39020.    20620.    25870.    55070.\n",
      "  81030.    39780.    53990.    44400.    26600.    33750.    22690.\n",
      "  47870.    28090.    25710.    61420.    24960.    34190.    25010.\n",
      "  39200.    65400.   161840.   171590.    36170.    26840.   192370.\n",
      "  44220.    26780.    51710.   119160.    93800.    24680.    41270.\n",
      "  21480.    38860.    20900.    20860.    19510.    30220.    97240.\n",
      "  33880.    23220.    45050.    28350.    65530.    66730.   135910.\n",
      "  21770.   195170.   192020.   100480.    27230.    66440.    31610.\n",
      "  12000.    52380.    99850.   159920.    23700.    67810.    28510.\n",
      "  52580.    22850.    41970.    45580.    17020.    25640.    50700.\n",
      "  37800.    98240.    18780.    21270.    20330.    96020.   166270.\n",
      "  20830.    10090.    78610.    26420.    51210.    26940.    50940.\n",
      "  22740.    23140.    23800.    20080.   105520.    22590.    24130.\n",
      "  21210.    24790.   131940.    26000.   183030.    47770.    10520.\n",
      "  24610.    25960.    47280.    73510.    47660.    22580.    28270.\n",
      "  28530.    22900.    21070.    22100.   131910.   182650.    23720.\n",
      "  28380.   180610.    16110.    47680.    12740.    25610.    15630.\n",
      "  83760.    48410.    29720.    68150.   175670.    15690.    41870.\n",
      "  33060.    13930.   108830.    67350.    97560.    52940.    24370.\n",
      "  40710.    29560.    46480.    28040.    24390.    29330.    10910.\n",
      "  51510.    28630.    11290.   194310.    21440.   160150.    43060.\n",
      "  28210.    35390.    58130.    26960.    67550.    58280.   132120.\n",
      "  27410.    49600.    42440.  ]\n",
      "\n",
      "\n",
      "Valores únicos en 'distance_from_home_km':\n",
      "[ 6.  1.  4.  2.  3. 22. 25.  9.  7. 23. 10. 12. 14. nan 15.  8. 28.  5.\n",
      " 16. 26. 24. 29. 17. 21. 20. 18. 11. 13. 19. 27.]\n",
      "\n",
      "\n",
      "Valores únicos en 'work_life_balance':\n",
      "[ 3. nan  2.  4.  1.]\n",
      "\n",
      "\n",
      "Valores únicos en 'environmental_satisfaction_level':\n",
      "[ 1.  3.  4.  2. nan]\n",
      "\n",
      "\n"
     ]
    }
   ],
   "source": [
    "# Saco los valores unicos de las columnas numericas:\n",
    "\n",
    "columnas_numericas = [\n",
    "    \"total_years_worked\",\n",
    "    \"annual_salary\",\n",
    "    \"distance_from_home_km\", \n",
    "    \"work_life_balance\",\n",
    "    \"environmental_satisfaction_level\"\n",
    "]\n",
    "\n",
    "for col in columnas_numericas:\n",
    "    print(f\"Valores únicos en '{col}':\")\n",
    "    print(df_filtrado[col].unique())\n",
    "    print(\"\\n\")"
   ]
  },
  {
   "cell_type": "code",
   "execution_count": 24,
   "metadata": {},
   "outputs": [
    {
     "data": {
      "text/plain": [
       "total_years_worked                  526\n",
       "annual_salary                       274\n",
       "distance_from_home_km               192\n",
       "work_life_balance                   108\n",
       "environmental_satisfaction_level    100\n",
       "dtype: int64"
      ]
     },
     "execution_count": 24,
     "metadata": {},
     "output_type": "execute_result"
    }
   ],
   "source": [
    "df_filtrado[[\"total_years_worked\", \"annual_salary\", \"distance_from_home_km\", \"work_life_balance\", \"environmental_satisfaction_level\"]].isnull().sum() "
   ]
  },
  {
   "cell_type": "code",
   "execution_count": 25,
   "metadata": {},
   "outputs": [
    {
     "data": {
      "text/plain": [
       "total_years_worked                  32.59\n",
       "annual_salary                       16.98\n",
       "distance_from_home_km               11.90\n",
       "work_life_balance                    6.69\n",
       "environmental_satisfaction_level     6.20\n",
       "dtype: float64"
      ]
     },
     "execution_count": 25,
     "metadata": {},
     "output_type": "execute_result"
    }
   ],
   "source": [
    "round((df_filtrado[[\"total_years_worked\", \"annual_salary\", \"distance_from_home_km\", \"work_life_balance\", \"environmental_satisfaction_level\"]].isnull().sum() / df_filtrado.shape[0]) * 100, 2)"
   ]
  },
  {
   "cell_type": "code",
   "execution_count": 26,
   "metadata": {},
   "outputs": [
    {
     "data": {
      "text/html": [
       "<div>\n",
       "<style scoped>\n",
       "    .dataframe tbody tr th:only-of-type {\n",
       "        vertical-align: middle;\n",
       "    }\n",
       "\n",
       "    .dataframe tbody tr th {\n",
       "        vertical-align: top;\n",
       "    }\n",
       "\n",
       "    .dataframe thead th {\n",
       "        text-align: right;\n",
       "    }\n",
       "</style>\n",
       "<table border=\"1\" class=\"dataframe\">\n",
       "  <thead>\n",
       "    <tr style=\"text-align: right;\">\n",
       "      <th></th>\n",
       "      <th>count</th>\n",
       "      <th>mean</th>\n",
       "      <th>std</th>\n",
       "      <th>min</th>\n",
       "      <th>25%</th>\n",
       "      <th>50%</th>\n",
       "      <th>75%</th>\n",
       "      <th>max</th>\n",
       "    </tr>\n",
       "  </thead>\n",
       "  <tbody>\n",
       "    <tr>\n",
       "      <th>total_years_worked</th>\n",
       "      <td>1088.0</td>\n",
       "      <td>11.318934</td>\n",
       "      <td>7.727675</td>\n",
       "      <td>0.0</td>\n",
       "      <td>6.00</td>\n",
       "      <td>10.00</td>\n",
       "      <td>15.0</td>\n",
       "      <td>40.0</td>\n",
       "    </tr>\n",
       "    <tr>\n",
       "      <th>annual_salary</th>\n",
       "      <td>1340.0</td>\n",
       "      <td>65245.875313</td>\n",
       "      <td>45933.029687</td>\n",
       "      <td>10090.0</td>\n",
       "      <td>28111.13</td>\n",
       "      <td>53914.11</td>\n",
       "      <td>94607.5</td>\n",
       "      <td>199990.0</td>\n",
       "    </tr>\n",
       "    <tr>\n",
       "      <th>distance_from_home_km</th>\n",
       "      <td>1422.0</td>\n",
       "      <td>8.892405</td>\n",
       "      <td>7.920281</td>\n",
       "      <td>1.0</td>\n",
       "      <td>2.00</td>\n",
       "      <td>7.00</td>\n",
       "      <td>13.0</td>\n",
       "      <td>29.0</td>\n",
       "    </tr>\n",
       "    <tr>\n",
       "      <th>work_life_balance</th>\n",
       "      <td>1506.0</td>\n",
       "      <td>2.759628</td>\n",
       "      <td>0.702622</td>\n",
       "      <td>1.0</td>\n",
       "      <td>2.00</td>\n",
       "      <td>3.00</td>\n",
       "      <td>3.0</td>\n",
       "      <td>4.0</td>\n",
       "    </tr>\n",
       "    <tr>\n",
       "      <th>environmental_satisfaction_level</th>\n",
       "      <td>1514.0</td>\n",
       "      <td>2.714003</td>\n",
       "      <td>1.098326</td>\n",
       "      <td>1.0</td>\n",
       "      <td>2.00</td>\n",
       "      <td>3.00</td>\n",
       "      <td>4.0</td>\n",
       "      <td>4.0</td>\n",
       "    </tr>\n",
       "  </tbody>\n",
       "</table>\n",
       "</div>"
      ],
      "text/plain": [
       "                                   count          mean           std      min  \\\n",
       "total_years_worked                1088.0     11.318934      7.727675      0.0   \n",
       "annual_salary                     1340.0  65245.875313  45933.029687  10090.0   \n",
       "distance_from_home_km             1422.0      8.892405      7.920281      1.0   \n",
       "work_life_balance                 1506.0      2.759628      0.702622      1.0   \n",
       "environmental_satisfaction_level  1514.0      2.714003      1.098326      1.0   \n",
       "\n",
       "                                       25%       50%      75%       max  \n",
       "total_years_worked                    6.00     10.00     15.0      40.0  \n",
       "annual_salary                     28111.13  53914.11  94607.5  199990.0  \n",
       "distance_from_home_km                 2.00      7.00     13.0      29.0  \n",
       "work_life_balance                     2.00      3.00      3.0       4.0  \n",
       "environmental_satisfaction_level      2.00      3.00      4.0       4.0  "
      ]
     },
     "execution_count": 26,
     "metadata": {},
     "output_type": "execute_result"
    }
   ],
   "source": [
    "# calculamos la media, mediana, desviacion estandar....\n",
    "\n",
    "df_filtrado[[\"total_years_worked\", \"annual_salary\", \"distance_from_home_km\", \"work_life_balance\", \"environmental_satisfaction_level\"]].describe().T"
   ]
  },
  {
   "cell_type": "code",
   "execution_count": 27,
   "metadata": {},
   "outputs": [
    {
     "data": {
      "text/plain": [
       "0    10.0\n",
       "Name: total_years_worked, dtype: float64"
      ]
     },
     "execution_count": 27,
     "metadata": {},
     "output_type": "execute_result"
    }
   ],
   "source": [
    "# calculamos la moda de \"total_years_worked\", para ver como seria con una columna.\n",
    "\n",
    "df_filtrado[\"total_years_worked\"].mode()"
   ]
  },
  {
   "cell_type": "code",
   "execution_count": 28,
   "metadata": {},
   "outputs": [
    {
     "name": "stdout",
     "output_type": "stream",
     "text": [
      "La moda es 10.0 y aparece 144 veces.\n"
     ]
    }
   ],
   "source": [
    "# para ver el numero de veces que sale la moda.\n",
    "\n",
    "moda_years_worked = df_filtrado[\"total_years_worked\"].mode()[0]\n",
    "conteo_moda_years_worked = df_filtrado[\"total_years_worked\"].value_counts()[moda_years_worked]\n",
    "\n",
    "print(f\"La moda es {moda_years_worked} y aparece {conteo_moda_years_worked} veces.\")"
   ]
  },
  {
   "cell_type": "code",
   "execution_count": 29,
   "metadata": {},
   "outputs": [
    {
     "name": "stdout",
     "output_type": "stream",
     "text": [
      "La moda de 'total_years_worked' es 10.0 y aparece 144 veces.\n",
      "----------------------------------------\n",
      "La moda de 'annual_salary' es 53914.11 y aparece 261 veces.\n",
      "----------------------------------------\n",
      "La moda de 'distance_from_home_km' es 2.0 y aparece 217 veces.\n",
      "----------------------------------------\n",
      "La moda de 'work_life_balance' es 3.0 y aparece 913 veces.\n",
      "----------------------------------------\n",
      "La moda de 'environmental_satisfaction_level' es 4.0 y aparece 460 veces.\n",
      "----------------------------------------\n"
     ]
    }
   ],
   "source": [
    "# ahora hago lo mismo para todas las columnas numericas con valores nulos:\n",
    "\n",
    "for col in columnas_numericas:\n",
    "    moda = df_filtrado[col].mode()[0]  # Calcula la moda\n",
    "    conteo = df_filtrado[col].value_counts()[moda]  # Cuántas veces aparece\n",
    "    print(f\"La moda de '{col}' es {moda} y aparece {conteo} veces.\")\n",
    "    print(\"--\" *20)\n"
   ]
  },
  {
   "cell_type": "code",
   "execution_count": 30,
   "metadata": {},
   "outputs": [
    {
     "data": {
      "text/html": [
       "<div>\n",
       "<style scoped>\n",
       "    .dataframe tbody tr th:only-of-type {\n",
       "        vertical-align: middle;\n",
       "    }\n",
       "\n",
       "    .dataframe tbody tr th {\n",
       "        vertical-align: top;\n",
       "    }\n",
       "\n",
       "    .dataframe thead th {\n",
       "        text-align: right;\n",
       "    }\n",
       "</style>\n",
       "<table border=\"1\" class=\"dataframe\">\n",
       "  <thead>\n",
       "    <tr style=\"text-align: right;\">\n",
       "      <th></th>\n",
       "      <th>count</th>\n",
       "      <th>mean</th>\n",
       "      <th>std</th>\n",
       "      <th>min</th>\n",
       "      <th>25%</th>\n",
       "      <th>50%</th>\n",
       "      <th>75%</th>\n",
       "      <th>max</th>\n",
       "      <th>moda</th>\n",
       "      <th>frecuencia_moda</th>\n",
       "    </tr>\n",
       "  </thead>\n",
       "  <tbody>\n",
       "    <tr>\n",
       "      <th>total_years_worked</th>\n",
       "      <td>1088.0</td>\n",
       "      <td>11.318934</td>\n",
       "      <td>7.727675</td>\n",
       "      <td>0.0</td>\n",
       "      <td>6.00</td>\n",
       "      <td>10.00</td>\n",
       "      <td>15.0</td>\n",
       "      <td>40.0</td>\n",
       "      <td>10.00</td>\n",
       "      <td>144</td>\n",
       "    </tr>\n",
       "    <tr>\n",
       "      <th>annual_salary</th>\n",
       "      <td>1340.0</td>\n",
       "      <td>65245.875313</td>\n",
       "      <td>45933.029687</td>\n",
       "      <td>10090.0</td>\n",
       "      <td>28111.13</td>\n",
       "      <td>53914.11</td>\n",
       "      <td>94607.5</td>\n",
       "      <td>199990.0</td>\n",
       "      <td>53914.11</td>\n",
       "      <td>261</td>\n",
       "    </tr>\n",
       "    <tr>\n",
       "      <th>distance_from_home_km</th>\n",
       "      <td>1422.0</td>\n",
       "      <td>8.892405</td>\n",
       "      <td>7.920281</td>\n",
       "      <td>1.0</td>\n",
       "      <td>2.00</td>\n",
       "      <td>7.00</td>\n",
       "      <td>13.0</td>\n",
       "      <td>29.0</td>\n",
       "      <td>2.00</td>\n",
       "      <td>217</td>\n",
       "    </tr>\n",
       "    <tr>\n",
       "      <th>work_life_balance</th>\n",
       "      <td>1506.0</td>\n",
       "      <td>2.759628</td>\n",
       "      <td>0.702622</td>\n",
       "      <td>1.0</td>\n",
       "      <td>2.00</td>\n",
       "      <td>3.00</td>\n",
       "      <td>3.0</td>\n",
       "      <td>4.0</td>\n",
       "      <td>3.00</td>\n",
       "      <td>913</td>\n",
       "    </tr>\n",
       "    <tr>\n",
       "      <th>environmental_satisfaction_level</th>\n",
       "      <td>1514.0</td>\n",
       "      <td>2.714003</td>\n",
       "      <td>1.098326</td>\n",
       "      <td>1.0</td>\n",
       "      <td>2.00</td>\n",
       "      <td>3.00</td>\n",
       "      <td>4.0</td>\n",
       "      <td>4.0</td>\n",
       "      <td>4.00</td>\n",
       "      <td>460</td>\n",
       "    </tr>\n",
       "  </tbody>\n",
       "</table>\n",
       "</div>"
      ],
      "text/plain": [
       "                                   count          mean           std      min  \\\n",
       "total_years_worked                1088.0     11.318934      7.727675      0.0   \n",
       "annual_salary                     1340.0  65245.875313  45933.029687  10090.0   \n",
       "distance_from_home_km             1422.0      8.892405      7.920281      1.0   \n",
       "work_life_balance                 1506.0      2.759628      0.702622      1.0   \n",
       "environmental_satisfaction_level  1514.0      2.714003      1.098326      1.0   \n",
       "\n",
       "                                       25%       50%      75%       max  \\\n",
       "total_years_worked                    6.00     10.00     15.0      40.0   \n",
       "annual_salary                     28111.13  53914.11  94607.5  199990.0   \n",
       "distance_from_home_km                 2.00      7.00     13.0      29.0   \n",
       "work_life_balance                     2.00      3.00      3.0       4.0   \n",
       "environmental_satisfaction_level      2.00      3.00      4.0       4.0   \n",
       "\n",
       "                                      moda  frecuencia_moda  \n",
       "total_years_worked                   10.00              144  \n",
       "annual_salary                     53914.11              261  \n",
       "distance_from_home_km                 2.00              217  \n",
       "work_life_balance                     3.00              913  \n",
       "environmental_satisfaction_level      4.00              460  "
      ]
     },
     "execution_count": 30,
     "metadata": {},
     "output_type": "execute_result"
    }
   ],
   "source": [
    "# voy a unir el describe() con la moda y la frecuencia para ver mas claro los datos y hacer la comparativa mejor.\n",
    "\n",
    "# Paso 1: resumen estadístico con .describe().T\n",
    "resumen = df_filtrado[columnas_numericas].describe().T #df describe() lo nombro resumen\n",
    "\n",
    "# Paso 2: añado columnas de moda y su frecuencia\n",
    "modas = []\n",
    "frecuencias = []\n",
    "\n",
    "for col in columnas_numericas: # calculo la moda y la frecuencia y lo añado a las listas vacias creadas en las lineas de arriba.\n",
    "    moda = df_filtrado[col].mode()[0]\n",
    "    frecuencia = df_filtrado[col].value_counts()[moda]\n",
    "    \n",
    "    modas.append(moda)\n",
    "    frecuencias.append(frecuencia)\n",
    "\n",
    "# Paso 3: añado al DataFrame resumen\n",
    "resumen[\"moda\"] = modas  # añado una nueva columna \"moda\" al DF llamado \"resumen\"\n",
    "resumen[\"frecuencia_moda\"] = frecuencias # lo mismo, añado una nueva columna llamada \"frecuencias\"\n",
    "\n",
    "# Mostrar todo junto\n",
    "resumen\n"
   ]
  },
  {
   "cell_type": "markdown",
   "metadata": {},
   "source": [
    "**ANALISIS COLUMNA A COLUMNA DE LA CATEGORIA NUMERICA:**\n",
    "\n",
    " - total_years_worked\n",
    "    Media: 11.36\n",
    "    Mediana (50%): 10.0\n",
    "    Moda: 10.0 (151 veces)\n",
    "    Nota: Muy clara concentración en la moda y no parece muy sesgada.\n",
    "     Imputar con la moda: 10.0 (porque coincide con la mediana y es más frecuente)\n",
    "\n",
    "-  annual_salary\n",
    "    Media: 65.070 €\n",
    "    Mediana: 53.914 €\n",
    "    Moda: 53.914 € (270 veces)\n",
    "    Nota: Hay outliers, ya que la media está muy por encima de la mediana y moda.\n",
    "    Imputar con la mediana o moda: 53.914 €\n",
    "    (la moda y la mediana coinciden, así que se puede usar cualquiera)\n",
    "\n",
    "-  distance_from_home_km\n",
    "    Media: 8.91\n",
    "    Mediana: 7.0\n",
    "    Moda: 2.0 (228 veces)\n",
    "    Nota: Sesgo hacia distancias pequeñas (moda ≠ mediana)\n",
    "    Imputar con la mediana: 7.0\n",
    "    (la moda es demasiado pequeña en comparación con el resto)\n",
    "\n",
    "-  work_life_balance\n",
    "    Valores posibles: 1 a 4\n",
    "    Moda: 3 (946 veces de 1564 aprox. 60%)\n",
    "    Hay un orden lógico y se comporta como escala de satisfacción.\n",
    "    Imputar con la moda: 3.0\n",
    "\n",
    "- environmental_satisfaction_level\n",
    "    Valores posibles: 1 a 4\n",
    "    Moda: 4.0 (483 veces de 1576 aprox.30%) no domina claramente.\n",
    "    Muy clara también.\n",
    "    Imputar con la mediana: 3.0"
   ]
  },
  {
   "cell_type": "code",
   "execution_count": 31,
   "metadata": {},
   "outputs": [],
   "source": [
    "# realizo la modificacion de los valores nulos en las columnas numericas segun analisis:\n",
    "\n",
    "# creo un diccionario porque para hacer una imputacion manual, necesito asociar cada columan con su propio valor, por eso tiene que ser un dic.\n",
    "\n",
    "valores_imputacion = {\n",
    "    \"total_years_worked\": \"moda\",\n",
    "    \"annual_salary\": \"mediana\",\n",
    "    \"distance_from_home_km\": \"mediana\",\n",
    "    \"work_life_balance\": \"moda\",\n",
    "    \"environmental_satisfaction_level\": \"mediana\"\n",
    "}\n",
    "\n"
   ]
  },
  {
   "cell_type": "code",
   "execution_count": 32,
   "metadata": {},
   "outputs": [],
   "source": [
    "# Hacemos un bucle for que aplique la estadistica automaticamente:\n",
    "\n",
    "for col, valores in valores_imputacion.items(): # recorre el diccionario, reviso el nombre de la columna y que valores usar\n",
    "    if valores == \"media\":      # si el valor a imputar es la media \n",
    "        valor = df_filtrado[col].mean()  # calculo la media de esa columna\n",
    "    elif valores == \"mediana\":      # si el valor a imputar es la mediana\n",
    "        valor = df_filtrado[col].median()   # calculo la mediana de esa columna\n",
    "    elif valores == \"moda\":     # si el valor a imputar es la moda \n",
    "        valor = df_filtrado[col].mode()[0]  # calculo la moda de la columna\n",
    "    else:\n",
    "          print(f\"Aviso: valor desconocido para '{col}'. No se ha imputado nada.\") \n",
    "          continue # para que no se detenga, printea el error y pasa a la siguiente columna\n",
    "    \n",
    "    df_filtrado.loc[:, col] = df_filtrado[col].fillna(valor)\n",
    "\n",
    "# al ser una copia de otro DF, necesito usar .loc para filtrar sino panda no entiende donde tiene que hacer el cambio.\n",
    "# df_filtrado.loc[:, columna] accede a todas las filas (:) de la columan y las modifica directamente en el Dataframe original.\n"
   ]
  },
  {
   "cell_type": "code",
   "execution_count": 33,
   "metadata": {},
   "outputs": [
    {
     "data": {
      "text/plain": [
       "total_years_worked                  0\n",
       "annual_salary                       0\n",
       "distance_from_home_km               0\n",
       "work_life_balance                   0\n",
       "environmental_satisfaction_level    0\n",
       "dtype: int64"
      ]
     },
     "execution_count": 33,
     "metadata": {},
     "output_type": "execute_result"
    }
   ],
   "source": [
    "# verifico que ya no hay nulos en las columnas imputadas.\n",
    "df_filtrado[columnas_numericas].isnull().sum()\n"
   ]
  },
  {
   "cell_type": "code",
   "execution_count": 34,
   "metadata": {},
   "outputs": [
    {
     "name": "stdout",
     "output_type": "stream",
     "text": [
      "total_years_worked → Estrategia: moda, Valor imputado: 10.0\n",
      "------------------------------\n",
      "annual_salary → Estrategia: mediana, Valor imputado: 53914.11\n",
      "------------------------------\n",
      "distance_from_home_km → Estrategia: mediana, Valor imputado: 7.0\n",
      "------------------------------\n",
      "work_life_balance → Estrategia: moda, Valor imputado: 3.0\n",
      "------------------------------\n",
      "environmental_satisfaction_level → Estrategia: mediana, Valor imputado: 3.0\n",
      "------------------------------\n"
     ]
    }
   ],
   "source": [
    "# muestro los valores imputados para asegurarme que esta bien.\n",
    "\n",
    "for col, valores in valores_imputacion.items():\n",
    "    if valores == \"media\":\n",
    "        valor = df_filtrado[col].mean()\n",
    "    elif valores == \"mediana\":\n",
    "        valor = df_filtrado[col].median()\n",
    "    elif valores == \"moda\":\n",
    "        valor = df_filtrado[col].mode()[0]\n",
    "    else:\n",
    "        print(f\"Aviso: estrategia desconocida para '{col}'\")\n",
    "        continue\n",
    "    \n",
    "    print(f\"{col} → Estrategia: {valores}, Valor imputado: {round(valor, 2)}\")\n",
    "    print(\"-\" * 30 )\n",
    "\n",
    "# .ljust(35) lo pongo para \"alinear a la izquierda y rellenar con espacios hasta tener 35 caracteres\"\n",
    "# valores.ljust(8) lo pongo para lo mismo pero para la palabra media, moda o mediana."
   ]
  },
  {
   "cell_type": "code",
   "execution_count": 35,
   "metadata": {},
   "outputs": [
    {
     "data": {
      "text/html": [
       "<div>\n",
       "<style scoped>\n",
       "    .dataframe tbody tr th:only-of-type {\n",
       "        vertical-align: middle;\n",
       "    }\n",
       "\n",
       "    .dataframe tbody tr th {\n",
       "        vertical-align: top;\n",
       "    }\n",
       "\n",
       "    .dataframe thead th {\n",
       "        text-align: right;\n",
       "    }\n",
       "</style>\n",
       "<table border=\"1\" class=\"dataframe\">\n",
       "  <thead>\n",
       "    <tr style=\"text-align: right;\">\n",
       "      <th></th>\n",
       "      <th>count</th>\n",
       "      <th>mean</th>\n",
       "      <th>std</th>\n",
       "      <th>min</th>\n",
       "      <th>25%</th>\n",
       "      <th>50%</th>\n",
       "      <th>75%</th>\n",
       "      <th>max</th>\n",
       "    </tr>\n",
       "  </thead>\n",
       "  <tbody>\n",
       "    <tr>\n",
       "      <th>distance_from_home_km</th>\n",
       "      <td>1614.0</td>\n",
       "      <td>8.667286</td>\n",
       "      <td>7.459181</td>\n",
       "      <td>1.0</td>\n",
       "      <td>2.0</td>\n",
       "      <td>7.00</td>\n",
       "      <td>11.0</td>\n",
       "      <td>29.0</td>\n",
       "    </tr>\n",
       "    <tr>\n",
       "      <th>education_level</th>\n",
       "      <td>1614.0</td>\n",
       "      <td>2.925031</td>\n",
       "      <td>1.022357</td>\n",
       "      <td>1.0</td>\n",
       "      <td>2.0</td>\n",
       "      <td>3.00</td>\n",
       "      <td>4.0</td>\n",
       "      <td>5.0</td>\n",
       "    </tr>\n",
       "    <tr>\n",
       "      <th>environmental_satisfaction_level</th>\n",
       "      <td>1614.0</td>\n",
       "      <td>2.731722</td>\n",
       "      <td>1.065969</td>\n",
       "      <td>1.0</td>\n",
       "      <td>2.0</td>\n",
       "      <td>3.00</td>\n",
       "      <td>4.0</td>\n",
       "      <td>4.0</td>\n",
       "    </tr>\n",
       "    <tr>\n",
       "      <th>job_involvement_level</th>\n",
       "      <td>1614.0</td>\n",
       "      <td>2.739777</td>\n",
       "      <td>0.711567</td>\n",
       "      <td>1.0</td>\n",
       "      <td>2.0</td>\n",
       "      <td>3.00</td>\n",
       "      <td>3.0</td>\n",
       "      <td>4.0</td>\n",
       "    </tr>\n",
       "    <tr>\n",
       "      <th>job_level</th>\n",
       "      <td>1614.0</td>\n",
       "      <td>2.068154</td>\n",
       "      <td>1.101344</td>\n",
       "      <td>1.0</td>\n",
       "      <td>1.0</td>\n",
       "      <td>2.00</td>\n",
       "      <td>3.0</td>\n",
       "      <td>5.0</td>\n",
       "    </tr>\n",
       "    <tr>\n",
       "      <th>job_satisfaction_level</th>\n",
       "      <td>1614.0</td>\n",
       "      <td>2.738538</td>\n",
       "      <td>1.106163</td>\n",
       "      <td>1.0</td>\n",
       "      <td>2.0</td>\n",
       "      <td>3.00</td>\n",
       "      <td>4.0</td>\n",
       "      <td>4.0</td>\n",
       "    </tr>\n",
       "    <tr>\n",
       "      <th>num_companies_worked</th>\n",
       "      <td>1614.0</td>\n",
       "      <td>2.673482</td>\n",
       "      <td>2.506152</td>\n",
       "      <td>0.0</td>\n",
       "      <td>1.0</td>\n",
       "      <td>2.00</td>\n",
       "      <td>4.0</td>\n",
       "      <td>9.0</td>\n",
       "    </tr>\n",
       "    <tr>\n",
       "      <th>percent_salary_hike</th>\n",
       "      <td>1614.0</td>\n",
       "      <td>15.165428</td>\n",
       "      <td>3.648610</td>\n",
       "      <td>11.0</td>\n",
       "      <td>12.0</td>\n",
       "      <td>14.00</td>\n",
       "      <td>18.0</td>\n",
       "      <td>25.0</td>\n",
       "    </tr>\n",
       "    <tr>\n",
       "      <th>stock_option_level</th>\n",
       "      <td>1614.0</td>\n",
       "      <td>0.791202</td>\n",
       "      <td>0.842396</td>\n",
       "      <td>0.0</td>\n",
       "      <td>0.0</td>\n",
       "      <td>1.00</td>\n",
       "      <td>1.0</td>\n",
       "      <td>3.0</td>\n",
       "    </tr>\n",
       "    <tr>\n",
       "      <th>training_sessions_last_year</th>\n",
       "      <td>1614.0</td>\n",
       "      <td>2.809789</td>\n",
       "      <td>1.297765</td>\n",
       "      <td>0.0</td>\n",
       "      <td>2.0</td>\n",
       "      <td>3.00</td>\n",
       "      <td>3.0</td>\n",
       "      <td>6.0</td>\n",
       "    </tr>\n",
       "    <tr>\n",
       "      <th>years_at_company</th>\n",
       "      <td>1614.0</td>\n",
       "      <td>7.132590</td>\n",
       "      <td>6.124237</td>\n",
       "      <td>0.0</td>\n",
       "      <td>3.0</td>\n",
       "      <td>5.00</td>\n",
       "      <td>9.0</td>\n",
       "      <td>40.0</td>\n",
       "    </tr>\n",
       "    <tr>\n",
       "      <th>years_with_current_manager</th>\n",
       "      <td>1614.0</td>\n",
       "      <td>4.220570</td>\n",
       "      <td>3.562695</td>\n",
       "      <td>0.0</td>\n",
       "      <td>2.0</td>\n",
       "      <td>3.00</td>\n",
       "      <td>7.0</td>\n",
       "      <td>17.0</td>\n",
       "    </tr>\n",
       "    <tr>\n",
       "      <th>birth_year</th>\n",
       "      <td>1614.0</td>\n",
       "      <td>1986.076208</td>\n",
       "      <td>9.101332</td>\n",
       "      <td>1963.0</td>\n",
       "      <td>1980.0</td>\n",
       "      <td>1987.00</td>\n",
       "      <td>1993.0</td>\n",
       "      <td>2005.0</td>\n",
       "    </tr>\n",
       "    <tr>\n",
       "      <th>total_years_worked</th>\n",
       "      <td>1614.0</td>\n",
       "      <td>10.889095</td>\n",
       "      <td>6.373824</td>\n",
       "      <td>0.0</td>\n",
       "      <td>8.0</td>\n",
       "      <td>10.00</td>\n",
       "      <td>11.0</td>\n",
       "      <td>40.0</td>\n",
       "    </tr>\n",
       "    <tr>\n",
       "      <th>annual_salary</th>\n",
       "      <td>1614.0</td>\n",
       "      <td>63322.143160</td>\n",
       "      <td>42066.070780</td>\n",
       "      <td>10090.0</td>\n",
       "      <td>29040.0</td>\n",
       "      <td>53914.11</td>\n",
       "      <td>64585.0</td>\n",
       "      <td>199990.0</td>\n",
       "    </tr>\n",
       "    <tr>\n",
       "      <th>work_life_balance</th>\n",
       "      <td>1614.0</td>\n",
       "      <td>2.775713</td>\n",
       "      <td>0.681347</td>\n",
       "      <td>1.0</td>\n",
       "      <td>2.0</td>\n",
       "      <td>3.00</td>\n",
       "      <td>3.0</td>\n",
       "      <td>4.0</td>\n",
       "    </tr>\n",
       "  </tbody>\n",
       "</table>\n",
       "</div>"
      ],
      "text/plain": [
       "                                   count          mean           std      min  \\\n",
       "distance_from_home_km             1614.0      8.667286      7.459181      1.0   \n",
       "education_level                   1614.0      2.925031      1.022357      1.0   \n",
       "environmental_satisfaction_level  1614.0      2.731722      1.065969      1.0   \n",
       "job_involvement_level             1614.0      2.739777      0.711567      1.0   \n",
       "job_level                         1614.0      2.068154      1.101344      1.0   \n",
       "job_satisfaction_level            1614.0      2.738538      1.106163      1.0   \n",
       "num_companies_worked              1614.0      2.673482      2.506152      0.0   \n",
       "percent_salary_hike               1614.0     15.165428      3.648610     11.0   \n",
       "stock_option_level                1614.0      0.791202      0.842396      0.0   \n",
       "training_sessions_last_year       1614.0      2.809789      1.297765      0.0   \n",
       "years_at_company                  1614.0      7.132590      6.124237      0.0   \n",
       "years_with_current_manager        1614.0      4.220570      3.562695      0.0   \n",
       "birth_year                        1614.0   1986.076208      9.101332   1963.0   \n",
       "total_years_worked                1614.0     10.889095      6.373824      0.0   \n",
       "annual_salary                     1614.0  63322.143160  42066.070780  10090.0   \n",
       "work_life_balance                 1614.0      2.775713      0.681347      1.0   \n",
       "\n",
       "                                      25%       50%      75%       max  \n",
       "distance_from_home_km                 2.0      7.00     11.0      29.0  \n",
       "education_level                       2.0      3.00      4.0       5.0  \n",
       "environmental_satisfaction_level      2.0      3.00      4.0       4.0  \n",
       "job_involvement_level                 2.0      3.00      3.0       4.0  \n",
       "job_level                             1.0      2.00      3.0       5.0  \n",
       "job_satisfaction_level                2.0      3.00      4.0       4.0  \n",
       "num_companies_worked                  1.0      2.00      4.0       9.0  \n",
       "percent_salary_hike                  12.0     14.00     18.0      25.0  \n",
       "stock_option_level                    0.0      1.00      1.0       3.0  \n",
       "training_sessions_last_year           2.0      3.00      3.0       6.0  \n",
       "years_at_company                      3.0      5.00      9.0      40.0  \n",
       "years_with_current_manager            2.0      3.00      7.0      17.0  \n",
       "birth_year                         1980.0   1987.00   1993.0    2005.0  \n",
       "total_years_worked                    8.0     10.00     11.0      40.0  \n",
       "annual_salary                     29040.0  53914.11  64585.0  199990.0  \n",
       "work_life_balance                     2.0      3.00      3.0       4.0  "
      ]
     },
     "execution_count": 35,
     "metadata": {},
     "output_type": "execute_result"
    }
   ],
   "source": [
    "df_filtrado.describe().T\n"
   ]
  },
  {
   "cell_type": "markdown",
   "metadata": {},
   "source": [
    "# visualizacion con simpleimputer, iterativeimputer o KNNImputer "
   ]
  },
  {
   "cell_type": "code",
   "execution_count": 36,
   "metadata": {},
   "outputs": [
    {
     "data": {
      "text/plain": [
       "Text(0.5, 0, 'annual_salary')"
      ]
     },
     "execution_count": 36,
     "metadata": {},
     "output_type": "execute_result"
    },
    {
     "data": {
      "image/png": "[encoded data removed]",
      "text/plain": [
       "<Figure size 640x480 with 1 Axes>"
      ]
     },
     "metadata": {},
     "output_type": "display_data"
    }
   ],
   "source": [
    "# SimpleImputer:\n",
    "\n",
    "# 1. Copio solo la columna que quiero visualizar y hago una columna temporal porque ya los he cambiado manualmente:\n",
    "columna = \"annual_salary\"\n",
    "col_temp = df_filtrado[[columna]].copy()\n",
    "\n",
    "# 2. Aplico SimpleImputer \n",
    "imp = SimpleImputer(strategy=\"median\") # con simpleimputer rellenara con la mediana los valores nulos.\n",
    "col_imputada = imp.fit_transform(col_temp)  # fit:calcula cual es la mediana de la columna y transform: aplica la mediana en lugar de los NaN\n",
    "\n",
    "# 3. Visualizamos con boxplot\n",
    "sns.boxplot(x=col_imputada.flatten())  # creo un grafico de bigotes con los valores imputados. y flatten: convierte el array de bidimensional a unidimenasional\n",
    "plt.title(f\"{columna} imputada con la mediana\") # titulo dl grafico\n",
    "plt.xlabel(columna) # eje x con el nombre de la columna \n",
    "\n",
    "\n"
   ]
  },
  {
   "cell_type": "markdown",
   "metadata": {},
   "source": [
    "*** ¿Que muestra este grafico ANNUAL_SALARY?: ***\n",
    "- La caja central representa:\n",
    "    -> El percentil 25% (Q1): borde izquierdo de la caja\n",
    "    -> La mediana (Q2): línea dentro de la caja\n",
    "    -> El percentil 75% (Q3): borde derecho de la caja\n",
    "- Los (bigotes) muestran:\n",
    "    -> El rango de valores normales (sin outliers)\n",
    "- Los puntos sueltos fuera de los bigotes:\n",
    "    -> Son los valores atípicos (outliers)\n",
    "    -> En el caso de \"annual_salary\", existen seguramente algunos sueldos muy altos que se marcarán como outliers"
   ]
  },
  {
   "cell_type": "code",
   "execution_count": 37,
   "metadata": {},
   "outputs": [
    {
     "data": {
      "image/png": "[encoded data removed]",
      "text/plain": [
       "<Figure size 640x480 with 1 Axes>"
      ]
     },
     "metadata": {},
     "output_type": "display_data"
    }
   ],
   "source": [
    "# KNNImputer: para imputar nulos usando vecinos mas cercanos.\n",
    "\n",
    "# 1. la columna \"distance_from_homr_km\", hago una copia.\n",
    "columna = \"distance_from_home_km\"\n",
    "col_temp = df_filtrado[[columna]].copy()\n",
    "\n",
    "# 2. Aplico imputación con KNN\n",
    "imp = KNNImputer(n_neighbors=5)  # puedo ajustar el número de vecinos, aqui he escogido 5 vecinos.\n",
    "col_imputada = imp.fit_transform(col_temp)  #  aprende que valores usar y transforma los datos, reemplazando los Nan con el promedio de sus vecinos.\n",
    "\n",
    "# 3. Visualizo con boxplot\n",
    "sns.boxplot(x=col_imputada.flatten())\n",
    "plt.title(f\"{columna} imputada con KNNImputer (5 vecinos)\")\n",
    "plt.xlabel(columna);\n",
    "\n",
    "\n"
   ]
  },
  {
   "cell_type": "markdown",
   "metadata": {},
   "source": [
    "*** ¿Que muestra este grafico \"distance_from_homr_km\"?: ***\n",
    "El gráfico muestra:\n",
    "- La caja (de color):\n",
    "    -> Rango intercuartílico (Q1 a Q3)\n",
    "    -> Dentro estará la mediana (línea vertical)\n",
    "- Bigotes:\n",
    "    -> Rango de valores normales sin outliers\n",
    "- Puntos sueltos fuera de los bigotes:\n",
    "    -> Son los outliers: personas que viven a distancias muy diferentes (muy lejos o muy cerca del trabajo)\n",
    "\n",
    "*** ¿Qué diferencia habrá con respecto a la imputación por mediana? ***\n",
    "- La mediana reemplaza todos los NaN con el mismo valor fijo\n",
    "- En cambio, KNN puede dar valores distintos según los vecinos de cada fila, lo cual mantiene más variabilidad\n",
    "Por eso es posible que el gráfico con KNN sea más suav y con menos acumulación artificial en la mediana"
   ]
  },
  {
   "cell_type": "code",
   "execution_count": 38,
   "metadata": {},
   "outputs": [
    {
     "data": {
      "text/plain": [
       "Text(0.5, 0, 'total_years_worked')"
      ]
     },
     "execution_count": 38,
     "metadata": {},
     "output_type": "execute_result"
    },
    {
     "data": {
      "image/png": "[encoded data removed]",
      "text/plain": [
       "<Figure size 640x480 with 1 Axes>"
      ]
     },
     "metadata": {},
     "output_type": "display_data"
    }
   ],
   "source": [
    "# IterativeImputer: usa un pequeño modelo predictivo para rellenar los Nan en base a las demas columnas:\n",
    "\n",
    "# 1. Elijo la columna\n",
    "columna = \"total_years_worked\"\n",
    "col_temp = df_filtrado[[columna]].copy() # hago una copia para trabajar con ella y ver el grafico. doble corchete para que el resultado sea un DF y no una serie.\n",
    "\n",
    "# 2. Aplicamos imputación con IterativeImputer\n",
    "imp = IterativeImputer(random_state=42) # random_state=42: es solo para que los resultados sean reproducibles.\n",
    "col_imputada = imp.fit_transform(col_temp)\n",
    "\n",
    "# 3. Visualizamos con boxplot\n",
    "sns.boxplot(x=col_imputada.flatten()) # calcula como imputar los valores basado en patrones en la columna y rellena los NaN segun un modelo estadistico.\n",
    "plt.title(f\"{columna} imputada con IterativeImputer\")\n",
    "plt.xlabel(columna)\n",
    "\n"
   ]
  },
  {
   "cell_type": "markdown",
   "metadata": {},
   "source": [
    "***¿Que muestra este grafico \"total_years_worked\"?:***\n",
    "\n",
    "- La caja:\n",
    "    -> Rango intercuartílico (Q1 a Q3)\n",
    "    -> Línea de la mediana (valor central)\n",
    "- Los bigotes:\n",
    "    -> Rango esperado (sin valores atípicos)\n",
    "- Puntos fuera de los bigotes:\n",
    "    -> Son los outliers: personas que han trabajado muchos años más o menos de lo normal\n",
    "\n",
    "Como IterativeImputer modela el valor que falta en función del resto de la columna (en este caso solo una), el resultado será más suave y estadísticamente coherente que simplemente rellenar con la mediana o con los vecinos.\n",
    "\n",
    "***Es posible que:***\n",
    "\n",
    "    - La mediana se mantenga parecida\n",
    "    - Los valores imputados estén más repartidos\n",
    "    - El gráfico se vea más natural"
   ]
  },
  {
   "cell_type": "markdown",
   "metadata": {},
   "source": [
    "# Variables Categóricas\n",
    "\n",
    "Los imputadores KNNImputer e IterativeImputer no funcionan directamente con columnas categóricas (porque trabajan con números).\n",
    "\n",
    "La única opción directa es SimpleImputer con strategy=\"most_frequent\" (moda)."
   ]
  },
  {
   "cell_type": "code",
   "execution_count": 39,
   "metadata": {},
   "outputs": [
    {
     "data": {
      "image/png": "[encoded data removed]",
      "text/plain": [
       "<Figure size 640x480 with 1 Axes>"
      ]
     },
     "metadata": {},
     "output_type": "display_data"
    }
   ],
   "source": [
    "# SimpleImputer: con \"marital_status\"\n",
    "\n",
    "# 1. Elijo la columna\n",
    "columna = \"marital_status\"\n",
    "col_temp = df_filtrado[[columna]].copy() # hago una copia porque lo he cambiado anteriormente a mano con codigo, asi no vuelvo a modificar el df.\n",
    "\n",
    "# 2. Aplico imputación con la moda (más frecuente)\n",
    "imp = SimpleImputer(strategy=\"most_frequent\")\n",
    "col_imputada = imp.fit_transform(col_temp) #fit_transform= encuentra el valor mas frecuente y rellena los NaN con ese valor. El resultado es un array con los valores ya imputados.\n",
    "\n",
    "# 3. Visualizamos con gráfico de barras\n",
    "col_df = pd.DataFrame(col_imputada, columns=[columna]) # convierte el array en un nuevo DF, y le vuelve a poner el nombre de la columna para que sea mas legible y facil de usar.\n",
    "\n",
    "sns.countplot(x=columna, data=col_df)  # crea un grafico de barras: x= categorias de estado civil y= frecuencia \n",
    "plt.title(f\"{columna} imputada con SimpleImputer (moda)\")\n",
    "plt.xlabel(columna)\n",
    "plt.ylabel(\"Frecuencia\")\n",
    "plt.xticks(rotation=30); # gira un poco lasa etiquetas del eje para que no se ponga una encima de otra.\n",
    "\n",
    "# Es un gráfico de barras con las categorías de \"marital_status\" ya sin NaN, imputadas con el valor más frecuente.\n"
   ]
  },
  {
   "cell_type": "code",
   "execution_count": 40,
   "metadata": {},
   "outputs": [
    {
     "data": {
      "image/png": "[encoded data removed]",
      "text/plain": [
       "<Figure size 640x480 with 1 Axes>"
      ]
     },
     "metadata": {},
     "output_type": "display_data"
    }
   ],
   "source": [
    "# SimpleImputer: con \"business_travel_frequency\"\n",
    "\n",
    "# 1. Elijo la columna\n",
    "columna = \"business_travel_frequency\"\n",
    "col_temp = df_filtrado[[columna]].copy() # hago una copia porque lo he cambiado anteriormente a mano con codigo, asi no vuelvo a modificar el df.\n",
    "\n",
    "# 2. Imputo con la moda (valor más frecuente)\n",
    "imp = SimpleImputer(strategy=\"most_frequent\")\n",
    "col_imputada = imp.fit_transform(col_temp) #fit_transform= encuentra el valor mas frecuente y rellena los NaN con ese valor. El resultado es un array con los valores ya imputados.\n",
    "\n",
    "# 3. Convertimos a DataFrame para graficar\n",
    "col_df = pd.DataFrame(col_imputada, columns=[columna]) # convierte el array en un nuevo DF, y le vuelve a poner el nombre de la columna para que sea mas legible y facil de usar.\n",
    "\n",
    "# 4. Gráfico de barras\n",
    "sns.countplot(x=columna, data=col_df)   # crea un grafico de barras: x= categorias de estado civil y= frecuencia \n",
    "plt.title(f\"{columna} imputada con SimpleImputer (moda)\")\n",
    "plt.xlabel(columna)\n",
    "plt.ylabel(\"Frecuencia\")\n",
    "plt.xticks(rotation=30);  # gira un poco lasa etiquetas del eje para que no se ponga una encima de otra.\n",
    "\n",
    "# Este gráfico de barras muestra cuántas personas viajan \"Rarely\", \"Frequently\", etc., ya con los nulos imputados con la moda."
   ]
  },
  {
   "cell_type": "code",
   "execution_count": null,
   "metadata": {},
   "outputs": [],
   "source": [
    "# guardo el DataFrame filtrado ya limpio\n",
    "\n",
    "df_filtrado.to_csv(\"df_filtrado_notnulls.csv\", index=False)\n"
   ]
  }
 ],
 "metadata": {
  "kernelspec": {
   "display_name": "Python 3",
   "language": "python",
   "name": "python3"
  },
  "language_info": {
   "codemirror_mode": {
    "name": "ipython",
    "version": 3
   },
   "file_extension": ".py",
   "mimetype": "text/x-python",
   "name": "python",
   "nbconvert_exporter": "python",
   "pygments_lexer": "ipython3",
   "version": "3.9.6"
  }
 },
 "nbformat": 4,
 "nbformat_minor": 2
}
