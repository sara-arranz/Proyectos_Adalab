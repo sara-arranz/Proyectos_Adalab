{
 "cells": [
  {
   "cell_type": "code",
   "execution_count": 36,
   "metadata": {},
   "outputs": [],
   "source": [
    "import requests\n",
    "import pandas as pd"
   ]
  },
  {
   "cell_type": "code",
   "execution_count": null,
   "metadata": {},
   "outputs": [],
   "source": [
    "\"\"\"\n",
    "Este es el API correspondiente a: Biografías de artistas,\n",
    "te pide el artista con lo que supongo que tendremos iterar\n",
    "por la url para conseguir las biografias\n",
    "\n",
    "Cuando he puesto lo de \"ojo al formato\", es porque habia puesto\n",
    "DavidBisbal y no me lo reconocía, porque era David+Bisbal\n",
    "\"\"\"\n",
    "\n",
    "# El modelo de url para iterar es el siguiente:\n",
    "modelourl = (f\"http://ws.audioscrobbler.com/2.0/?method=artist.getinfo&artist={ARTISTA, ojo al formato}&api_key={TU API KEY}&format=json\""
   ]
  },
  {
   "cell_type": "code",
   "execution_count": null,
   "metadata": {},
   "outputs": [],
   "source": [
    "#Os dejo chicas este ejemplo con David Bisbal\n",
    "\n",
    "url = \"http://ws.audioscrobbler.com/2.0/?method=artist.getinfo&artist=David+Bisbal&api_key=TUAPIKEYAQUI&format=json\""
   ]
  },
  {
   "cell_type": "code",
   "execution_count": 38,
   "metadata": {},
   "outputs": [
    {
     "data": {
      "text/plain": [
       "<Response [200]>"
      ]
     },
     "execution_count": 38,
     "metadata": {},
     "output_type": "execute_result"
    }
   ],
   "source": [
    "requests.get(url)"
   ]
  },
  {
   "cell_type": "code",
   "execution_count": 39,
   "metadata": {},
   "outputs": [],
   "source": [
    "llamada = requests.get(url)"
   ]
  },
  {
   "cell_type": "code",
   "execution_count": 40,
   "metadata": {},
   "outputs": [
    {
     "data": {
      "text/plain": [
       "b'{\"artist\":{\"name\":\"David Bisbal\",\"mbid\":\"95c8b6b7-1e24-4987-804c-024f6b05cd91\",\"url\":\"https://www.last.fm/music/David+Bisbal\",\"image\":[{\"#text\":\"https://lastfm.freetls.fastly.net/i/u/34s/2a96cbd8b46e442fc41c2b86b821562f.png\",\"size\":\"small\"},{\"#text\":\"https://lastfm.freetls.fastly.net/i/u/64s/2a96cbd8b46e442fc41c2b86b821562f.png\",\"size\":\"medium\"},{\"#text\":\"https://lastfm.freetls.fastly.net/i/u/174s/2a96cbd8b46e442fc41c2b86b821562f.png\",\"size\":\"large\"},{\"#text\":\"https://lastfm.freetls.fastly.net/i/u/300x300/2a96cbd8b46e442fc41c2b86b821562f.png\",\"size\":\"extralarge\"},{\"#text\":\"https://lastfm.freetls.fastly.net/i/u/300x300/2a96cbd8b46e442fc41c2b86b821562f.png\",\"size\":\"mega\"},{\"#text\":\"https://lastfm.freetls.fastly.net/i/u/300x300/2a96cbd8b46e442fc41c2b86b821562f.png\",\"size\":\"\"}],\"streamable\":\"0\",\"ontour\":\"0\",\"stats\":{\"listeners\":\"316254\",\"playcount\":\"4190254\"},\"similar\":{\"artist\":[{\"name\":\"David Bustamante\",\"url\":\"https://www.last.fm/music/David+Bustamante\",\"image\":[{\"#text\":\"https://lastfm.freetls.fastly.net/i/u/34s/2a96cbd8b46e442fc41c2b86b821562f.png\",\"size\":\"small\"},{\"#text\":\"https://lastfm.freetls.fastly.net/i/u/64s/2a96cbd8b46e442fc41c2b86b821562f.png\",\"size\":\"medium\"},{\"#text\":\"https://lastfm.freetls.fastly.net/i/u/174s/2a96cbd8b46e442fc41c2b86b821562f.png\",\"size\":\"large\"},{\"#text\":\"https://lastfm.freetls.fastly.net/i/u/300x300/2a96cbd8b46e442fc41c2b86b821562f.png\",\"size\":\"extralarge\"},{\"#text\":\"https://lastfm.freetls.fastly.net/i/u/300x300/2a96cbd8b46e442fc41c2b86b821562f.png\",\"size\":\"mega\"},{\"#text\":\"https://lastfm.freetls.fastly.net/i/u/300x300/2a96cbd8b46e442fc41c2b86b821562f.png\",\"size\":\"\"}]},{\"name\":\"Alex Ubago\",\"url\":\"https://www.last.fm/music/Alex+Ubago\",\"image\":[{\"#text\":\"https://lastfm.freetls.fastly.net/i/u/34s/2a96cbd8b46e442fc41c2b86b821562f.png\",\"size\":\"small\"},{\"#text\":\"https://lastfm.freetls.fastly.net/i/u/64s/2a96cbd8b46e442fc41c2b86b821562f.png\",\"size\":\"medium\"},{\"#text\":\"https://lastfm.freetls.fastly.net/i/u/174s/2a96cbd8b46e442fc41c2b86b821562f.png\",\"size\":\"large\"},{\"#text\":\"https://lastfm.freetls.fastly.net/i/u/300x300/2a96cbd8b46e442fc41c2b86b821562f.png\",\"size\":\"extralarge\"},{\"#text\":\"https://lastfm.freetls.fastly.net/i/u/300x300/2a96cbd8b46e442fc41c2b86b821562f.png\",\"size\":\"mega\"},{\"#text\":\"https://lastfm.freetls.fastly.net/i/u/300x300/2a96cbd8b46e442fc41c2b86b821562f.png\",\"size\":\"\"}]},{\"name\":\"Luis Fonsi\",\"url\":\"https://www.last.fm/music/Luis+Fonsi\",\"image\":[{\"#text\":\"https://lastfm.freetls.fastly.net/i/u/34s/2a96cbd8b46e442fc41c2b86b821562f.png\",\"size\":\"small\"},{\"#text\":\"https://lastfm.freetls.fastly.net/i/u/64s/2a96cbd8b46e442fc41c2b86b821562f.png\",\"size\":\"medium\"},{\"#text\":\"https://lastfm.freetls.fastly.net/i/u/174s/2a96cbd8b46e442fc41c2b86b821562f.png\",\"size\":\"large\"},{\"#text\":\"https://lastfm.freetls.fastly.net/i/u/300x300/2a96cbd8b46e442fc41c2b86b821562f.png\",\"size\":\"extralarge\"},{\"#text\":\"https://lastfm.freetls.fastly.net/i/u/300x300/2a96cbd8b46e442fc41c2b86b821562f.png\",\"size\":\"mega\"},{\"#text\":\"https://lastfm.freetls.fastly.net/i/u/300x300/2a96cbd8b46e442fc41c2b86b821562f.png\",\"size\":\"\"}]},{\"name\":\"Mal\\xc3\\xba\",\"url\":\"https://www.last.fm/music/Mal%C3%BA\",\"image\":[{\"#text\":\"https://lastfm.freetls.fastly.net/i/u/34s/2a96cbd8b46e442fc41c2b86b821562f.png\",\"size\":\"small\"},{\"#text\":\"https://lastfm.freetls.fastly.net/i/u/64s/2a96cbd8b46e442fc41c2b86b821562f.png\",\"size\":\"medium\"},{\"#text\":\"https://lastfm.freetls.fastly.net/i/u/174s/2a96cbd8b46e442fc41c2b86b821562f.png\",\"size\":\"large\"},{\"#text\":\"https://lastfm.freetls.fastly.net/i/u/300x300/2a96cbd8b46e442fc41c2b86b821562f.png\",\"size\":\"extralarge\"},{\"#text\":\"https://lastfm.freetls.fastly.net/i/u/300x300/2a96cbd8b46e442fc41c2b86b821562f.png\",\"size\":\"mega\"},{\"#text\":\"https://lastfm.freetls.fastly.net/i/u/300x300/2a96cbd8b46e442fc41c2b86b821562f.png\",\"size\":\"\"}]},{\"name\":\"Cristian Castro\",\"url\":\"https://www.last.fm/music/Cristian+Castro\",\"image\":[{\"#text\":\"https://lastfm.freetls.fastly.net/i/u/34s/2a96cbd8b46e442fc41c2b86b821562f.png\",\"size\":\"small\"},{\"#text\":\"https://lastfm.freetls.fastly.net/i/u/64s/2a96cbd8b46e442fc41c2b86b821562f.png\",\"size\":\"medium\"},{\"#text\":\"https://lastfm.freetls.fastly.net/i/u/174s/2a96cbd8b46e442fc41c2b86b821562f.png\",\"size\":\"large\"},{\"#text\":\"https://lastfm.freetls.fastly.net/i/u/300x300/2a96cbd8b46e442fc41c2b86b821562f.png\",\"size\":\"extralarge\"},{\"#text\":\"https://lastfm.freetls.fastly.net/i/u/300x300/2a96cbd8b46e442fc41c2b86b821562f.png\",\"size\":\"mega\"},{\"#text\":\"https://lastfm.freetls.fastly.net/i/u/300x300/2a96cbd8b46e442fc41c2b86b821562f.png\",\"size\":\"\"}]}]},\"tags\":{\"tag\":[{\"name\":\"spanish\",\"url\":\"https://www.last.fm/tag/spanish\"},{\"name\":\"latin\",\"url\":\"https://www.last.fm/tag/latin\"},{\"name\":\"pop\",\"url\":\"https://www.last.fm/tag/pop\"},{\"name\":\"latin pop\",\"url\":\"https://www.last.fm/tag/latin+pop\"},{\"name\":\"male vocalists\",\"url\":\"https://www.last.fm/tag/male+vocalists\"}]},\"bio\":{\"links\":{\"link\":{\"#text\":\"\",\"rel\":\"original\",\"href\":\"https://last.fm/music/David+Bisbal/+wiki\"}},\"published\":\"22 Jun 2006, 14:13\",\"summary\":\"\\\\nDavid Bisbal Ferre (born June 5, 1979 in Almer\\xc3\\xada, Spain) is a Latin Grammy-winning Spanish pop singer. He gained his initial fame as a runner up on the interactive reality television show Operaci\\xc3\\xb3n Triunfo produced by Television Espa\\xc3\\xb1ola.\\\\n\\\\nHe has since released five studio albums, all of which topped the Spanish Albums Chart, in addition to recording a number of live albums. He\\'s toured throughout Europe and Latin America and is now considered to be a crossover international artist. <a href=\\\\\"https://www.last.fm/music/David+Bisbal\\\\\">Read more on Last.fm</a>\",\"content\":\"\\\\nDavid Bisbal Ferre (born June 5, 1979 in Almer\\xc3\\xada, Spain) is a Latin Grammy-winning Spanish pop singer. He gained his initial fame as a runner up on the interactive reality television show Operaci\\xc3\\xb3n Triunfo produced by Television Espa\\xc3\\xb1ola.\\\\n\\\\nHe has since released five studio albums, all of which topped the Spanish Albums Chart, in addition to recording a number of live albums. He\\'s toured throughout Europe and Latin America and is now considered to be a crossover international artist.\\\\n\\\\nBeginnings: Operaci\\xc3\\xb3n Triunfo\\\\n\\\\nDavid Bisbal left school early and worked in a platinum and flower nursery. He was encouraged by his colleagues to audition for a music contest and he initially became part of Orquesta Expresiones where he continued singing and dancing.\\\\n\\\\nIn October 2001 he auditioned for the first ever edition of Operaci\\xc3\\xb3n Triunfo (Spanish equivalent of Star Academy) where he was accepted and was one of the 16 finalists. The grand prize was the chance of representing Spain in the Eurovision Song Contest. He came second in the final losing to Rosa L\\xc3\\xb3pez. She went on to sing Europe\\'s Living a Celebration for Spain in the Eurovision Song Contest 2002 (ESC) competition.\\\\n\\\\n Career\\\\n\\\\nBisbal signed a contract with Vale Music Record label and released his first album recorded in Miami under the title \\\\\"Coraz\\xc3\\xb3n Latino\\\\\" with Kike Santander as a producer. The album became 7 times platinum by summer 2002 after having topped the Spanish charts. The first single from the album, called Ave Maria had a phenomenal success. After winning the Latin Grammys, the album became platinum (over 1 million sales).\\\\n\\\\nIn February 2004, he released his second album entitled \\\\\"Buler\\xc3\\xada\\\\\" again produced by his friend Kike Santander. It found similar success in Spain and throughout Latin America turning diamond with more than 1 million albums sold in Spain alone, becoming the best Spanish seller of 2004.\\\\n\\\\nIn March 2005, he also released a DVD \\\\\"Todo Por Ustedes\\\\\" that contained live registrations of some of his concerts in the United States, Latin America and Spain.\\\\n\\\\n\\\\\"Premonici\\xc3\\xb3n\\\\\" became the third studio album by David Bisbal released on 3 October 2006. end of the week, it had achieved enough sales to be certified as 5 times platinum with sales over 400,000 copies in Spain alone. On October 20th, 2009, Bisbal will release \\\\\"Sin Mirar Atr\\xc3\\xa1s\\\\\", which has been received with positive reviews.[1]. On the track Aqui Ahora, which is features on the album Premonicion, David worked with writer/producer DJ Sammy. In 2010 David was featured in Spanish Version of the FIFA 2010 Official World Cup song Waving Flag with Somali-Canadian Musician K\\'naan who is the original artist of the song.\\\\n\\\\n\\\\nInternational Appeal\\\\n\\\\nDavid Bisbal is considered a successful crossover artist in the United States because of the Hispanic market and internationally as he enjoys popularity in a great number of countries.\\\\n\\\\nOn September 3, 2003, he won the Latin Grammies held in Miami from the category \\\\\"Best New Artist\\\\\". During the event, He sang Angels[2], in a bilingual English / Spanish duet with Jessica Simpson. He also launched a big promotional tour in Latin America with sold-out concerts Argentina, Mexico, Puerto Rico, Venezuela and others.\\\\n\\\\nIn 2008, he recorded Hate That I Love You (Odio Que Te Amo)[3] with Rihanna. He achieved European success in Germany, Belgium and Romania in addition to great success in Japan.\\\\n\\\\nIn 2009, he recorded Sufriras a Spanish / English duet with singer Pixie Lott, eventually released as a bonus track on the Deluxe Edition of his fourth studio album, Sin Mirar Atr\\xc3\\xa1s.\\\\n\\\\n\\\\nWith over 4 million records sold worldwide, more than 300 concerts offered, David Bisbal became one of the singers with more coming in the world of pop music. Now with his new single Esclavo de sus besos (Slave of her kisses) and the song Mi princesa (My Princess) from the new album Sin Mirar Atras, Bisbal start a new chapter in its history as an international pop star.\\\\n\\\\n\\\\n\\\\n\\\\n100 free australia dating sites\\\\n\\\\n\\\\n\\\\n\\\\n <a href=\\\\\"https://www.last.fm/music/David+Bisbal\\\\\">Read more on Last.fm</a>. User-contributed text is available under the Creative Commons By-SA License; additional terms may apply.\"}}}'"
      ]
     },
     "execution_count": 40,
     "metadata": {},
     "output_type": "execute_result"
    }
   ],
   "source": [
    "llamada.content"
   ]
  },
  {
   "cell_type": "code",
   "execution_count": 41,
   "metadata": {},
   "outputs": [
    {
     "data": {
      "text/plain": [
       "requests.models.Response"
      ]
     },
     "execution_count": 41,
     "metadata": {},
     "output_type": "execute_result"
    }
   ],
   "source": [
    "type(llamada)"
   ]
  },
  {
   "cell_type": "code",
   "execution_count": 42,
   "metadata": {},
   "outputs": [],
   "source": [
    "davidbisbal=llamada.json()"
   ]
  },
  {
   "cell_type": "code",
   "execution_count": 43,
   "metadata": {},
   "outputs": [
    {
     "data": {
      "text/plain": [
       "1"
      ]
     },
     "execution_count": 43,
     "metadata": {},
     "output_type": "execute_result"
    }
   ],
   "source": [
    "len(davidbisbal) # 1, porque es toda la información para David Bisbal"
   ]
  },
  {
   "cell_type": "code",
   "execution_count": null,
   "metadata": {},
   "outputs": [],
   "source": [
    "# La biografía viene en la key (en llamada.content) : \"bio\" y dentro \"summary\" , entonces para acceder:\n",
    "bio_summary = davidbisbal['artist']['bio']['summary']\n",
    "bio_content = davidbisbal['artist']['bio']['content']"
   ]
  },
  {
   "cell_type": "code",
   "execution_count": 45,
   "metadata": {},
   "outputs": [
    {
     "name": "stdout",
     "output_type": "stream",
     "text": [
      "\n",
      "David Bisbal Ferre (born June 5, 1979 in Almería, Spain) is a Latin Grammy-winning Spanish pop singer. He gained his initial fame as a runner up on the interactive reality television show Operación Triunfo produced by Television Española.\n",
      "\n",
      "He has since released five studio albums, all of which topped the Spanish Albums Chart, in addition to recording a number of live albums. He's toured throughout Europe and Latin America and is now considered to be a crossover international artist. <a href=\"https://www.last.fm/music/David+Bisbal\">Read more on Last.fm</a>\n"
     ]
    }
   ],
   "source": [
    "print(bio_summary)"
   ]
  },
  {
   "cell_type": "code",
   "execution_count": 46,
   "metadata": {},
   "outputs": [
    {
     "name": "stdout",
     "output_type": "stream",
     "text": [
      "\n",
      "David Bisbal Ferre (born June 5, 1979 in Almería, Spain) is a Latin Grammy-winning Spanish pop singer. He gained his initial fame as a runner up on the interactive reality television show Operación Triunfo produced by Television Española.\n",
      "\n",
      "He has since released five studio albums, all of which topped the Spanish Albums Chart, in addition to recording a number of live albums. He's toured throughout Europe and Latin America and is now considered to be a crossover international artist.\n",
      "\n",
      "Beginnings: Operación Triunfo\n",
      "\n",
      "David Bisbal left school early and worked in a platinum and flower nursery. He was encouraged by his colleagues to audition for a music contest and he initially became part of Orquesta Expresiones where he continued singing and dancing.\n",
      "\n",
      "In October 2001 he auditioned for the first ever edition of Operación Triunfo (Spanish equivalent of Star Academy) where he was accepted and was one of the 16 finalists. The grand prize was the chance of representing Spain in the Eurovision Song Contest. He came second in the final losing to Rosa López. She went on to sing Europe's Living a Celebration for Spain in the Eurovision Song Contest 2002 (ESC) competition.\n",
      "\n",
      " Career\n",
      "\n",
      "Bisbal signed a contract with Vale Music Record label and released his first album recorded in Miami under the title \"Corazón Latino\" with Kike Santander as a producer. The album became 7 times platinum by summer 2002 after having topped the Spanish charts. The first single from the album, called Ave Maria had a phenomenal success. After winning the Latin Grammys, the album became platinum (over 1 million sales).\n",
      "\n",
      "In February 2004, he released his second album entitled \"Bulería\" again produced by his friend Kike Santander. It found similar success in Spain and throughout Latin America turning diamond with more than 1 million albums sold in Spain alone, becoming the best Spanish seller of 2004.\n",
      "\n",
      "In March 2005, he also released a DVD \"Todo Por Ustedes\" that contained live registrations of some of his concerts in the United States, Latin America and Spain.\n",
      "\n",
      "\"Premonición\" became the third studio album by David Bisbal released on 3 October 2006. end of the week, it had achieved enough sales to be certified as 5 times platinum with sales over 400,000 copies in Spain alone. On October 20th, 2009, Bisbal will release \"Sin Mirar Atrás\", which has been received with positive reviews.[1]. On the track Aqui Ahora, which is features on the album Premonicion, David worked with writer/producer DJ Sammy. In 2010 David was featured in Spanish Version of the FIFA 2010 Official World Cup song Waving Flag with Somali-Canadian Musician K'naan who is the original artist of the song.\n",
      "\n",
      "\n",
      "International Appeal\n",
      "\n",
      "David Bisbal is considered a successful crossover artist in the United States because of the Hispanic market and internationally as he enjoys popularity in a great number of countries.\n",
      "\n",
      "On September 3, 2003, he won the Latin Grammies held in Miami from the category \"Best New Artist\". During the event, He sang Angels[2], in a bilingual English / Spanish duet with Jessica Simpson. He also launched a big promotional tour in Latin America with sold-out concerts Argentina, Mexico, Puerto Rico, Venezuela and others.\n",
      "\n",
      "In 2008, he recorded Hate That I Love You (Odio Que Te Amo)[3] with Rihanna. He achieved European success in Germany, Belgium and Romania in addition to great success in Japan.\n",
      "\n",
      "In 2009, he recorded Sufriras a Spanish / English duet with singer Pixie Lott, eventually released as a bonus track on the Deluxe Edition of his fourth studio album, Sin Mirar Atrás.\n",
      "\n",
      "\n",
      "With over 4 million records sold worldwide, more than 300 concerts offered, David Bisbal became one of the singers with more coming in the world of pop music. Now with his new single Esclavo de sus besos (Slave of her kisses) and the song Mi princesa (My Princess) from the new album Sin Mirar Atras, Bisbal start a new chapter in its history as an international pop star.\n",
      "\n",
      "\n",
      "\n",
      "\n",
      "100 free australia dating sites\n",
      "\n",
      "\n",
      "\n",
      "\n",
      " <a href=\"https://www.last.fm/music/David+Bisbal\">Read more on Last.fm</a>. User-contributed text is available under the Creative Commons By-SA License; additional terms may apply.\n"
     ]
    }
   ],
   "source": [
    "print(bio_content)"
   ]
  }
 ],
 "metadata": {
  "kernelspec": {
   "display_name": "Python 3",
   "language": "python",
   "name": "python3"
  },
  "language_info": {
   "codemirror_mode": {
    "name": "ipython",
    "version": 3
   },
   "file_extension": ".py",
   "mimetype": "text/x-python",
   "name": "python",
   "nbconvert_exporter": "python",
   "pygments_lexer": "ipython3",
   "version": "3.12.7"
  }
 },
 "nbformat": 4,
 "nbformat_minor": 2
}
