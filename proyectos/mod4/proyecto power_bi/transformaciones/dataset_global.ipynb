{
 "cells": [
  {
   "cell_type": "markdown",
   "id": "06aaaa06",
   "metadata": {},
   "source": [
    "---\n",
    "description: EDA brecha tecnológica España\n",
    "---\n",
    "\n",
    "\n",
    "## Los Datos:\n",
    "\n",
    "**INE (Instituto Nacional de Estadística): https://www.ine.es**\n",
    "\n",
    "**1: [Fuente](https://www.ine.es/jaxi/Tabla.htm?tpx=70470&L=0)**\n",
    "\n",
    "**2: [Fuente](https://www.ine.es/jaxi/Datos.htm?tpx=70388#_tabs-grafico)**\n",
    "\n",
    "**3:[Fuente](https://www.ine.es/jaxi/Datos.htm?tpx=70466)**"
   ]
  },
  {
   "cell_type": "code",
   "execution_count": 149,
   "id": "14e9c74a",
   "metadata": {},
   "outputs": [],
   "source": [
    "# Tratamiento de datos\n",
    "# -----------------------------------------------------------------------\n",
    "import pandas as pd\n",
    "import numpy as np\n",
    "\n",
    "# Configuro el entorno de trabajo\n",
    "# -----------------------------------------------------------------------\n",
    "pd.set_option('display.max_columns', None)"
   ]
  },
  {
   "cell_type": "markdown",
   "id": "711c9dce",
   "metadata": {},
   "source": [
    "## CARACTS SOCIO-DEMOGRAF"
   ]
  },
  {
   "cell_type": "code",
   "execution_count": 150,
   "id": "6671d215",
   "metadata": {},
   "outputs": [],
   "source": [
    "df_educacion = pd.read_csv('../datos/7 educacion_TIC.csv', sep=';', encoding='latin1')"
   ]
  },
  {
   "cell_type": "code",
   "execution_count": 151,
   "id": "e894b711",
   "metadata": {},
   "outputs": [
    {
     "data": {
      "text/html": [
       "<div>\n",
       "<style scoped>\n",
       "    .dataframe tbody tr th:only-of-type {\n",
       "        vertical-align: middle;\n",
       "    }\n",
       "\n",
       "    .dataframe tbody tr th {\n",
       "        vertical-align: top;\n",
       "    }\n",
       "\n",
       "    .dataframe thead th {\n",
       "        text-align: right;\n",
       "    }\n",
       "</style>\n",
       "<table border=\"1\" class=\"dataframe\">\n",
       "  <thead>\n",
       "    <tr style=\"text-align: right;\">\n",
       "      <th></th>\n",
       "      <th>Sexo</th>\n",
       "      <th>Caracterï¿½sticas socioeconï¿½micas</th>\n",
       "      <th>Tipo de uso de TIC</th>\n",
       "      <th>Total</th>\n",
       "    </tr>\n",
       "  </thead>\n",
       "  <tbody>\n",
       "    <tr>\n",
       "      <th>0</th>\n",
       "      <td>Ambos sexos</td>\n",
       "      <td>Total Personas</td>\n",
       "      <td>Total Personas</td>\n",
       "      <td>36663412</td>\n",
       "    </tr>\n",
       "    <tr>\n",
       "      <th>1</th>\n",
       "      <td>Ambos sexos</td>\n",
       "      <td>Total Personas</td>\n",
       "      <td>Personas que han utilizado el telï¿½fono mï¿½vil</td>\n",
       "      <td>99,1</td>\n",
       "    </tr>\n",
       "    <tr>\n",
       "      <th>2</th>\n",
       "      <td>Ambos sexos</td>\n",
       "      <td>Total Personas</td>\n",
       "      <td>Personas que han utilizado Internet en los ï¿½...</td>\n",
       "      <td>95,8</td>\n",
       "    </tr>\n",
       "    <tr>\n",
       "      <th>3</th>\n",
       "      <td>Ambos sexos</td>\n",
       "      <td>Total Personas</td>\n",
       "      <td>Personas que han utilizado Internet al menos u...</td>\n",
       "      <td>95</td>\n",
       "    </tr>\n",
       "    <tr>\n",
       "      <th>4</th>\n",
       "      <td>Ambos sexos</td>\n",
       "      <td>Total Personas</td>\n",
       "      <td>Personas que han utilizado Internet diariament...</td>\n",
       "      <td>91,5</td>\n",
       "    </tr>\n",
       "  </tbody>\n",
       "</table>\n",
       "</div>"
      ],
      "text/plain": [
       "          Sexo Caracterï¿½sticas socioeconï¿½micas  \\\n",
       "0  Ambos sexos                      Total Personas   \n",
       "1  Ambos sexos                      Total Personas   \n",
       "2  Ambos sexos                      Total Personas   \n",
       "3  Ambos sexos                      Total Personas   \n",
       "4  Ambos sexos                      Total Personas   \n",
       "\n",
       "                                  Tipo de uso de TIC     Total  \n",
       "0                                     Total Personas  36663412  \n",
       "1   Personas que han utilizado el telï¿½fono mï¿½vil      99,1  \n",
       "2  Personas que han utilizado Internet en los ï¿½...      95,8  \n",
       "3  Personas que han utilizado Internet al menos u...        95  \n",
       "4  Personas que han utilizado Internet diariament...      91,5  "
      ]
     },
     "execution_count": 151,
     "metadata": {},
     "output_type": "execute_result"
    }
   ],
   "source": [
    "df_educacion.head()"
   ]
  },
  {
   "cell_type": "code",
   "execution_count": 8,
   "id": "83bbec8e",
   "metadata": {},
   "outputs": [
    {
     "data": {
      "text/plain": [
       "(594, 4)"
      ]
     },
     "execution_count": 8,
     "metadata": {},
     "output_type": "execute_result"
    }
   ],
   "source": [
    "df_educacion.shape"
   ]
  },
  {
   "cell_type": "code",
   "execution_count": 9,
   "id": "b0ea6d31",
   "metadata": {},
   "outputs": [
    {
     "data": {
      "text/plain": [
       "0"
      ]
     },
     "execution_count": 9,
     "metadata": {},
     "output_type": "execute_result"
    }
   ],
   "source": [
    "df_educacion.duplicated().sum()"
   ]
  },
  {
   "cell_type": "code",
   "execution_count": 10,
   "id": "684a41d2",
   "metadata": {},
   "outputs": [
    {
     "data": {
      "text/plain": [
       "Sexo                                   0\n",
       "Caracterï¿½sticas socioeconï¿½micas    0\n",
       "Tipo de uso de TIC                     0\n",
       "Total                                  0\n",
       "dtype: int64"
      ]
     },
     "execution_count": 10,
     "metadata": {},
     "output_type": "execute_result"
    }
   ],
   "source": [
    "df_educacion.isnull().sum()"
   ]
  },
  {
   "cell_type": "code",
   "execution_count": 11,
   "id": "1a308a0f",
   "metadata": {},
   "outputs": [
    {
     "data": {
      "text/plain": [
       "Index(['Sexo', 'Caracterï¿½sticas socioeconï¿½micas', 'Tipo de uso de TIC',\n",
       "       'Total'],\n",
       "      dtype='object')"
      ]
     },
     "execution_count": 11,
     "metadata": {},
     "output_type": "execute_result"
    }
   ],
   "source": [
    "df_educacion. columns"
   ]
  },
  {
   "cell_type": "code",
   "execution_count": 152,
   "id": "111a85e4",
   "metadata": {},
   "outputs": [],
   "source": [
    "df_educacion.rename(columns={\n",
    "    'Caracterï¿½sticas socioeconï¿½micas': 'caracts_socioecon',\n",
    "    'Tipo de uso de TIC': 'uso_TIC',\n",
    "    'Sexo':'sexo',\n",
    "    'Total':'total'\n",
    "}, inplace=True)"
   ]
  },
  {
   "cell_type": "code",
   "execution_count": 153,
   "id": "2d47a235",
   "metadata": {},
   "outputs": [
    {
     "data": {
      "text/plain": [
       "Index(['sexo', 'caracts_socioecon', 'uso_TIC', 'total'], dtype='object')"
      ]
     },
     "execution_count": 153,
     "metadata": {},
     "output_type": "execute_result"
    }
   ],
   "source": [
    "df_educacion.columns"
   ]
  },
  {
   "cell_type": "code",
   "execution_count": 154,
   "id": "1473cfd0",
   "metadata": {},
   "outputs": [
    {
     "data": {
      "text/plain": [
       "sexo\n",
       "Ambos sexos     198\n",
       "Sexo: Hombre    198\n",
       "Sexo: Mujer     198\n",
       "Name: count, dtype: int64"
      ]
     },
     "execution_count": 154,
     "metadata": {},
     "output_type": "execute_result"
    }
   ],
   "source": [
    "df_educacion['sexo'].value_counts()"
   ]
  },
  {
   "cell_type": "code",
   "execution_count": 155,
   "id": "45c4b55a",
   "metadata": {},
   "outputs": [],
   "source": [
    "map = {'Sexo: Mujer': 'mujer',\n",
    "        'Sexo: Hombre': 'hombre'}\n",
    "\n",
    "df_educacion['sexo'] = df_educacion['sexo'].map(map)"
   ]
  },
  {
   "cell_type": "code",
   "execution_count": 156,
   "id": "022c4c19",
   "metadata": {},
   "outputs": [
    {
     "data": {
      "text/plain": [
       "sexo\n",
       "hombre    198\n",
       "mujer     198\n",
       "Name: count, dtype: int64"
      ]
     },
     "execution_count": 156,
     "metadata": {},
     "output_type": "execute_result"
    }
   ],
   "source": [
    "df_educacion['sexo'].value_counts()"
   ]
  },
  {
   "cell_type": "code",
   "execution_count": 157,
   "id": "c77be236",
   "metadata": {},
   "outputs": [
    {
     "data": {
      "text/plain": [
       "uso_TIC\n",
       "Total Personas                                                                              99\n",
       "Personas que han utilizado el telï¿½fono mï¿½vil                                            99\n",
       "Personas que han utilizado Internet en los ï¿½ltimos 3 meses                                99\n",
       "Personas que han utilizado Internet al menos una vez por semana en los ï¿½ltimos 3 meses    99\n",
       "Personas que han utilizado Internet diariamente (al menos 5 dï¿½as a la semana)             99\n",
       "Personas que han comprado a travï¿½s de Internet en los ï¿½ltimos 3 meses                   99\n",
       "Name: count, dtype: int64"
      ]
     },
     "execution_count": 157,
     "metadata": {},
     "output_type": "execute_result"
    }
   ],
   "source": [
    "df_educacion['uso_TIC'].value_counts()"
   ]
  },
  {
   "cell_type": "code",
   "execution_count": 158,
   "id": "71db990e",
   "metadata": {},
   "outputs": [],
   "source": [
    "df_educacion['uso_TIC'] = df_educacion['uso_TIC'].str.lower()"
   ]
  },
  {
   "cell_type": "code",
   "execution_count": 159,
   "id": "d5d3c9fa",
   "metadata": {},
   "outputs": [
    {
     "data": {
      "text/plain": [
       "uso_TIC\n",
       "total personas                                                                              99\n",
       "personas que han utilizado el telï¿½fono mï¿½vil                                            99\n",
       "personas que han utilizado internet en los ï¿½ltimos 3 meses                                99\n",
       "personas que han utilizado internet al menos una vez por semana en los ï¿½ltimos 3 meses    99\n",
       "personas que han utilizado internet diariamente (al menos 5 dï¿½as a la semana)             99\n",
       "personas que han comprado a travï¿½s de internet en los ï¿½ltimos 3 meses                   99\n",
       "Name: count, dtype: int64"
      ]
     },
     "execution_count": 159,
     "metadata": {},
     "output_type": "execute_result"
    }
   ],
   "source": [
    "df_educacion['uso_TIC'].value_counts()"
   ]
  },
  {
   "cell_type": "code",
   "execution_count": 160,
   "id": "c0457ba6",
   "metadata": {},
   "outputs": [],
   "source": [
    "map = {'personas que han utilizado el telï¿½fono mï¿½vil': 'telef_mov', \n",
    "    'personas que han utilizado internet en los ï¿½ltimos 3 meses':'uso_internet_ultimos3meses',\n",
    "    'personas que han utilizado internet al menos una vez por semana en los ï¿½ltimos 3 meses':'uso_internet_semanal',\n",
    "    'personas que han utilizado internet diariamente (al menos 5 dï¿½as a la semana)':'uso_internet_diario',\n",
    "    'personas que han comprado a travï¿½s de internet en los ï¿½ltimos 3 meses':'compra_online_ultimos3meses'}\n",
    "\n",
    "df_educacion['uso_TIC']= df_educacion['uso_TIC'].map(map)"
   ]
  },
  {
   "cell_type": "code",
   "execution_count": 161,
   "id": "edc0d548",
   "metadata": {},
   "outputs": [
    {
     "data": {
      "text/plain": [
       "uso_TIC\n",
       "telef_mov                      99\n",
       "uso_internet_ultimos3meses     99\n",
       "uso_internet_semanal           99\n",
       "uso_internet_diario            99\n",
       "compra_online_ultimos3meses    99\n",
       "Name: count, dtype: int64"
      ]
     },
     "execution_count": 161,
     "metadata": {},
     "output_type": "execute_result"
    }
   ],
   "source": [
    "df_educacion['uso_TIC'].value_counts()"
   ]
  },
  {
   "cell_type": "code",
   "execution_count": 162,
   "id": "859851ae",
   "metadata": {},
   "outputs": [
    {
     "data": {
      "text/plain": [
       "caracts_socioecon\n",
       "Total Personas                                                                                         18\n",
       "Estudios terminados: Menos que primaria                                                                18\n",
       "Estudios terminados: Educaciï¿½n Primaria                                                              18\n",
       "Estudios terminados: Primera etapa de Educaciï¿½n Secundaria                                           18\n",
       "Estudios terminados: Segunda etapa de Educaciï¿½n Secundaria                                           18\n",
       "Estudios terminados: Formaciï¿½n Profesional de Grado Superior                                         18\n",
       "Estudios terminados: Diplomatura universitaria y equivalentes                                          18\n",
       "Estudios terminados: Licenciatura universitaria, mï¿½ster y equivalentes                               18\n",
       "Estudios terminados: Doctorado universitario                                                           18\n",
       "Estudios terminados: Otros                                                                             18\n",
       "Situaciï¿½n laboral: Activos ocupados                                                                  18\n",
       "Situaciï¿½n laboral: Activos parados                                                                   18\n",
       "Situaciï¿½n laboral: Inactivos: Estudiantes                                                            18\n",
       "Situaciï¿½n laboral: Inactivos: Labores del hogar                                                      18\n",
       "Situaciï¿½n laboral: Inactivos: Pensionistas                                                           18\n",
       "Situaciï¿½n laboral: Otra situaciï¿½n laboral                                                          18\n",
       "Situaciï¿½n Profesional (en trabajo principal): Trabajador por cuenta ajena con contrato indefinido    18\n",
       "Situaciï¿½n Profesional (en trabajo principal): Trabajador por cuenta ajena con contrato temporal      18\n",
       "Situaciï¿½n Profesional (en trabajo principal): Trabajador por cuenta propia  con empleados            18\n",
       "Situaciï¿½n Profesional (en trabajo principal): Trabajador por cuenta propia sin empleados             18\n",
       "Situaciï¿½n Profesional (en trabajo principal):  Ayuda familiar (sin sueldo estipulado)                18\n",
       "Jornada laboral (en trabajo principal) : A tiempo completo                                             18\n",
       "Jornada laboral (en trabajo principal) : A tiempo parcial                                              18\n",
       "Ocupaciï¿½n principal: Manual                                                                          18\n",
       "Ocupaciï¿½n principal: No Manual                                                                       18\n",
       "Ocupaciï¿½n principal: Trabajadores TIC                                                                18\n",
       "Ocupaciï¿½n principal: Otros trabajadores                                                              18\n",
       "Ingresos mensuales netos del hogar: Menos de 1.200 euros                                               18\n",
       "Ingresos mensuales netos del hogar: De 1.200 a menos de 1.900 euros                                    18\n",
       "Ingresos mensuales netos del hogar: De 1.900 a menos de 2.700 euros                                    18\n",
       "Ingresos mensuales netos del hogar: De 2.700 a menos de 3.900 euros                                    18\n",
       "Ingresos mensuales netos del hogar: 3.900 o mï¿½s euros                                                18\n",
       "Ingresos mensuales netos del hogar: NS/NR                                                              18\n",
       "Name: count, dtype: int64"
      ]
     },
     "execution_count": 162,
     "metadata": {},
     "output_type": "execute_result"
    }
   ],
   "source": [
    "df_educacion['caracts_socioecon'].value_counts()"
   ]
  },
  {
   "cell_type": "code",
   "execution_count": 163,
   "id": "a79d600d",
   "metadata": {},
   "outputs": [],
   "source": [
    "# Reconvertimos desde latin1 a utf-8\n",
    "df_educacion['caracts_socioecon'] = df_educacion['caracts_socioecon'].apply(lambda x: x.encode('latin1').decode('utf-8'))"
   ]
  },
  {
   "cell_type": "code",
   "execution_count": 164,
   "id": "4c80305b",
   "metadata": {},
   "outputs": [
    {
     "data": {
      "text/plain": [
       "caracts_socioecon\n",
       "Total Personas                                                                                       18\n",
       "Estudios terminados: Menos que primaria                                                              18\n",
       "Estudios terminados: Educaci�n Primaria                                                              18\n",
       "Estudios terminados: Primera etapa de Educaci�n Secundaria                                           18\n",
       "Estudios terminados: Segunda etapa de Educaci�n Secundaria                                           18\n",
       "Estudios terminados: Formaci�n Profesional de Grado Superior                                         18\n",
       "Estudios terminados: Diplomatura universitaria y equivalentes                                        18\n",
       "Estudios terminados: Licenciatura universitaria, m�ster y equivalentes                               18\n",
       "Estudios terminados: Doctorado universitario                                                         18\n",
       "Estudios terminados: Otros                                                                           18\n",
       "Situaci�n laboral: Activos ocupados                                                                  18\n",
       "Situaci�n laboral: Activos parados                                                                   18\n",
       "Situaci�n laboral: Inactivos: Estudiantes                                                            18\n",
       "Situaci�n laboral: Inactivos: Labores del hogar                                                      18\n",
       "Situaci�n laboral: Inactivos: Pensionistas                                                           18\n",
       "Situaci�n laboral: Otra situaci�n laboral                                                            18\n",
       "Situaci�n Profesional (en trabajo principal): Trabajador por cuenta ajena con contrato indefinido    18\n",
       "Situaci�n Profesional (en trabajo principal): Trabajador por cuenta ajena con contrato temporal      18\n",
       "Situaci�n Profesional (en trabajo principal): Trabajador por cuenta propia  con empleados            18\n",
       "Situaci�n Profesional (en trabajo principal): Trabajador por cuenta propia sin empleados             18\n",
       "Situaci�n Profesional (en trabajo principal):  Ayuda familiar (sin sueldo estipulado)                18\n",
       "Jornada laboral (en trabajo principal) : A tiempo completo                                           18\n",
       "Jornada laboral (en trabajo principal) : A tiempo parcial                                            18\n",
       "Ocupaci�n principal: Manual                                                                          18\n",
       "Ocupaci�n principal: No Manual                                                                       18\n",
       "Ocupaci�n principal: Trabajadores TIC                                                                18\n",
       "Ocupaci�n principal: Otros trabajadores                                                              18\n",
       "Ingresos mensuales netos del hogar: Menos de 1.200 euros                                             18\n",
       "Ingresos mensuales netos del hogar: De 1.200 a menos de 1.900 euros                                  18\n",
       "Ingresos mensuales netos del hogar: De 1.900 a menos de 2.700 euros                                  18\n",
       "Ingresos mensuales netos del hogar: De 2.700 a menos de 3.900 euros                                  18\n",
       "Ingresos mensuales netos del hogar: 3.900 o m�s euros                                                18\n",
       "Ingresos mensuales netos del hogar: NS/NR                                                            18\n",
       "Name: count, dtype: int64"
      ]
     },
     "execution_count": 164,
     "metadata": {},
     "output_type": "execute_result"
    }
   ],
   "source": [
    "df_educacion['caracts_socioecon'].value_counts()"
   ]
  },
  {
   "cell_type": "code",
   "execution_count": 165,
   "id": "de7c2c9a",
   "metadata": {},
   "outputs": [
    {
     "data": {
      "text/html": [
       "<div>\n",
       "<style scoped>\n",
       "    .dataframe tbody tr th:only-of-type {\n",
       "        vertical-align: middle;\n",
       "    }\n",
       "\n",
       "    .dataframe tbody tr th {\n",
       "        vertical-align: top;\n",
       "    }\n",
       "\n",
       "    .dataframe thead th {\n",
       "        text-align: right;\n",
       "    }\n",
       "</style>\n",
       "<table border=\"1\" class=\"dataframe\">\n",
       "  <thead>\n",
       "    <tr style=\"text-align: right;\">\n",
       "      <th></th>\n",
       "      <th>sexo</th>\n",
       "      <th>caracts_socioecon</th>\n",
       "      <th>uso_TIC</th>\n",
       "      <th>total</th>\n",
       "    </tr>\n",
       "  </thead>\n",
       "  <tbody>\n",
       "    <tr>\n",
       "      <th>553</th>\n",
       "      <td>mujer</td>\n",
       "      <td>Ocupaci�n principal: Otros trabajadores</td>\n",
       "      <td>telef_mov</td>\n",
       "      <td>99,9</td>\n",
       "    </tr>\n",
       "    <tr>\n",
       "      <th>498</th>\n",
       "      <td>mujer</td>\n",
       "      <td>Situaci�n Profesional (en trabajo principal): ...</td>\n",
       "      <td>NaN</td>\n",
       "      <td>1453873</td>\n",
       "    </tr>\n",
       "    <tr>\n",
       "      <th>70</th>\n",
       "      <td>NaN</td>\n",
       "      <td>Situaci�n laboral: Activos parados</td>\n",
       "      <td>uso_internet_diario</td>\n",
       "      <td>91,2</td>\n",
       "    </tr>\n",
       "    <tr>\n",
       "      <th>395</th>\n",
       "      <td>hombre</td>\n",
       "      <td>Ingresos mensuales netos del hogar: NS/NR</td>\n",
       "      <td>compra_online_ultimos3meses</td>\n",
       "      <td>23,2</td>\n",
       "    </tr>\n",
       "    <tr>\n",
       "      <th>379</th>\n",
       "      <td>hombre</td>\n",
       "      <td>Ingresos mensuales netos del hogar: De 2.700 a...</td>\n",
       "      <td>telef_mov</td>\n",
       "      <td>99,3</td>\n",
       "    </tr>\n",
       "    <tr>\n",
       "      <th>67</th>\n",
       "      <td>NaN</td>\n",
       "      <td>Situaci�n laboral: Activos parados</td>\n",
       "      <td>telef_mov</td>\n",
       "      <td>99</td>\n",
       "    </tr>\n",
       "    <tr>\n",
       "      <th>524</th>\n",
       "      <td>mujer</td>\n",
       "      <td>Jornada laboral (en trabajo principal) : A tie...</td>\n",
       "      <td>uso_internet_ultimos3meses</td>\n",
       "      <td>99,3</td>\n",
       "    </tr>\n",
       "    <tr>\n",
       "      <th>297</th>\n",
       "      <td>hombre</td>\n",
       "      <td>Situaci�n Profesional (en trabajo principal): ...</td>\n",
       "      <td>uso_internet_semanal</td>\n",
       "      <td>98,3</td>\n",
       "    </tr>\n",
       "    <tr>\n",
       "      <th>72</th>\n",
       "      <td>NaN</td>\n",
       "      <td>Situaci�n laboral: Inactivos: Estudiantes</td>\n",
       "      <td>NaN</td>\n",
       "      <td>3633159</td>\n",
       "    </tr>\n",
       "    <tr>\n",
       "      <th>571</th>\n",
       "      <td>mujer</td>\n",
       "      <td>Ingresos mensuales netos del hogar: De 1.900 a...</td>\n",
       "      <td>telef_mov</td>\n",
       "      <td>99,1</td>\n",
       "    </tr>\n",
       "  </tbody>\n",
       "</table>\n",
       "</div>"
      ],
      "text/plain": [
       "       sexo                                  caracts_socioecon  \\\n",
       "553   mujer            Ocupaci�n principal: Otros trabajadores   \n",
       "498   mujer  Situaci�n Profesional (en trabajo principal): ...   \n",
       "70      NaN                 Situaci�n laboral: Activos parados   \n",
       "395  hombre          Ingresos mensuales netos del hogar: NS/NR   \n",
       "379  hombre  Ingresos mensuales netos del hogar: De 2.700 a...   \n",
       "67      NaN                 Situaci�n laboral: Activos parados   \n",
       "524   mujer  Jornada laboral (en trabajo principal) : A tie...   \n",
       "297  hombre  Situaci�n Profesional (en trabajo principal): ...   \n",
       "72      NaN          Situaci�n laboral: Inactivos: Estudiantes   \n",
       "571   mujer  Ingresos mensuales netos del hogar: De 1.900 a...   \n",
       "\n",
       "                         uso_TIC    total  \n",
       "553                    telef_mov     99,9  \n",
       "498                          NaN  1453873  \n",
       "70           uso_internet_diario     91,2  \n",
       "395  compra_online_ultimos3meses     23,2  \n",
       "379                    telef_mov     99,3  \n",
       "67                     telef_mov       99  \n",
       "524   uso_internet_ultimos3meses     99,3  \n",
       "297         uso_internet_semanal     98,3  \n",
       "72                           NaN  3633159  \n",
       "571                    telef_mov     99,1  "
      ]
     },
     "execution_count": 165,
     "metadata": {},
     "output_type": "execute_result"
    }
   ],
   "source": [
    "df_educacion.sample(10)"
   ]
  },
  {
   "cell_type": "code",
   "execution_count": 166,
   "id": "92412a0d",
   "metadata": {},
   "outputs": [
    {
     "data": {
      "text/plain": [
       "(18, 4)"
      ]
     },
     "execution_count": 166,
     "metadata": {},
     "output_type": "execute_result"
    }
   ],
   "source": [
    "df_educacion[df_educacion['caracts_socioecon'] == 'Total Personas'].shape"
   ]
  },
  {
   "cell_type": "code",
   "execution_count": 167,
   "id": "5e9f777c",
   "metadata": {},
   "outputs": [
    {
     "data": {
      "text/plain": [
       "(594, 4)"
      ]
     },
     "execution_count": 167,
     "metadata": {},
     "output_type": "execute_result"
    }
   ],
   "source": [
    "df_educacion.shape"
   ]
  },
  {
   "cell_type": "code",
   "execution_count": 168,
   "id": "dcb3f85c",
   "metadata": {},
   "outputs": [
    {
     "data": {
      "text/plain": [
       "sexo                 198\n",
       "caracts_socioecon      0\n",
       "uso_TIC               99\n",
       "total                  0\n",
       "dtype: int64"
      ]
     },
     "execution_count": 168,
     "metadata": {},
     "output_type": "execute_result"
    }
   ],
   "source": [
    "df_educacion.isnull().sum()"
   ]
  },
  {
   "cell_type": "code",
   "execution_count": 169,
   "id": "2e27229b",
   "metadata": {},
   "outputs": [
    {
     "data": {
      "text/html": [
       "<div>\n",
       "<style scoped>\n",
       "    .dataframe tbody tr th:only-of-type {\n",
       "        vertical-align: middle;\n",
       "    }\n",
       "\n",
       "    .dataframe tbody tr th {\n",
       "        vertical-align: top;\n",
       "    }\n",
       "\n",
       "    .dataframe thead th {\n",
       "        text-align: right;\n",
       "    }\n",
       "</style>\n",
       "<table border=\"1\" class=\"dataframe\">\n",
       "  <thead>\n",
       "    <tr style=\"text-align: right;\">\n",
       "      <th></th>\n",
       "      <th>sexo</th>\n",
       "      <th>caracts_socioecon</th>\n",
       "      <th>uso_TIC</th>\n",
       "      <th>total</th>\n",
       "    </tr>\n",
       "  </thead>\n",
       "  <tbody>\n",
       "    <tr>\n",
       "      <th>1</th>\n",
       "      <td>NaN</td>\n",
       "      <td>Total Personas</td>\n",
       "      <td>telef_mov</td>\n",
       "      <td>99,1</td>\n",
       "    </tr>\n",
       "    <tr>\n",
       "      <th>2</th>\n",
       "      <td>NaN</td>\n",
       "      <td>Total Personas</td>\n",
       "      <td>uso_internet_ultimos3meses</td>\n",
       "      <td>95,8</td>\n",
       "    </tr>\n",
       "    <tr>\n",
       "      <th>3</th>\n",
       "      <td>NaN</td>\n",
       "      <td>Total Personas</td>\n",
       "      <td>uso_internet_semanal</td>\n",
       "      <td>95</td>\n",
       "    </tr>\n",
       "    <tr>\n",
       "      <th>4</th>\n",
       "      <td>NaN</td>\n",
       "      <td>Total Personas</td>\n",
       "      <td>uso_internet_diario</td>\n",
       "      <td>91,5</td>\n",
       "    </tr>\n",
       "    <tr>\n",
       "      <th>5</th>\n",
       "      <td>NaN</td>\n",
       "      <td>Total Personas</td>\n",
       "      <td>compra_online_ultimos3meses</td>\n",
       "      <td>56,7</td>\n",
       "    </tr>\n",
       "    <tr>\n",
       "      <th>...</th>\n",
       "      <td>...</td>\n",
       "      <td>...</td>\n",
       "      <td>...</td>\n",
       "      <td>...</td>\n",
       "    </tr>\n",
       "    <tr>\n",
       "      <th>589</th>\n",
       "      <td>mujer</td>\n",
       "      <td>Ingresos mensuales netos del hogar: NS/NR</td>\n",
       "      <td>telef_mov</td>\n",
       "      <td>100</td>\n",
       "    </tr>\n",
       "    <tr>\n",
       "      <th>590</th>\n",
       "      <td>mujer</td>\n",
       "      <td>Ingresos mensuales netos del hogar: NS/NR</td>\n",
       "      <td>uso_internet_ultimos3meses</td>\n",
       "      <td>90,7</td>\n",
       "    </tr>\n",
       "    <tr>\n",
       "      <th>591</th>\n",
       "      <td>mujer</td>\n",
       "      <td>Ingresos mensuales netos del hogar: NS/NR</td>\n",
       "      <td>uso_internet_semanal</td>\n",
       "      <td>90,7</td>\n",
       "    </tr>\n",
       "    <tr>\n",
       "      <th>592</th>\n",
       "      <td>mujer</td>\n",
       "      <td>Ingresos mensuales netos del hogar: NS/NR</td>\n",
       "      <td>uso_internet_diario</td>\n",
       "      <td>82,4</td>\n",
       "    </tr>\n",
       "    <tr>\n",
       "      <th>593</th>\n",
       "      <td>mujer</td>\n",
       "      <td>Ingresos mensuales netos del hogar: NS/NR</td>\n",
       "      <td>compra_online_ultimos3meses</td>\n",
       "      <td>38,6</td>\n",
       "    </tr>\n",
       "  </tbody>\n",
       "</table>\n",
       "<p>495 rows × 4 columns</p>\n",
       "</div>"
      ],
      "text/plain": [
       "      sexo                          caracts_socioecon  \\\n",
       "1      NaN                             Total Personas   \n",
       "2      NaN                             Total Personas   \n",
       "3      NaN                             Total Personas   \n",
       "4      NaN                             Total Personas   \n",
       "5      NaN                             Total Personas   \n",
       "..     ...                                        ...   \n",
       "589  mujer  Ingresos mensuales netos del hogar: NS/NR   \n",
       "590  mujer  Ingresos mensuales netos del hogar: NS/NR   \n",
       "591  mujer  Ingresos mensuales netos del hogar: NS/NR   \n",
       "592  mujer  Ingresos mensuales netos del hogar: NS/NR   \n",
       "593  mujer  Ingresos mensuales netos del hogar: NS/NR   \n",
       "\n",
       "                         uso_TIC total  \n",
       "1                      telef_mov  99,1  \n",
       "2     uso_internet_ultimos3meses  95,8  \n",
       "3           uso_internet_semanal    95  \n",
       "4            uso_internet_diario  91,5  \n",
       "5    compra_online_ultimos3meses  56,7  \n",
       "..                           ...   ...  \n",
       "589                    telef_mov   100  \n",
       "590   uso_internet_ultimos3meses  90,7  \n",
       "591         uso_internet_semanal  90,7  \n",
       "592          uso_internet_diario  82,4  \n",
       "593  compra_online_ultimos3meses  38,6  \n",
       "\n",
       "[495 rows x 4 columns]"
      ]
     },
     "execution_count": 169,
     "metadata": {},
     "output_type": "execute_result"
    }
   ],
   "source": [
    "df_educacion[df_educacion['uso_TIC'].notnull()]"
   ]
  },
  {
   "cell_type": "code",
   "execution_count": 170,
   "id": "aec3760f",
   "metadata": {},
   "outputs": [],
   "source": [
    "df_educacion = df_educacion[df_educacion['caracts_socioecon'] != 'Total Personas']"
   ]
  },
  {
   "cell_type": "code",
   "execution_count": 171,
   "id": "e3d4e0ec",
   "metadata": {},
   "outputs": [
    {
     "data": {
      "text/plain": [
       "caracts_socioecon\n",
       "Estudios terminados: Menos que primaria                         18\n",
       "Estudios terminados: Educaci�n Primaria                         18\n",
       "Estudios terminados: Primera etapa de Educaci�n Secundaria      18\n",
       "Estudios terminados: Segunda etapa de Educaci�n Secundaria      18\n",
       "Estudios terminados: Formaci�n Profesional de Grado Superior    18\n",
       "Name: count, dtype: int64"
      ]
     },
     "execution_count": 171,
     "metadata": {},
     "output_type": "execute_result"
    }
   ],
   "source": [
    "df_educacion['caracts_socioecon'].value_counts().head()"
   ]
  },
  {
   "cell_type": "code",
   "execution_count": 33,
   "id": "01b2749c",
   "metadata": {},
   "outputs": [
    {
     "data": {
      "text/plain": [
       "Index(['sexo', 'caracts_socioecon', 'uso_TIC', 'total'], dtype='object')"
      ]
     },
     "execution_count": 33,
     "metadata": {},
     "output_type": "execute_result"
    }
   ],
   "source": [
    "df_educacion.columns"
   ]
  },
  {
   "cell_type": "code",
   "execution_count": 34,
   "id": "c6011f4e",
   "metadata": {},
   "outputs": [
    {
     "data": {
      "text/plain": [
       "(576, 4)"
      ]
     },
     "execution_count": 34,
     "metadata": {},
     "output_type": "execute_result"
    }
   ],
   "source": [
    "df_educacion.shape"
   ]
  },
  {
   "cell_type": "code",
   "execution_count": 172,
   "id": "07269636",
   "metadata": {},
   "outputs": [],
   "source": [
    "mapeo = {\n",
    "    'Estudios terminados: Menos que primaria': 'Estudios terminados: Menos que primaria',\n",
    "    'Estudios terminados: Educaci�n Primaria': 'Estudios terminados: Educacion Primaria',\n",
    "    'Estudios terminados: Primera etapa de Educaci�n Secundaria': 'Estudios terminados: Primera etapa de Educacion Secundaria',\n",
    "    'Estudios terminados: Segunda etapa de Educaci�n Secundaria': 'Estudios terminados: Segunda etapa de Educacion Secundaria',\n",
    "    'Estudios terminados: Formaci�n Profesional de Grado Superior': 'Estudios terminados: Formacion Profesional de Grado Superior',\n",
    "    'Estudios terminados: Diplomatura universitaria y equivalentes': 'Estudios terminados: Diplomatura universitaria y equivalentes',\n",
    "    'Estudios terminados: Licenciatura universitaria, m�ster y equivalentes': 'Estudios terminados: Licenciatura universitaria, master y equivalentes',\n",
    "    'Estudios terminados: Doctorado universitario': 'Estudios terminados: Doctorado universitario',\n",
    "    'Estudios terminados: Otros': 'Estudios terminados: Otros',\n",
    "    'Situaci�n laboral: Activos ocupados': 'Situacion laboral: Activos ocupados',\n",
    "    'Situaci�n laboral: Activos parados': 'Situacion laboral: Activos parados',\n",
    "    'Situaci�n laboral: Inactivos: Estudiantes': 'Situacion laboral: Inactivos: Estudiantes',\n",
    "    'Situaci�n laboral: Inactivos: Labores del hogar': 'Situacion laboral: Inactivos: Labores del hogar',\n",
    "    'Situaci�n laboral: Inactivos: Pensionistas': 'Situacion laboral: Inactivos: Pensionistas',\n",
    "    'Situaci�n laboral: Otra situaci�n laboral': 'Situacion laboral: Otra situacion laboral',\n",
    "    'Situaci�n Profesional (en trabajo principal): Trabajador por cuenta ajena con contrato indefinido': 'Situacion Profesional (en trabajo principal): Trabajador por cuenta ajena con contrato indefinido',\n",
    "    'Situaci�n Profesional (en trabajo principal): Trabajador por cuenta ajena con contrato temporal': 'Situacion Profesional (en trabajo principal): Trabajador por cuenta ajena con contrato temporal',\n",
    "    'Situaci�n Profesional (en trabajo principal): Trabajador por cuenta propia  con empleados': 'Situacion Profesional (en trabajo principal): Trabajador por cuenta propia con empleados',\n",
    "    'Situaci�n Profesional (en trabajo principal): Trabajador por cuenta propia sin empleados': 'Situacion Profesional (en trabajo principal): Trabajador por cuenta propia sin empleados',\n",
    "    'Situaci�n Profesional (en trabajo principal):  Ayuda familiar (sin sueldo estipulado)': 'Situacion Profesional (en trabajo principal): Ayuda familiar (sin sueldo estipulado)',\n",
    "    'Jornada laboral (en trabajo principal) : A tiempo completo': 'Jornada laboral (en trabajo principal): A tiempo completo',\n",
    "    'Jornada laboral (en trabajo principal) : A tiempo parcial': 'Jornada laboral (en trabajo principal): A tiempo parcial',\n",
    "    'Ocupaci�n principal: Manual': 'Ocupacion principal: Manual',\n",
    "    'Ocupaci�n principal: No Manual': 'Ocupacion principal: No Manual',\n",
    "    'Ocupaci�n principal: Trabajadores TIC': 'Ocupacion principal: Trabajadores TIC',\n",
    "    'Ocupaci�n principal: Otros trabajadores': 'Ocupacion principal: Otros trabajadores',\n",
    "    'Ingresos mensuales netos del hogar: Menos de 1.200 euros': 'Ingresos mensuales netos del hogar: Menos de 1200 euros',\n",
    "    'Ingresos mensuales netos del hogar: De 1.200 a menos de 1.900 euros': 'Ingresos mensuales netos del hogar: De 1200 a menos de 1900 euros',\n",
    "    'Ingresos mensuales netos del hogar: De 1.900 a menos de 2.700 euros': 'Ingresos mensuales netos del hogar: De 1900 a menos de 2700 euros',\n",
    "    'Ingresos mensuales netos del hogar: De 2.700 a menos de 3.900 euros': 'Ingresos mensuales netos del hogar: De 2700 a menos de 3900 euros',\n",
    "    'Ingresos mensuales netos del hogar: 3.900 o m�s euros': 'Ingresos mensuales netos del hogar: 3900 o mas euros',\n",
    "    'Ingresos mensuales netos del hogar: NS/NR': 'Ingresos mensuales netos del hogar: NS/NR',\n",
    "}\n",
    "df_educacion['caracts_socioecon'] = df_educacion['caracts_socioecon'].map(mapeo)\n"
   ]
  },
  {
   "cell_type": "code",
   "execution_count": 173,
   "id": "681c863a",
   "metadata": {},
   "outputs": [
    {
     "data": {
      "text/plain": [
       "(576,)"
      ]
     },
     "execution_count": 173,
     "metadata": {},
     "output_type": "execute_result"
    }
   ],
   "source": [
    "df_educacion['caracts_socioecon'].shape"
   ]
  },
  {
   "cell_type": "code",
   "execution_count": 174,
   "id": "7f360a7a",
   "metadata": {},
   "outputs": [
    {
     "data": {
      "text/html": [
       "<div>\n",
       "<style scoped>\n",
       "    .dataframe tbody tr th:only-of-type {\n",
       "        vertical-align: middle;\n",
       "    }\n",
       "\n",
       "    .dataframe tbody tr th {\n",
       "        vertical-align: top;\n",
       "    }\n",
       "\n",
       "    .dataframe thead th {\n",
       "        text-align: right;\n",
       "    }\n",
       "</style>\n",
       "<table border=\"1\" class=\"dataframe\">\n",
       "  <thead>\n",
       "    <tr style=\"text-align: right;\">\n",
       "      <th></th>\n",
       "      <th>0</th>\n",
       "      <th>1</th>\n",
       "      <th>2</th>\n",
       "    </tr>\n",
       "  </thead>\n",
       "  <tbody>\n",
       "    <tr>\n",
       "      <th>6</th>\n",
       "      <td>Estudios terminados</td>\n",
       "      <td>Menos que primaria</td>\n",
       "      <td>None</td>\n",
       "    </tr>\n",
       "    <tr>\n",
       "      <th>7</th>\n",
       "      <td>Estudios terminados</td>\n",
       "      <td>Menos que primaria</td>\n",
       "      <td>None</td>\n",
       "    </tr>\n",
       "    <tr>\n",
       "      <th>8</th>\n",
       "      <td>Estudios terminados</td>\n",
       "      <td>Menos que primaria</td>\n",
       "      <td>None</td>\n",
       "    </tr>\n",
       "    <tr>\n",
       "      <th>9</th>\n",
       "      <td>Estudios terminados</td>\n",
       "      <td>Menos que primaria</td>\n",
       "      <td>None</td>\n",
       "    </tr>\n",
       "    <tr>\n",
       "      <th>10</th>\n",
       "      <td>Estudios terminados</td>\n",
       "      <td>Menos que primaria</td>\n",
       "      <td>None</td>\n",
       "    </tr>\n",
       "    <tr>\n",
       "      <th>...</th>\n",
       "      <td>...</td>\n",
       "      <td>...</td>\n",
       "      <td>...</td>\n",
       "    </tr>\n",
       "    <tr>\n",
       "      <th>589</th>\n",
       "      <td>Ingresos mensuales netos del hogar</td>\n",
       "      <td>NS/NR</td>\n",
       "      <td>None</td>\n",
       "    </tr>\n",
       "    <tr>\n",
       "      <th>590</th>\n",
       "      <td>Ingresos mensuales netos del hogar</td>\n",
       "      <td>NS/NR</td>\n",
       "      <td>None</td>\n",
       "    </tr>\n",
       "    <tr>\n",
       "      <th>591</th>\n",
       "      <td>Ingresos mensuales netos del hogar</td>\n",
       "      <td>NS/NR</td>\n",
       "      <td>None</td>\n",
       "    </tr>\n",
       "    <tr>\n",
       "      <th>592</th>\n",
       "      <td>Ingresos mensuales netos del hogar</td>\n",
       "      <td>NS/NR</td>\n",
       "      <td>None</td>\n",
       "    </tr>\n",
       "    <tr>\n",
       "      <th>593</th>\n",
       "      <td>Ingresos mensuales netos del hogar</td>\n",
       "      <td>NS/NR</td>\n",
       "      <td>None</td>\n",
       "    </tr>\n",
       "  </tbody>\n",
       "</table>\n",
       "<p>576 rows × 3 columns</p>\n",
       "</div>"
      ],
      "text/plain": [
       "                                      0                    1     2\n",
       "6                   Estudios terminados   Menos que primaria  None\n",
       "7                   Estudios terminados   Menos que primaria  None\n",
       "8                   Estudios terminados   Menos que primaria  None\n",
       "9                   Estudios terminados   Menos que primaria  None\n",
       "10                  Estudios terminados   Menos que primaria  None\n",
       "..                                  ...                  ...   ...\n",
       "589  Ingresos mensuales netos del hogar                NS/NR  None\n",
       "590  Ingresos mensuales netos del hogar                NS/NR  None\n",
       "591  Ingresos mensuales netos del hogar                NS/NR  None\n",
       "592  Ingresos mensuales netos del hogar                NS/NR  None\n",
       "593  Ingresos mensuales netos del hogar                NS/NR  None\n",
       "\n",
       "[576 rows x 3 columns]"
      ]
     },
     "execution_count": 174,
     "metadata": {},
     "output_type": "execute_result"
    }
   ],
   "source": [
    "df_educacion['caracts_socioecon'].str.split(\":\", expand=True)"
   ]
  },
  {
   "cell_type": "code",
   "execution_count": 175,
   "id": "ffa630e4",
   "metadata": {},
   "outputs": [],
   "source": [
    "df_educacion[['caracts_socioecon_nombre','detalle_socioecon']] = df_educacion['caracts_socioecon'].str.split(\":\", n=1, expand=True).get([0,1])"
   ]
  },
  {
   "cell_type": "code",
   "execution_count": 176,
   "id": "dcfb2ff5",
   "metadata": {},
   "outputs": [],
   "source": [
    "df_educacion = df_educacion.drop(columns ='caracts_socioecon')"
   ]
  },
  {
   "cell_type": "code",
   "execution_count": 177,
   "id": "2fad34a2",
   "metadata": {},
   "outputs": [],
   "source": [
    "df_educacion = df_educacion[df_educacion['uso_TIC'].notnull()]"
   ]
  },
  {
   "cell_type": "code",
   "execution_count": 178,
   "id": "545676f4",
   "metadata": {},
   "outputs": [
    {
     "data": {
      "text/plain": [
       "array([' Menos de 1200 euros', ' De 1200 a menos de 1900 euros',\n",
       "       ' De 1900 a menos de 2700 euros', ' De 2700 a menos de 3900 euros',\n",
       "       ' 3900 o mas euros', ' NS/NR'], dtype=object)"
      ]
     },
     "execution_count": 178,
     "metadata": {},
     "output_type": "execute_result"
    }
   ],
   "source": [
    "df_educacion['detalle_socioecon'][df_educacion['caracts_socioecon_nombre']=='Ingresos mensuales netos del hogar'].unique()"
   ]
  },
  {
   "cell_type": "code",
   "execution_count": 179,
   "id": "5765beec",
   "metadata": {},
   "outputs": [
    {
     "data": {
      "text/plain": [
       "array([' Menos que primaria', ' Educacion Primaria',\n",
       "       ' Primera etapa de Educacion Secundaria',\n",
       "       ' Segunda etapa de Educacion Secundaria',\n",
       "       ' Formacion Profesional de Grado Superior',\n",
       "       ' Diplomatura universitaria y equivalentes',\n",
       "       ' Licenciatura universitaria, master y equivalentes',\n",
       "       ' Doctorado universitario', ' Otros'], dtype=object)"
      ]
     },
     "execution_count": 179,
     "metadata": {},
     "output_type": "execute_result"
    }
   ],
   "source": [
    "df_educacion['detalle_socioecon'][df_educacion['caracts_socioecon_nombre']=='Estudios terminados'].unique()"
   ]
  },
  {
   "cell_type": "code",
   "execution_count": 180,
   "id": "54a16bf5",
   "metadata": {},
   "outputs": [
    {
     "data": {
      "text/plain": [
       "array([' Manual', ' No Manual', ' Trabajadores TIC',\n",
       "       ' Otros trabajadores'], dtype=object)"
      ]
     },
     "execution_count": 180,
     "metadata": {},
     "output_type": "execute_result"
    }
   ],
   "source": [
    "df_educacion['detalle_socioecon'][df_educacion['caracts_socioecon_nombre']=='Ocupacion principal'].unique()"
   ]
  },
  {
   "cell_type": "code",
   "execution_count": 181,
   "id": "4cb1b350",
   "metadata": {},
   "outputs": [
    {
     "data": {
      "text/plain": [
       "array([' Trabajador por cuenta ajena con contrato indefinido',\n",
       "       ' Trabajador por cuenta ajena con contrato temporal',\n",
       "       ' Trabajador por cuenta propia con empleados',\n",
       "       ' Trabajador por cuenta propia sin empleados',\n",
       "       ' Ayuda familiar (sin sueldo estipulado)'], dtype=object)"
      ]
     },
     "execution_count": 181,
     "metadata": {},
     "output_type": "execute_result"
    }
   ],
   "source": [
    "df_educacion['detalle_socioecon'][df_educacion['caracts_socioecon_nombre']=='Situacion Profesional (en trabajo principal)'].unique()"
   ]
  },
  {
   "cell_type": "code",
   "execution_count": 182,
   "id": "8a99c642",
   "metadata": {},
   "outputs": [
    {
     "data": {
      "text/plain": [
       "array([' A tiempo completo', ' A tiempo parcial'], dtype=object)"
      ]
     },
     "execution_count": 182,
     "metadata": {},
     "output_type": "execute_result"
    }
   ],
   "source": [
    "df_educacion['detalle_socioecon'][df_educacion['caracts_socioecon_nombre']=='Jornada laboral (en trabajo principal)'].unique()"
   ]
  },
  {
   "cell_type": "code",
   "execution_count": 183,
   "id": "9b6a8421",
   "metadata": {},
   "outputs": [
    {
     "data": {
      "text/plain": [
       "array([' Activos ocupados', ' Activos parados', ' Inactivos: Estudiantes',\n",
       "       ' Inactivos: Labores del hogar', ' Inactivos: Pensionistas',\n",
       "       ' Otra situacion laboral'], dtype=object)"
      ]
     },
     "execution_count": 183,
     "metadata": {},
     "output_type": "execute_result"
    }
   ],
   "source": [
    "df_educacion['detalle_socioecon'][df_educacion['caracts_socioecon_nombre']=='Situacion laboral'].unique()"
   ]
  },
  {
   "cell_type": "code",
   "execution_count": 184,
   "id": "98e39d58",
   "metadata": {},
   "outputs": [
    {
     "data": {
      "text/html": [
       "<div>\n",
       "<style scoped>\n",
       "    .dataframe tbody tr th:only-of-type {\n",
       "        vertical-align: middle;\n",
       "    }\n",
       "\n",
       "    .dataframe tbody tr th {\n",
       "        vertical-align: top;\n",
       "    }\n",
       "\n",
       "    .dataframe thead th {\n",
       "        text-align: right;\n",
       "    }\n",
       "</style>\n",
       "<table border=\"1\" class=\"dataframe\">\n",
       "  <thead>\n",
       "    <tr style=\"text-align: right;\">\n",
       "      <th></th>\n",
       "      <th>sexo</th>\n",
       "      <th>uso_TIC</th>\n",
       "      <th>total</th>\n",
       "      <th>caracts_socioecon_nombre</th>\n",
       "      <th>detalle_socioecon</th>\n",
       "    </tr>\n",
       "  </thead>\n",
       "  <tbody>\n",
       "    <tr>\n",
       "      <th>434</th>\n",
       "      <td>mujer</td>\n",
       "      <td>uso_internet_ultimos3meses</td>\n",
       "      <td>99,1</td>\n",
       "      <td>Estudios terminados</td>\n",
       "      <td>Diplomatura universitaria y equivalentes</td>\n",
       "    </tr>\n",
       "    <tr>\n",
       "      <th>157</th>\n",
       "      <td>NaN</td>\n",
       "      <td>telef_mov</td>\n",
       "      <td>99,9</td>\n",
       "      <td>Ocupacion principal</td>\n",
       "      <td>Otros trabajadores</td>\n",
       "    </tr>\n",
       "    <tr>\n",
       "      <th>424</th>\n",
       "      <td>mujer</td>\n",
       "      <td>uso_internet_diario</td>\n",
       "      <td>94,2</td>\n",
       "      <td>Estudios terminados</td>\n",
       "      <td>Segunda etapa de Educacion Secundaria</td>\n",
       "    </tr>\n",
       "    <tr>\n",
       "      <th>449</th>\n",
       "      <td>mujer</td>\n",
       "      <td>compra_online_ultimos3meses</td>\n",
       "      <td>80,9</td>\n",
       "      <td>Estudios terminados</td>\n",
       "      <td>Doctorado universitario</td>\n",
       "    </tr>\n",
       "    <tr>\n",
       "      <th>97</th>\n",
       "      <td>NaN</td>\n",
       "      <td>telef_mov</td>\n",
       "      <td>99,8</td>\n",
       "      <td>Situacion Profesional (en trabajo principal)</td>\n",
       "      <td>Trabajador por cuenta ajena con contrato inde...</td>\n",
       "    </tr>\n",
       "    <tr>\n",
       "      <th>428</th>\n",
       "      <td>mujer</td>\n",
       "      <td>uso_internet_ultimos3meses</td>\n",
       "      <td>99,5</td>\n",
       "      <td>Estudios terminados</td>\n",
       "      <td>Formacion Profesional de Grado Superior</td>\n",
       "    </tr>\n",
       "    <tr>\n",
       "      <th>381</th>\n",
       "      <td>hombre</td>\n",
       "      <td>uso_internet_semanal</td>\n",
       "      <td>95,1</td>\n",
       "      <td>Ingresos mensuales netos del hogar</td>\n",
       "      <td>De 2700 a menos de 3900 euros</td>\n",
       "    </tr>\n",
       "    <tr>\n",
       "      <th>129</th>\n",
       "      <td>NaN</td>\n",
       "      <td>uso_internet_semanal</td>\n",
       "      <td>98,3</td>\n",
       "      <td>Jornada laboral (en trabajo principal)</td>\n",
       "      <td>A tiempo completo</td>\n",
       "    </tr>\n",
       "    <tr>\n",
       "      <th>338</th>\n",
       "      <td>hombre</td>\n",
       "      <td>uso_internet_ultimos3meses</td>\n",
       "      <td>96,5</td>\n",
       "      <td>Ocupacion principal</td>\n",
       "      <td>Manual</td>\n",
       "    </tr>\n",
       "    <tr>\n",
       "      <th>418</th>\n",
       "      <td>mujer</td>\n",
       "      <td>uso_internet_diario</td>\n",
       "      <td>86,4</td>\n",
       "      <td>Estudios terminados</td>\n",
       "      <td>Primera etapa de Educacion Secundaria</td>\n",
       "    </tr>\n",
       "  </tbody>\n",
       "</table>\n",
       "</div>"
      ],
      "text/plain": [
       "       sexo                      uso_TIC total  \\\n",
       "434   mujer   uso_internet_ultimos3meses  99,1   \n",
       "157     NaN                    telef_mov  99,9   \n",
       "424   mujer          uso_internet_diario  94,2   \n",
       "449   mujer  compra_online_ultimos3meses  80,9   \n",
       "97      NaN                    telef_mov  99,8   \n",
       "428   mujer   uso_internet_ultimos3meses  99,5   \n",
       "381  hombre         uso_internet_semanal  95,1   \n",
       "129     NaN         uso_internet_semanal  98,3   \n",
       "338  hombre   uso_internet_ultimos3meses  96,5   \n",
       "418   mujer          uso_internet_diario  86,4   \n",
       "\n",
       "                         caracts_socioecon_nombre  \\\n",
       "434                           Estudios terminados   \n",
       "157                           Ocupacion principal   \n",
       "424                           Estudios terminados   \n",
       "449                           Estudios terminados   \n",
       "97   Situacion Profesional (en trabajo principal)   \n",
       "428                           Estudios terminados   \n",
       "381            Ingresos mensuales netos del hogar   \n",
       "129        Jornada laboral (en trabajo principal)   \n",
       "338                           Ocupacion principal   \n",
       "418                           Estudios terminados   \n",
       "\n",
       "                                     detalle_socioecon  \n",
       "434           Diplomatura universitaria y equivalentes  \n",
       "157                                 Otros trabajadores  \n",
       "424              Segunda etapa de Educacion Secundaria  \n",
       "449                            Doctorado universitario  \n",
       "97    Trabajador por cuenta ajena con contrato inde...  \n",
       "428            Formacion Profesional de Grado Superior  \n",
       "381                      De 2700 a menos de 3900 euros  \n",
       "129                                  A tiempo completo  \n",
       "338                                             Manual  \n",
       "418              Primera etapa de Educacion Secundaria  "
      ]
     },
     "execution_count": 184,
     "metadata": {},
     "output_type": "execute_result"
    }
   ],
   "source": [
    "df_educacion.sample(10)"
   ]
  },
  {
   "cell_type": "code",
   "execution_count": 185,
   "id": "25df4512",
   "metadata": {},
   "outputs": [],
   "source": [
    "df_educacion.to_csv('files/educacion_TIC_clean.csv', index=False)"
   ]
  },
  {
   "cell_type": "markdown",
   "id": "6e33c052",
   "metadata": {},
   "source": [
    "## EQUIPAMIENTO"
   ]
  },
  {
   "cell_type": "code",
   "execution_count": 186,
   "id": "95daf6b0",
   "metadata": {},
   "outputs": [],
   "source": [
    "df_equipamiento = pd.read_csv('../datos/6 equipamiento viviendas.csv',sep=';', encoding='latin1')"
   ]
  },
  {
   "cell_type": "code",
   "execution_count": 50,
   "id": "db4a39d1",
   "metadata": {},
   "outputs": [
    {
     "data": {
      "text/html": [
       "<div>\n",
       "<style scoped>\n",
       "    .dataframe tbody tr th:only-of-type {\n",
       "        vertical-align: middle;\n",
       "    }\n",
       "\n",
       "    .dataframe tbody tr th {\n",
       "        vertical-align: top;\n",
       "    }\n",
       "\n",
       "    .dataframe thead th {\n",
       "        text-align: right;\n",
       "    }\n",
       "</style>\n",
       "<table border=\"1\" class=\"dataframe\">\n",
       "  <thead>\n",
       "    <tr style=\"text-align: right;\">\n",
       "      <th></th>\n",
       "      <th>Total Nacional</th>\n",
       "      <th>Comunidades y Ciudades Autï¿½nomas</th>\n",
       "      <th>Tipo de equipamiento</th>\n",
       "      <th>Total</th>\n",
       "    </tr>\n",
       "  </thead>\n",
       "  <tbody>\n",
       "    <tr>\n",
       "      <th>59</th>\n",
       "      <td>Total Nacional</td>\n",
       "      <td>05 Canarias</td>\n",
       "      <td>Viviendas con telï¿½fono mï¿½vil</td>\n",
       "      <td>98,9</td>\n",
       "    </tr>\n",
       "    <tr>\n",
       "      <th>130</th>\n",
       "      <td>Total Nacional</td>\n",
       "      <td>13 Madrid, Comunidad de</td>\n",
       "      <td>Total Viviendas</td>\n",
       "      <td>2379945</td>\n",
       "    </tr>\n",
       "    <tr>\n",
       "      <th>57</th>\n",
       "      <td>Total Nacional</td>\n",
       "      <td>05 Canarias</td>\n",
       "      <td>Viviendas con conexiï¿½n solo a travï¿½s de ba...</td>\n",
       "      <td>13</td>\n",
       "    </tr>\n",
       "    <tr>\n",
       "      <th>82</th>\n",
       "      <td>Total Nacional</td>\n",
       "      <td>08 Castilla - La Mancha</td>\n",
       "      <td>Ordenadores de sobremesa o portï¿½til (no incl...</td>\n",
       "      <td>73,9</td>\n",
       "    </tr>\n",
       "    <tr>\n",
       "      <th>49</th>\n",
       "      <td>Total Nacional</td>\n",
       "      <td>04 Balears, Illes</td>\n",
       "      <td>Viviendas con telï¿½fono mï¿½vil</td>\n",
       "      <td>99,7</td>\n",
       "    </tr>\n",
       "    <tr>\n",
       "      <th>56</th>\n",
       "      <td>Total Nacional</td>\n",
       "      <td>05 Canarias</td>\n",
       "      <td>Viviendas con conexiï¿½n de banda ancha fija</td>\n",
       "      <td>83,8</td>\n",
       "    </tr>\n",
       "    <tr>\n",
       "      <th>71</th>\n",
       "      <td>Total Nacional</td>\n",
       "      <td>07 Castilla y Leï¿½n</td>\n",
       "      <td>Ordenadores de cualquier tipo: incluidos netbo...</td>\n",
       "      <td>80,2</td>\n",
       "    </tr>\n",
       "    <tr>\n",
       "      <th>119</th>\n",
       "      <td>Total Nacional</td>\n",
       "      <td>11 Extremadura</td>\n",
       "      <td>Viviendas con telï¿½fono mï¿½vil</td>\n",
       "      <td>99,5</td>\n",
       "    </tr>\n",
       "    <tr>\n",
       "      <th>180</th>\n",
       "      <td>Total Nacional</td>\n",
       "      <td>18 Ceuta</td>\n",
       "      <td>Total Viviendas</td>\n",
       "      <td>23356</td>\n",
       "    </tr>\n",
       "    <tr>\n",
       "      <th>11</th>\n",
       "      <td>Total Nacional</td>\n",
       "      <td>01 Andalucï¿½a</td>\n",
       "      <td>Ordenadores de cualquier tipo: incluidos netbo...</td>\n",
       "      <td>80,7</td>\n",
       "    </tr>\n",
       "  </tbody>\n",
       "</table>\n",
       "</div>"
      ],
      "text/plain": [
       "     Total Nacional Comunidades y Ciudades Autï¿½nomas  \\\n",
       "59   Total Nacional                        05 Canarias   \n",
       "130  Total Nacional            13 Madrid, Comunidad de   \n",
       "57   Total Nacional                        05 Canarias   \n",
       "82   Total Nacional            08 Castilla - La Mancha   \n",
       "49   Total Nacional                  04 Balears, Illes   \n",
       "56   Total Nacional                        05 Canarias   \n",
       "71   Total Nacional               07 Castilla y Leï¿½n   \n",
       "119  Total Nacional                     11 Extremadura   \n",
       "180  Total Nacional                           18 Ceuta   \n",
       "11   Total Nacional                     01 Andalucï¿½a   \n",
       "\n",
       "                                  Tipo de equipamiento    Total  \n",
       "59                    Viviendas con telï¿½fono mï¿½vil     98,9  \n",
       "130                                    Total Viviendas  2379945  \n",
       "57   Viviendas con conexiï¿½n solo a travï¿½s de ba...       13  \n",
       "82   Ordenadores de sobremesa o portï¿½til (no incl...     73,9  \n",
       "49                    Viviendas con telï¿½fono mï¿½vil     99,7  \n",
       "56        Viviendas con conexiï¿½n de banda ancha fija     83,8  \n",
       "71   Ordenadores de cualquier tipo: incluidos netbo...     80,2  \n",
       "119                   Viviendas con telï¿½fono mï¿½vil     99,5  \n",
       "180                                    Total Viviendas    23356  \n",
       "11   Ordenadores de cualquier tipo: incluidos netbo...     80,7  "
      ]
     },
     "execution_count": 50,
     "metadata": {},
     "output_type": "execute_result"
    }
   ],
   "source": [
    "df_equipamiento.sample(10)"
   ]
  },
  {
   "cell_type": "code",
   "execution_count": 51,
   "id": "b57c51e3",
   "metadata": {},
   "outputs": [
    {
     "data": {
      "text/plain": [
       "Index(['Total Nacional', 'Comunidades y Ciudades Autï¿½nomas',\n",
       "       'Tipo de equipamiento', 'Total'],\n",
       "      dtype='object')"
      ]
     },
     "execution_count": 51,
     "metadata": {},
     "output_type": "execute_result"
    }
   ],
   "source": [
    "df_equipamiento.columns"
   ]
  },
  {
   "cell_type": "code",
   "execution_count": 52,
   "id": "cc28eafb",
   "metadata": {},
   "outputs": [],
   "source": [
    "df_equipamiento = df_equipamiento.rename(columns = {'Comunidades y Ciudades Autï¿½nomas':'CCAA'})"
   ]
  },
  {
   "cell_type": "code",
   "execution_count": 53,
   "id": "3b1c1ee1",
   "metadata": {},
   "outputs": [
    {
     "data": {
      "text/plain": [
       "Index(['Total Nacional', 'CCAA', 'Tipo de equipamiento', 'Total'], dtype='object')"
      ]
     },
     "execution_count": 53,
     "metadata": {},
     "output_type": "execute_result"
    }
   ],
   "source": [
    "df_equipamiento.columns"
   ]
  },
  {
   "cell_type": "code",
   "execution_count": 54,
   "id": "6cab75a3",
   "metadata": {},
   "outputs": [
    {
     "data": {
      "text/plain": [
       "array([nan, '01 Andalucï¿½a', '02 Aragï¿½n', '03 Asturias, Principado de',\n",
       "       '04 Balears, Illes', '05 Canarias', '06 Cantabria',\n",
       "       '07 Castilla y Leï¿½n', '08 Castilla - La Mancha', '09 Cataluï¿½a',\n",
       "       '10 Comunitat Valenciana', '11 Extremadura', '12 Galicia',\n",
       "       '13 Madrid, Comunidad de', '14 Murcia, Regiï¿½n de',\n",
       "       '15 Navarra, Comunidad Foral de', '16 Paï¿½s Vasco',\n",
       "       '17 Rioja, La', '18 Ceuta', '19 Melilla'], dtype=object)"
      ]
     },
     "execution_count": 54,
     "metadata": {},
     "output_type": "execute_result"
    }
   ],
   "source": [
    "df_equipamiento['CCAA'].unique()"
   ]
  },
  {
   "cell_type": "code",
   "execution_count": 55,
   "id": "4acbee5a",
   "metadata": {},
   "outputs": [],
   "source": [
    "df_equipamiento['CCAA'] = df_equipamiento['CCAA'].str.replace(r'^\\d+\\s+', '', regex=True)"
   ]
  },
  {
   "cell_type": "code",
   "execution_count": 56,
   "id": "9ce6546c",
   "metadata": {},
   "outputs": [
    {
     "data": {
      "text/plain": [
       "array([nan, 'Andalucï¿½a', 'Aragï¿½n', 'Asturias, Principado de',\n",
       "       'Balears, Illes', 'Canarias', 'Cantabria', 'Castilla y Leï¿½n',\n",
       "       'Castilla - La Mancha', 'Cataluï¿½a', 'Comunitat Valenciana',\n",
       "       'Extremadura', 'Galicia', 'Madrid, Comunidad de',\n",
       "       'Murcia, Regiï¿½n de', 'Navarra, Comunidad Foral de',\n",
       "       'Paï¿½s Vasco', 'Rioja, La', 'Ceuta', 'Melilla'], dtype=object)"
      ]
     },
     "execution_count": 56,
     "metadata": {},
     "output_type": "execute_result"
    }
   ],
   "source": [
    "df_equipamiento['CCAA'].unique()"
   ]
  },
  {
   "cell_type": "code",
   "execution_count": 57,
   "id": "da3fc79a",
   "metadata": {},
   "outputs": [],
   "source": [
    "mapeo_ccaa = {\n",
    "    'Andalucï¿½a': 'Andalucía',\n",
    "    'Aragï¿½n': 'Aragón',\n",
    "    'Asturias, Principado de': 'Asturias',\n",
    "    'Balears, Illes': 'Baleares',\n",
    "    'Canarias': 'Canarias',\n",
    "    'Cantabria': 'Cantabria',\n",
    "    'Castilla y Leï¿½n': 'Castilla y León',\n",
    "    'Castilla - La Mancha': 'Castilla-La Mancha',\n",
    "    'Cataluï¿½a': 'Cataluña',\n",
    "    'Comunitat Valenciana': 'Valencia',\n",
    "    'Extremadura': 'Extremadura',\n",
    "    'Galicia': 'Galicia',\n",
    "    'Madrid, Comunidad de': 'Madrid',\n",
    "    'Murcia, Regiï¿½n de': 'Murcia',\n",
    "    'Navarra, Comunidad Foral de': 'Navarra',\n",
    "    'Paï¿½s Vasco': 'País Vasco',\n",
    "    'Rioja, La': 'La Rioja',\n",
    "    'Ceuta': 'Ceuta',\n",
    "    'Melilla': 'Melilla'\n",
    "}\n",
    "\n",
    "df_equipamiento['CCAA'] = df_equipamiento['CCAA'].map(mapeo_ccaa)"
   ]
  },
  {
   "cell_type": "code",
   "execution_count": 58,
   "id": "ec9f24a8",
   "metadata": {},
   "outputs": [
    {
     "data": {
      "text/plain": [
       "array([nan, 'Andalucía', 'Aragón', 'Asturias', 'Baleares', 'Canarias',\n",
       "       'Cantabria', 'Castilla y León', 'Castilla-La Mancha', 'Cataluña',\n",
       "       'Valencia', 'Extremadura', 'Galicia', 'Madrid', 'Murcia',\n",
       "       'Navarra', 'País Vasco', 'La Rioja', 'Ceuta', 'Melilla'],\n",
       "      dtype=object)"
      ]
     },
     "execution_count": 58,
     "metadata": {},
     "output_type": "execute_result"
    }
   ],
   "source": [
    "df_equipamiento['CCAA'].unique()"
   ]
  },
  {
   "cell_type": "code",
   "execution_count": 59,
   "id": "6745ade8",
   "metadata": {},
   "outputs": [
    {
     "data": {
      "text/plain": [
       "array(['Total Viviendas',\n",
       "       'Ordenadores de cualquier tipo: incluidos netbooks, tablets, de mano, etc.',\n",
       "       'Ordenadores de sobremesa o portï¿½til (no incluye tablet)',\n",
       "       'Ordenadores tipo Tablet',\n",
       "       'Viviendas que disponen de acceso a Internet',\n",
       "       'Viviendas con conexiï¿½n de Banda Ancha',\n",
       "       'Viviendas con conexiï¿½n de banda ancha fija',\n",
       "       'Viviendas con conexiï¿½n solo a travï¿½s de banda ancha  mï¿½vil',\n",
       "       'Viviendas con telï¿½fono fijo',\n",
       "       'Viviendas con telï¿½fono mï¿½vil'], dtype=object)"
      ]
     },
     "execution_count": 59,
     "metadata": {},
     "output_type": "execute_result"
    }
   ],
   "source": [
    "df_equipamiento['Tipo de equipamiento'].unique()"
   ]
  },
  {
   "cell_type": "code",
   "execution_count": 60,
   "id": "4f3205df",
   "metadata": {},
   "outputs": [
    {
     "data": {
      "text/html": [
       "<div>\n",
       "<style scoped>\n",
       "    .dataframe tbody tr th:only-of-type {\n",
       "        vertical-align: middle;\n",
       "    }\n",
       "\n",
       "    .dataframe tbody tr th {\n",
       "        vertical-align: top;\n",
       "    }\n",
       "\n",
       "    .dataframe thead th {\n",
       "        text-align: right;\n",
       "    }\n",
       "</style>\n",
       "<table border=\"1\" class=\"dataframe\">\n",
       "  <thead>\n",
       "    <tr style=\"text-align: right;\">\n",
       "      <th></th>\n",
       "      <th>Total Nacional</th>\n",
       "      <th>CCAA</th>\n",
       "      <th>Tipo de equipamiento</th>\n",
       "      <th>Total</th>\n",
       "    </tr>\n",
       "  </thead>\n",
       "  <tbody>\n",
       "    <tr>\n",
       "      <th>0</th>\n",
       "      <td>Total Nacional</td>\n",
       "      <td>NaN</td>\n",
       "      <td>Total Viviendas</td>\n",
       "      <td>17179652</td>\n",
       "    </tr>\n",
       "    <tr>\n",
       "      <th>1</th>\n",
       "      <td>Total Nacional</td>\n",
       "      <td>NaN</td>\n",
       "      <td>Ordenadores de cualquier tipo: incluidos netbo...</td>\n",
       "      <td>83</td>\n",
       "    </tr>\n",
       "    <tr>\n",
       "      <th>2</th>\n",
       "      <td>Total Nacional</td>\n",
       "      <td>NaN</td>\n",
       "      <td>Ordenadores de sobremesa o portï¿½til (no incl...</td>\n",
       "      <td>77,6</td>\n",
       "    </tr>\n",
       "    <tr>\n",
       "      <th>3</th>\n",
       "      <td>Total Nacional</td>\n",
       "      <td>NaN</td>\n",
       "      <td>Ordenadores tipo Tablet</td>\n",
       "      <td>55,8</td>\n",
       "    </tr>\n",
       "    <tr>\n",
       "      <th>4</th>\n",
       "      <td>Total Nacional</td>\n",
       "      <td>NaN</td>\n",
       "      <td>Viviendas que disponen de acceso a Internet</td>\n",
       "      <td>96,8</td>\n",
       "    </tr>\n",
       "    <tr>\n",
       "      <th>5</th>\n",
       "      <td>Total Nacional</td>\n",
       "      <td>NaN</td>\n",
       "      <td>Viviendas con conexiï¿½n de Banda Ancha</td>\n",
       "      <td>96,8</td>\n",
       "    </tr>\n",
       "    <tr>\n",
       "      <th>6</th>\n",
       "      <td>Total Nacional</td>\n",
       "      <td>NaN</td>\n",
       "      <td>Viviendas con conexiï¿½n de banda ancha fija</td>\n",
       "      <td>85,7</td>\n",
       "    </tr>\n",
       "    <tr>\n",
       "      <th>7</th>\n",
       "      <td>Total Nacional</td>\n",
       "      <td>NaN</td>\n",
       "      <td>Viviendas con conexiï¿½n solo a travï¿½s de ba...</td>\n",
       "      <td>11,1</td>\n",
       "    </tr>\n",
       "    <tr>\n",
       "      <th>8</th>\n",
       "      <td>Total Nacional</td>\n",
       "      <td>NaN</td>\n",
       "      <td>Viviendas con telï¿½fono fijo</td>\n",
       "      <td>53,9</td>\n",
       "    </tr>\n",
       "    <tr>\n",
       "      <th>9</th>\n",
       "      <td>Total Nacional</td>\n",
       "      <td>NaN</td>\n",
       "      <td>Viviendas con telï¿½fono mï¿½vil</td>\n",
       "      <td>99,5</td>\n",
       "    </tr>\n",
       "  </tbody>\n",
       "</table>\n",
       "</div>"
      ],
      "text/plain": [
       "   Total Nacional CCAA                               Tipo de equipamiento  \\\n",
       "0  Total Nacional  NaN                                    Total Viviendas   \n",
       "1  Total Nacional  NaN  Ordenadores de cualquier tipo: incluidos netbo...   \n",
       "2  Total Nacional  NaN  Ordenadores de sobremesa o portï¿½til (no incl...   \n",
       "3  Total Nacional  NaN                            Ordenadores tipo Tablet   \n",
       "4  Total Nacional  NaN        Viviendas que disponen de acceso a Internet   \n",
       "5  Total Nacional  NaN            Viviendas con conexiï¿½n de Banda Ancha   \n",
       "6  Total Nacional  NaN       Viviendas con conexiï¿½n de banda ancha fija   \n",
       "7  Total Nacional  NaN  Viviendas con conexiï¿½n solo a travï¿½s de ba...   \n",
       "8  Total Nacional  NaN                      Viviendas con telï¿½fono fijo   \n",
       "9  Total Nacional  NaN                   Viviendas con telï¿½fono mï¿½vil   \n",
       "\n",
       "      Total  \n",
       "0  17179652  \n",
       "1        83  \n",
       "2      77,6  \n",
       "3      55,8  \n",
       "4      96,8  \n",
       "5      96,8  \n",
       "6      85,7  \n",
       "7      11,1  \n",
       "8      53,9  \n",
       "9      99,5  "
      ]
     },
     "execution_count": 60,
     "metadata": {},
     "output_type": "execute_result"
    }
   ],
   "source": [
    "df_equipamiento[df_equipamiento['CCAA'].isnull()]"
   ]
  },
  {
   "cell_type": "code",
   "execution_count": 61,
   "id": "63f2319f",
   "metadata": {},
   "outputs": [],
   "source": [
    "mapeo_variables = {\n",
    "    'Ordenadores de cualquier tipo: incluidos netbooks, tablets, de mano, etc.': 'Ordenadores de cualquier tipo: incluidos netbooks, tablets, de mano, etc.',\n",
    "    'Ordenadores de sobremesa o portï¿½til (no incluye tablet)': 'Ordenadores de sobremesa o portátil (no incluye tablet)',\n",
    "    'Ordenadores tipo Tablet': 'Ordenadores tipo Tablet',\n",
    "    'Viviendas que disponen de acceso a Internet': 'Viviendas que disponen de acceso a Internet',\n",
    "    'Viviendas con conexiï¿½n de Banda Ancha': 'Viviendas con conexión de Banda Ancha',\n",
    "    'Viviendas con conexiï¿½n de banda ancha fija': 'Viviendas con conexión de banda ancha fija',\n",
    "    'Viviendas con conexiï¿½n solo a travï¿½s de banda ancha  mï¿½vil': 'Viviendas con conexión solo a través de banda ancha móvil',\n",
    "    'Viviendas con telï¿½fono fijo': 'Viviendas con teléfono fijo',\n",
    "    'Viviendas con telï¿½fono mï¿½vil': 'Viviendas con teléfono móvil'\n",
    "}\n",
    "df_equipamiento['Tipo de equipamiento'] = df_equipamiento['Tipo de equipamiento'].map(mapeo_variables)"
   ]
  },
  {
   "cell_type": "code",
   "execution_count": 62,
   "id": "f4aa56e8",
   "metadata": {},
   "outputs": [
    {
     "data": {
      "text/plain": [
       "array([nan,\n",
       "       'Ordenadores de cualquier tipo: incluidos netbooks, tablets, de mano, etc.',\n",
       "       'Ordenadores de sobremesa o portátil (no incluye tablet)',\n",
       "       'Ordenadores tipo Tablet',\n",
       "       'Viviendas que disponen de acceso a Internet',\n",
       "       'Viviendas con conexión de Banda Ancha',\n",
       "       'Viviendas con conexión de banda ancha fija',\n",
       "       'Viviendas con conexión solo a través de banda ancha móvil',\n",
       "       'Viviendas con teléfono fijo', 'Viviendas con teléfono móvil'],\n",
       "      dtype=object)"
      ]
     },
     "execution_count": 62,
     "metadata": {},
     "output_type": "execute_result"
    }
   ],
   "source": [
    "df_equipamiento['Tipo de equipamiento'].unique()"
   ]
  },
  {
   "cell_type": "code",
   "execution_count": 63,
   "id": "3dd6d9f4",
   "metadata": {},
   "outputs": [
    {
     "data": {
      "text/html": [
       "<div>\n",
       "<style scoped>\n",
       "    .dataframe tbody tr th:only-of-type {\n",
       "        vertical-align: middle;\n",
       "    }\n",
       "\n",
       "    .dataframe tbody tr th {\n",
       "        vertical-align: top;\n",
       "    }\n",
       "\n",
       "    .dataframe thead th {\n",
       "        text-align: right;\n",
       "    }\n",
       "</style>\n",
       "<table border=\"1\" class=\"dataframe\">\n",
       "  <thead>\n",
       "    <tr style=\"text-align: right;\">\n",
       "      <th></th>\n",
       "      <th>Total Nacional</th>\n",
       "      <th>CCAA</th>\n",
       "      <th>Tipo de equipamiento</th>\n",
       "      <th>Total</th>\n",
       "    </tr>\n",
       "  </thead>\n",
       "  <tbody>\n",
       "    <tr>\n",
       "      <th>163</th>\n",
       "      <td>Total Nacional</td>\n",
       "      <td>País Vasco</td>\n",
       "      <td>Ordenadores tipo Tablet</td>\n",
       "      <td>59,1</td>\n",
       "    </tr>\n",
       "    <tr>\n",
       "      <th>171</th>\n",
       "      <td>Total Nacional</td>\n",
       "      <td>La Rioja</td>\n",
       "      <td>Ordenadores de cualquier tipo: incluidos netbo...</td>\n",
       "      <td>83,6</td>\n",
       "    </tr>\n",
       "    <tr>\n",
       "      <th>181</th>\n",
       "      <td>Total Nacional</td>\n",
       "      <td>Ceuta</td>\n",
       "      <td>Ordenadores de cualquier tipo: incluidos netbo...</td>\n",
       "      <td>86,6</td>\n",
       "    </tr>\n",
       "    <tr>\n",
       "      <th>140</th>\n",
       "      <td>Total Nacional</td>\n",
       "      <td>Murcia</td>\n",
       "      <td>NaN</td>\n",
       "      <td>529305</td>\n",
       "    </tr>\n",
       "    <tr>\n",
       "      <th>11</th>\n",
       "      <td>Total Nacional</td>\n",
       "      <td>Andalucía</td>\n",
       "      <td>Ordenadores de cualquier tipo: incluidos netbo...</td>\n",
       "      <td>80,7</td>\n",
       "    </tr>\n",
       "    <tr>\n",
       "      <th>135</th>\n",
       "      <td>Total Nacional</td>\n",
       "      <td>Madrid</td>\n",
       "      <td>Viviendas con conexión de Banda Ancha</td>\n",
       "      <td>98</td>\n",
       "    </tr>\n",
       "    <tr>\n",
       "      <th>13</th>\n",
       "      <td>Total Nacional</td>\n",
       "      <td>Andalucía</td>\n",
       "      <td>Ordenadores tipo Tablet</td>\n",
       "      <td>52,9</td>\n",
       "    </tr>\n",
       "    <tr>\n",
       "      <th>102</th>\n",
       "      <td>Total Nacional</td>\n",
       "      <td>Valencia</td>\n",
       "      <td>Ordenadores de sobremesa o portátil (no incluy...</td>\n",
       "      <td>79,7</td>\n",
       "    </tr>\n",
       "    <tr>\n",
       "      <th>52</th>\n",
       "      <td>Total Nacional</td>\n",
       "      <td>Canarias</td>\n",
       "      <td>Ordenadores de sobremesa o portátil (no incluy...</td>\n",
       "      <td>71,2</td>\n",
       "    </tr>\n",
       "    <tr>\n",
       "      <th>110</th>\n",
       "      <td>Total Nacional</td>\n",
       "      <td>Extremadura</td>\n",
       "      <td>NaN</td>\n",
       "      <td>384114</td>\n",
       "    </tr>\n",
       "  </tbody>\n",
       "</table>\n",
       "</div>"
      ],
      "text/plain": [
       "     Total Nacional         CCAA  \\\n",
       "163  Total Nacional   País Vasco   \n",
       "171  Total Nacional     La Rioja   \n",
       "181  Total Nacional        Ceuta   \n",
       "140  Total Nacional       Murcia   \n",
       "11   Total Nacional    Andalucía   \n",
       "135  Total Nacional       Madrid   \n",
       "13   Total Nacional    Andalucía   \n",
       "102  Total Nacional     Valencia   \n",
       "52   Total Nacional     Canarias   \n",
       "110  Total Nacional  Extremadura   \n",
       "\n",
       "                                  Tipo de equipamiento   Total  \n",
       "163                            Ordenadores tipo Tablet    59,1  \n",
       "171  Ordenadores de cualquier tipo: incluidos netbo...    83,6  \n",
       "181  Ordenadores de cualquier tipo: incluidos netbo...    86,6  \n",
       "140                                                NaN  529305  \n",
       "11   Ordenadores de cualquier tipo: incluidos netbo...    80,7  \n",
       "135              Viviendas con conexión de Banda Ancha      98  \n",
       "13                             Ordenadores tipo Tablet    52,9  \n",
       "102  Ordenadores de sobremesa o portátil (no incluy...    79,7  \n",
       "52   Ordenadores de sobremesa o portátil (no incluy...    71,2  \n",
       "110                                                NaN  384114  "
      ]
     },
     "execution_count": 63,
     "metadata": {},
     "output_type": "execute_result"
    }
   ],
   "source": [
    "df_equipamiento.sample(10)"
   ]
  },
  {
   "cell_type": "code",
   "execution_count": 64,
   "id": "7c24f257",
   "metadata": {},
   "outputs": [],
   "source": [
    "df_equipamiento.to_csv('files/equipamiento_viviendas.csv', index=False)"
   ]
  },
  {
   "cell_type": "markdown",
   "id": "f44409af",
   "metadata": {},
   "source": [
    "## TASA PARO"
   ]
  },
  {
   "cell_type": "code",
   "execution_count": 250,
   "id": "d8ba2ebe",
   "metadata": {},
   "outputs": [],
   "source": [
    "df_tasa_paro = pd.read_csv('../datos/8 tasa-paro-gral.csv',sep=';', encoding='latin1')"
   ]
  },
  {
   "cell_type": "code",
   "execution_count": 188,
   "id": "28c68d5e",
   "metadata": {},
   "outputs": [
    {
     "data": {
      "text/html": [
       "<div>\n",
       "<style scoped>\n",
       "    .dataframe tbody tr th:only-of-type {\n",
       "        vertical-align: middle;\n",
       "    }\n",
       "\n",
       "    .dataframe tbody tr th {\n",
       "        vertical-align: top;\n",
       "    }\n",
       "\n",
       "    .dataframe thead th {\n",
       "        text-align: right;\n",
       "    }\n",
       "</style>\n",
       "<table border=\"1\" class=\"dataframe\">\n",
       "  <thead>\n",
       "    <tr style=\"text-align: right;\">\n",
       "      <th></th>\n",
       "      <th>ï»¿Sexo</th>\n",
       "      <th>Comunidades y Ciudades AutÃ³nomas</th>\n",
       "      <th>Edad</th>\n",
       "      <th>Periodo</th>\n",
       "      <th>Tasa paro</th>\n",
       "    </tr>\n",
       "  </thead>\n",
       "  <tbody>\n",
       "    <tr>\n",
       "      <th>0</th>\n",
       "      <td>Ambos sexos</td>\n",
       "      <td>Total Nacional</td>\n",
       "      <td>Total</td>\n",
       "      <td>2024T4</td>\n",
       "      <td>10,61</td>\n",
       "    </tr>\n",
       "    <tr>\n",
       "      <th>1</th>\n",
       "      <td>Ambos sexos</td>\n",
       "      <td>Total Nacional</td>\n",
       "      <td>Total</td>\n",
       "      <td>2024T3</td>\n",
       "      <td>11,21</td>\n",
       "    </tr>\n",
       "    <tr>\n",
       "      <th>2</th>\n",
       "      <td>Ambos sexos</td>\n",
       "      <td>Total Nacional</td>\n",
       "      <td>Total</td>\n",
       "      <td>2024T2</td>\n",
       "      <td>11,27</td>\n",
       "    </tr>\n",
       "    <tr>\n",
       "      <th>3</th>\n",
       "      <td>Ambos sexos</td>\n",
       "      <td>Total Nacional</td>\n",
       "      <td>Total</td>\n",
       "      <td>2024T1</td>\n",
       "      <td>12,29</td>\n",
       "    </tr>\n",
       "    <tr>\n",
       "      <th>4</th>\n",
       "      <td>Ambos sexos</td>\n",
       "      <td>Total Nacional</td>\n",
       "      <td>Total</td>\n",
       "      <td>2023T4</td>\n",
       "      <td>11,8</td>\n",
       "    </tr>\n",
       "  </tbody>\n",
       "</table>\n",
       "</div>"
      ],
      "text/plain": [
       "       ï»¿Sexo Comunidades y Ciudades AutÃ³nomas   Edad Periodo Tasa paro\n",
       "0  Ambos sexos                    Total Nacional  Total  2024T4     10,61\n",
       "1  Ambos sexos                    Total Nacional  Total  2024T3     11,21\n",
       "2  Ambos sexos                    Total Nacional  Total  2024T2     11,27\n",
       "3  Ambos sexos                    Total Nacional  Total  2024T1     12,29\n",
       "4  Ambos sexos                    Total Nacional  Total  2023T4      11,8"
      ]
     },
     "execution_count": 188,
     "metadata": {},
     "output_type": "execute_result"
    }
   ],
   "source": [
    "df_tasa_paro.head()"
   ]
  },
  {
   "cell_type": "code",
   "execution_count": 251,
   "id": "22396b3e",
   "metadata": {},
   "outputs": [],
   "source": [
    "df_tasa_paro = df_tasa_paro.rename(columns = {'ï»¿Sexo':'sexo', 'Comunidades y Ciudades AutÃ³nomas':'CCAA', 'Edad':'edad', 'Periodo':'periodo','Tasa paro':'tasa_paro'})"
   ]
  },
  {
   "cell_type": "code",
   "execution_count": 233,
   "id": "ba30ca67",
   "metadata": {},
   "outputs": [
    {
     "data": {
      "text/plain": [
       "Index(['sexo', 'CCAA', 'edad', 'periodo', 'tasa_paro'], dtype='object')"
      ]
     },
     "execution_count": 233,
     "metadata": {},
     "output_type": "execute_result"
    }
   ],
   "source": [
    "df_tasa_paro.columns"
   ]
  },
  {
   "cell_type": "code",
   "execution_count": 252,
   "id": "7c009687",
   "metadata": {},
   "outputs": [
    {
     "data": {
      "text/plain": [
       "array(['Total Nacional', '01 AndalucÃ\\xada', '02 AragÃ³n',\n",
       "       '03 Asturias, Principado de', '04 Balears, Illes', '05 Canarias',\n",
       "       '06 Cantabria', '07 Castilla y LeÃ³n', '08 Castilla - La Mancha',\n",
       "       '09 CataluÃ±a', '10 Comunitat Valenciana', '11 Extremadura',\n",
       "       '12 Galicia', '13 Madrid, Comunidad de', '14 Murcia, RegiÃ³n de',\n",
       "       '15 Navarra, Comunidad Foral de', '16 PaÃ\\xads Vasco',\n",
       "       '17 Rioja, La', '18 Ceuta', '19 Melilla'], dtype=object)"
      ]
     },
     "execution_count": 252,
     "metadata": {},
     "output_type": "execute_result"
    }
   ],
   "source": [
    "df_tasa_paro['CCAA'].unique()"
   ]
  },
  {
   "cell_type": "code",
   "execution_count": 253,
   "id": "bab705d0",
   "metadata": {},
   "outputs": [],
   "source": [
    "df_tasa_paro['CCAA'] = df_tasa_paro['CCAA'].str.replace(r'^\\d+\\s+', '', regex=True)"
   ]
  },
  {
   "cell_type": "code",
   "execution_count": 236,
   "id": "b413762d",
   "metadata": {},
   "outputs": [
    {
     "data": {
      "text/plain": [
       "array(['Total Nacional', 'AndalucÃ\\xada', 'AragÃ³n',\n",
       "       'Asturias, Principado de', 'Balears, Illes', 'Canarias',\n",
       "       'Cantabria', 'Castilla y LeÃ³n', 'Castilla - La Mancha',\n",
       "       'CataluÃ±a', 'Comunitat Valenciana', 'Extremadura', 'Galicia',\n",
       "       'Madrid, Comunidad de', 'Murcia, RegiÃ³n de',\n",
       "       'Navarra, Comunidad Foral de', 'PaÃ\\xads Vasco', 'Rioja, La',\n",
       "       'Ceuta', 'Melilla'], dtype=object)"
      ]
     },
     "execution_count": 236,
     "metadata": {},
     "output_type": "execute_result"
    }
   ],
   "source": [
    "df_tasa_paro['CCAA'].unique()"
   ]
  },
  {
   "cell_type": "code",
   "execution_count": 254,
   "id": "5987678e",
   "metadata": {},
   "outputs": [],
   "source": [
    "mapeo_ccaa = {'Total Nacional':'España',\n",
    "    'AndalucÃ\\xada': 'Andalucía',\n",
    "    'AragÃ³n': 'Aragón',\n",
    "    'Asturias, Principado de': 'Asturias',\n",
    "    'Balears, Illes': 'Baleares',\n",
    "    'Canarias': 'Canarias',\n",
    "    'Cantabria': 'Cantabria',\n",
    "    'Castilla y LeÃ³n': 'Castilla y León',\n",
    "    'Castilla - La Mancha': 'Castilla-La Mancha',\n",
    "    'CataluÃ±a': 'Cataluña',\n",
    "    'Comunitat Valenciana': 'Valencia',\n",
    "    'Extremadura': 'Extremadura',\n",
    "    'Galicia': 'Galicia',\n",
    "    'Madrid, Comunidad de': 'Madrid',\n",
    "    'Murcia, RegiÃ³n de': 'Murcia',\n",
    "    'Navarra, Comunidad Foral de': 'Navarra',\n",
    "    'PaÃ\\xads Vasco': 'País Vasco',\n",
    "    'Rioja, La': 'La Rioja',\n",
    "    'Ceuta': 'Ceuta',\n",
    "    'Melilla': 'Melilla',\n",
    "}\n",
    "\n",
    "df_tasa_paro['CCAA'] = df_tasa_paro['CCAA'].map(mapeo_ccaa)"
   ]
  },
  {
   "cell_type": "code",
   "execution_count": 255,
   "id": "f12dd433",
   "metadata": {},
   "outputs": [
    {
     "data": {
      "text/plain": [
       "20"
      ]
     },
     "execution_count": 255,
     "metadata": {},
     "output_type": "execute_result"
    }
   ],
   "source": [
    "len(df_tasa_paro['CCAA'].unique())"
   ]
  },
  {
   "cell_type": "code",
   "execution_count": 256,
   "id": "5d45ff40",
   "metadata": {},
   "outputs": [
    {
     "data": {
      "text/plain": [
       "Index(['sexo', 'CCAA', 'edad', 'periodo', 'tasa_paro'], dtype='object')"
      ]
     },
     "execution_count": 256,
     "metadata": {},
     "output_type": "execute_result"
    }
   ],
   "source": [
    "df_tasa_paro.columns"
   ]
  },
  {
   "cell_type": "code",
   "execution_count": 257,
   "id": "43b6cbb0",
   "metadata": {},
   "outputs": [
    {
     "data": {
      "text/plain": [
       "array(['Total', 'Menores de 25 aÃ±os', '25 y mÃ¡s aÃ±os',\n",
       "       'De 16 a 19 aÃ±os', 'De 20 a 24 aÃ±os', 'De 25 a 54 aÃ±os',\n",
       "       '55 y mÃ¡s aÃ±os'], dtype=object)"
      ]
     },
     "execution_count": 257,
     "metadata": {},
     "output_type": "execute_result"
    }
   ],
   "source": [
    "df_tasa_paro['edad'].unique()"
   ]
  },
  {
   "cell_type": "code",
   "execution_count": 258,
   "id": "dab8d66f",
   "metadata": {},
   "outputs": [],
   "source": [
    "mapeo_edades = {'Total': 'Total',\n",
    "    'Menores de 25 aÃ±os': 'Menores de 25 años',\n",
    "    '25 y mÃ¡s aÃ±os': '25 y más años',\n",
    "    'De 16 a 19 aÃ±os': 'De 16 a 19 años',\n",
    "    'De 20 a 24 aÃ±os': 'De 20 a 24 años',\n",
    "    'De 25 a 54 aÃ±os': 'De 25 a 54 años',\n",
    "    '55 y mÃ¡s aÃ±os': '55 y más años'\n",
    "}\n",
    "df_tasa_paro['edad'] = df_tasa_paro['edad'].map(mapeo_edades)"
   ]
  },
  {
   "cell_type": "code",
   "execution_count": 259,
   "id": "a22f0a03",
   "metadata": {},
   "outputs": [
    {
     "data": {
      "text/plain": [
       "array(['Total', 'Menores de 25 años', '25 y más años', 'De 16 a 19 años',\n",
       "       'De 20 a 24 años', 'De 25 a 54 años', '55 y más años'],\n",
       "      dtype=object)"
      ]
     },
     "execution_count": 259,
     "metadata": {},
     "output_type": "execute_result"
    }
   ],
   "source": [
    "df_tasa_paro['edad'].unique()"
   ]
  },
  {
   "cell_type": "code",
   "execution_count": 260,
   "id": "55e58be4",
   "metadata": {},
   "outputs": [
    {
     "data": {
      "text/plain": [
       "array(['2024T4', '2024T3', '2024T2', '2024T1', '2023T4', '2023T3',\n",
       "       '2023T2', '2023T1', '2022T4', '2022T3', '2022T2', '2022T1',\n",
       "       '2021T4', '2021T3', '2021T2', '2021T1', '2020T4', '2020T3',\n",
       "       '2020T2', '2020T1', '2019T4', '2019T3', '2019T2', '2019T1',\n",
       "       '2018T4', '2018T3', '2018T2', '2018T1', '2017T4', '2017T3',\n",
       "       '2017T2', '2017T1', '2016T4', '2016T3', '2016T2', '2016T1',\n",
       "       '2015T4', '2015T3', '2015T2', '2015T1', '2014T4', '2014T3',\n",
       "       '2014T2', '2014T1', '2013T4', '2013T3', '2013T2', '2013T1',\n",
       "       '2012T4', '2012T3', '2012T2', '2012T1', '2011T4', '2011T3',\n",
       "       '2011T2', '2011T1', '2010T4', '2010T3', '2010T2', '2010T1',\n",
       "       '2009T4', '2009T3', '2009T2', '2009T1', '2008T4', '2008T3',\n",
       "       '2008T2', '2008T1', '2007T4', '2007T3', '2007T2', '2007T1',\n",
       "       '2006T4', '2006T3', '2006T2', '2006T1', '2005T4', '2005T3',\n",
       "       '2005T2', '2005T1', '2004T4', '2004T3', '2004T2', '2004T1',\n",
       "       '2003T4', '2003T3', '2003T2', '2003T1', '2002T4', '2002T3',\n",
       "       '2002T2', '2002T1'], dtype=object)"
      ]
     },
     "execution_count": 260,
     "metadata": {},
     "output_type": "execute_result"
    }
   ],
   "source": [
    "df_tasa_paro['periodo'].unique()"
   ]
  },
  {
   "cell_type": "code",
   "execution_count": 261,
   "id": "09142df8",
   "metadata": {},
   "outputs": [
    {
     "data": {
      "text/plain": [
       "array(['Ambos sexos', 'Hombres', 'Mujeres'], dtype=object)"
      ]
     },
     "execution_count": 261,
     "metadata": {},
     "output_type": "execute_result"
    }
   ],
   "source": [
    "df_tasa_paro['sexo'].unique()"
   ]
  },
  {
   "cell_type": "code",
   "execution_count": 204,
   "id": "cb1e14a3",
   "metadata": {},
   "outputs": [],
   "source": [
    "df_tasa_paro.to_csv('files/tasa_paro_gral.csv', index=False)"
   ]
  },
  {
   "cell_type": "code",
   "execution_count": 262,
   "id": "5bb6ccb8",
   "metadata": {},
   "outputs": [],
   "source": [
    "# Reemplazamos comas por puntos\n",
    "df_tasa_paro['tasa_paro'] = df_tasa_paro['tasa_paro'].str.replace(',', '.', regex=False)\n",
    "\n",
    "# Eliminamos espacios extra\n",
    "df_tasa_paro['tasa_paro'] = df_tasa_paro['tasa_paro'].str.strip()\n",
    "\n",
    "# Reemplazamos valores vacíos o no numéricos por NaN\n",
    "df_tasa_paro['tasa_paro'] = df_tasa_paro['tasa_paro'].apply(\n",
    "                            lambda x: float(x) if x.replace('.', '', 1).isdigit() else np.nan\n",
    "                            )"
   ]
  },
  {
   "cell_type": "code",
   "execution_count": 296,
   "id": "337b23a9",
   "metadata": {},
   "outputs": [],
   "source": [
    "df_tasa_paro['año'] = df_tasa_paro['periodo'].str[:4]"
   ]
  },
  {
   "cell_type": "code",
   "execution_count": 303,
   "id": "b05f1bf7",
   "metadata": {},
   "outputs": [
    {
     "data": {
      "text/html": [
       "<div>\n",
       "<style scoped>\n",
       "    .dataframe tbody tr th:only-of-type {\n",
       "        vertical-align: middle;\n",
       "    }\n",
       "\n",
       "    .dataframe tbody tr th {\n",
       "        vertical-align: top;\n",
       "    }\n",
       "\n",
       "    .dataframe thead th {\n",
       "        text-align: right;\n",
       "    }\n",
       "</style>\n",
       "<table border=\"1\" class=\"dataframe\">\n",
       "  <thead>\n",
       "    <tr style=\"text-align: right;\">\n",
       "      <th></th>\n",
       "      <th>sexo</th>\n",
       "      <th>CCAA</th>\n",
       "      <th>edad</th>\n",
       "      <th>periodo</th>\n",
       "      <th>tasa_paro</th>\n",
       "      <th>año</th>\n",
       "    </tr>\n",
       "  </thead>\n",
       "  <tbody>\n",
       "    <tr>\n",
       "      <th>3687</th>\n",
       "      <td>Ambos sexos</td>\n",
       "      <td>Canarias</td>\n",
       "      <td>De 25 a 54 años</td>\n",
       "      <td>2023T1</td>\n",
       "      <td>15.78</td>\n",
       "      <td>2023</td>\n",
       "    </tr>\n",
       "  </tbody>\n",
       "</table>\n",
       "</div>"
      ],
      "text/plain": [
       "             sexo      CCAA             edad periodo  tasa_paro   año\n",
       "3687  Ambos sexos  Canarias  De 25 a 54 años  2023T1      15.78  2023"
      ]
     },
     "execution_count": 303,
     "metadata": {},
     "output_type": "execute_result"
    }
   ],
   "source": [
    "df_tasa_paro.sample()"
   ]
  },
  {
   "cell_type": "code",
   "execution_count": 308,
   "id": "79b68c4a",
   "metadata": {},
   "outputs": [],
   "source": [
    "df_paro_año_ccaa = df_tasa_paro.groupby(['año', 'CCAA'])['tasa_paro'].mean().reset_index()"
   ]
  },
  {
   "cell_type": "code",
   "execution_count": 314,
   "id": "4fa1034d",
   "metadata": {},
   "outputs": [
    {
     "data": {
      "text/html": [
       "<div>\n",
       "<style scoped>\n",
       "    .dataframe tbody tr th:only-of-type {\n",
       "        vertical-align: middle;\n",
       "    }\n",
       "\n",
       "    .dataframe tbody tr th {\n",
       "        vertical-align: top;\n",
       "    }\n",
       "\n",
       "    .dataframe thead th {\n",
       "        text-align: right;\n",
       "    }\n",
       "</style>\n",
       "<table border=\"1\" class=\"dataframe\">\n",
       "  <thead>\n",
       "    <tr style=\"text-align: right;\">\n",
       "      <th></th>\n",
       "      <th>año</th>\n",
       "      <th>CCAA</th>\n",
       "      <th>tasa_paro</th>\n",
       "    </tr>\n",
       "  </thead>\n",
       "  <tbody>\n",
       "    <tr>\n",
       "      <th>399</th>\n",
       "      <td>2021</td>\n",
       "      <td>Valencia</td>\n",
       "      <td>26.550595</td>\n",
       "    </tr>\n",
       "    <tr>\n",
       "      <th>115</th>\n",
       "      <td>2007</td>\n",
       "      <td>Melilla</td>\n",
       "      <td>25.458718</td>\n",
       "    </tr>\n",
       "    <tr>\n",
       "      <th>220</th>\n",
       "      <td>2013</td>\n",
       "      <td>Andalucía</td>\n",
       "      <td>48.960833</td>\n",
       "    </tr>\n",
       "    <tr>\n",
       "      <th>427</th>\n",
       "      <td>2023</td>\n",
       "      <td>Castilla-La Mancha</td>\n",
       "      <td>21.423690</td>\n",
       "    </tr>\n",
       "    <tr>\n",
       "      <th>323</th>\n",
       "      <td>2018</td>\n",
       "      <td>Baleares</td>\n",
       "      <td>19.437976</td>\n",
       "    </tr>\n",
       "    <tr>\n",
       "      <th>146</th>\n",
       "      <td>2009</td>\n",
       "      <td>Castilla y León</td>\n",
       "      <td>22.992738</td>\n",
       "    </tr>\n",
       "    <tr>\n",
       "      <th>324</th>\n",
       "      <td>2018</td>\n",
       "      <td>Canarias</td>\n",
       "      <td>28.579048</td>\n",
       "    </tr>\n",
       "    <tr>\n",
       "      <th>25</th>\n",
       "      <td>2003</td>\n",
       "      <td>Cantabria</td>\n",
       "      <td>15.167738</td>\n",
       "    </tr>\n",
       "    <tr>\n",
       "      <th>307</th>\n",
       "      <td>2017</td>\n",
       "      <td>Castilla-La Mancha</td>\n",
       "      <td>32.188333</td>\n",
       "    </tr>\n",
       "    <tr>\n",
       "      <th>242</th>\n",
       "      <td>2014</td>\n",
       "      <td>Asturias</td>\n",
       "      <td>31.693929</td>\n",
       "    </tr>\n",
       "  </tbody>\n",
       "</table>\n",
       "</div>"
      ],
      "text/plain": [
       "      año                CCAA  tasa_paro\n",
       "399  2021            Valencia  26.550595\n",
       "115  2007             Melilla  25.458718\n",
       "220  2013           Andalucía  48.960833\n",
       "427  2023  Castilla-La Mancha  21.423690\n",
       "323  2018            Baleares  19.437976\n",
       "146  2009     Castilla y León  22.992738\n",
       "324  2018            Canarias  28.579048\n",
       "25   2003           Cantabria  15.167738\n",
       "307  2017  Castilla-La Mancha  32.188333\n",
       "242  2014            Asturias  31.693929"
      ]
     },
     "execution_count": 314,
     "metadata": {},
     "output_type": "execute_result"
    }
   ],
   "source": [
    "df_paro_año_ccaa.sample(10)"
   ]
  },
  {
   "cell_type": "code",
   "execution_count": 315,
   "id": "669107e5",
   "metadata": {},
   "outputs": [],
   "source": [
    "df_paro_año_ccaa.to_csv('files/tasa_paro_año_ccaa.csv', index=False)"
   ]
  },
  {
   "cell_type": "markdown",
   "id": "57709473",
   "metadata": {},
   "source": [
    "## EVOL EQUIP"
   ]
  },
  {
   "cell_type": "code",
   "execution_count": 316,
   "id": "ca6f2f07",
   "metadata": {},
   "outputs": [],
   "source": [
    "df_equip = pd.read_csv('../datos/9 evolucion-tipo-equipamiento-ccaa.csv', sep=';', encoding='latin1')"
   ]
  },
  {
   "cell_type": "code",
   "execution_count": 317,
   "id": "2a570e38",
   "metadata": {},
   "outputs": [
    {
     "data": {
      "text/html": [
       "<div>\n",
       "<style scoped>\n",
       "    .dataframe tbody tr th:only-of-type {\n",
       "        vertical-align: middle;\n",
       "    }\n",
       "\n",
       "    .dataframe tbody tr th {\n",
       "        vertical-align: top;\n",
       "    }\n",
       "\n",
       "    .dataframe thead th {\n",
       "        text-align: right;\n",
       "    }\n",
       "</style>\n",
       "<table border=\"1\" class=\"dataframe\">\n",
       "  <thead>\n",
       "    <tr style=\"text-align: right;\">\n",
       "      <th></th>\n",
       "      <th>Comunidades y Ciudades AutÃ³nomas</th>\n",
       "      <th>Tipo de equipamiento</th>\n",
       "      <th>Periodo</th>\n",
       "      <th>Total</th>\n",
       "    </tr>\n",
       "  </thead>\n",
       "  <tbody>\n",
       "    <tr>\n",
       "      <th>0</th>\n",
       "      <td>Total nacional</td>\n",
       "      <td>Viviendas con algÃºn tipo de ordenador</td>\n",
       "      <td>2024</td>\n",
       "      <td>83</td>\n",
       "    </tr>\n",
       "    <tr>\n",
       "      <th>1</th>\n",
       "      <td>Total nacional</td>\n",
       "      <td>Viviendas con algÃºn tipo de ordenador</td>\n",
       "      <td>2023</td>\n",
       "      <td>82,6</td>\n",
       "    </tr>\n",
       "    <tr>\n",
       "      <th>2</th>\n",
       "      <td>Total nacional</td>\n",
       "      <td>Viviendas con algÃºn tipo de ordenador</td>\n",
       "      <td>2022</td>\n",
       "      <td>82,9</td>\n",
       "    </tr>\n",
       "    <tr>\n",
       "      <th>3</th>\n",
       "      <td>Total nacional</td>\n",
       "      <td>Viviendas con algÃºn tipo de ordenador</td>\n",
       "      <td>2021</td>\n",
       "      <td>83,7</td>\n",
       "    </tr>\n",
       "    <tr>\n",
       "      <th>4</th>\n",
       "      <td>Total nacional</td>\n",
       "      <td>Viviendas con algÃºn tipo de ordenador</td>\n",
       "      <td>2020</td>\n",
       "      <td>81,4</td>\n",
       "    </tr>\n",
       "  </tbody>\n",
       "</table>\n",
       "</div>"
      ],
      "text/plain": [
       "  Comunidades y Ciudades AutÃ³nomas                    Tipo de equipamiento  \\\n",
       "0                    Total nacional  Viviendas con algÃºn tipo de ordenador   \n",
       "1                    Total nacional  Viviendas con algÃºn tipo de ordenador   \n",
       "2                    Total nacional  Viviendas con algÃºn tipo de ordenador   \n",
       "3                    Total nacional  Viviendas con algÃºn tipo de ordenador   \n",
       "4                    Total nacional  Viviendas con algÃºn tipo de ordenador   \n",
       "\n",
       "   Periodo Total  \n",
       "0     2024    83  \n",
       "1     2023  82,6  \n",
       "2     2022  82,9  \n",
       "3     2021  83,7  \n",
       "4     2020  81,4  "
      ]
     },
     "execution_count": 317,
     "metadata": {},
     "output_type": "execute_result"
    }
   ],
   "source": [
    "df_equip.head()"
   ]
  },
  {
   "cell_type": "code",
   "execution_count": 318,
   "id": "d5a9e7ba",
   "metadata": {},
   "outputs": [
    {
     "data": {
      "text/plain": [
       "(1900, 4)"
      ]
     },
     "execution_count": 318,
     "metadata": {},
     "output_type": "execute_result"
    }
   ],
   "source": [
    "df_equip.shape"
   ]
  },
  {
   "cell_type": "code",
   "execution_count": 319,
   "id": "fcb49170",
   "metadata": {},
   "outputs": [
    {
     "data": {
      "text/plain": [
       "np.int64(0)"
      ]
     },
     "execution_count": 319,
     "metadata": {},
     "output_type": "execute_result"
    }
   ],
   "source": [
    "df_equip.duplicated().sum()"
   ]
  },
  {
   "cell_type": "code",
   "execution_count": 320,
   "id": "e7271672",
   "metadata": {},
   "outputs": [
    {
     "data": {
      "text/plain": [
       "Comunidades y Ciudades AutÃ³nomas    0\n",
       "Tipo de equipamiento                 0\n",
       "Periodo                              0\n",
       "Total                                0\n",
       "dtype: int64"
      ]
     },
     "execution_count": 320,
     "metadata": {},
     "output_type": "execute_result"
    }
   ],
   "source": [
    "df_equip.isnull().sum()"
   ]
  },
  {
   "cell_type": "code",
   "execution_count": 321,
   "id": "5f565cea",
   "metadata": {},
   "outputs": [
    {
     "data": {
      "text/plain": [
       "array(['Total nacional', 'AndalucÃ\\xada', 'AragÃ³n',\n",
       "       'Asturias, Principado de', 'Balears, Illes', 'Canarias',\n",
       "       'Cantabria', 'Castilla y LeÃ³n', 'Castilla-La Mancha', 'CataluÃ±a',\n",
       "       'Comunitat Valenciana', 'Extremadura', 'Galicia',\n",
       "       'Madrid, Comunidad de', 'Murcia, RegiÃ³n de',\n",
       "       'Navarra, Comunidad Foral de', 'PaÃ\\xads Vasco', 'Rioja, La',\n",
       "       'Ceuta', 'Melilla'], dtype=object)"
      ]
     },
     "execution_count": 321,
     "metadata": {},
     "output_type": "execute_result"
    }
   ],
   "source": [
    "df_equip['Comunidades y Ciudades AutÃ³nomas'].unique()"
   ]
  },
  {
   "cell_type": "code",
   "execution_count": 322,
   "id": "0c19f8fd",
   "metadata": {},
   "outputs": [],
   "source": [
    "mapeo_CCAA = {\n",
    "    'Total nacional': 'España',\n",
    "    'AndalucÃ\\xada': 'Andalucía',\n",
    "    'AragÃ³n': 'Aragón',\n",
    "    'Asturias, Principado de': 'Principado de Asturias',\n",
    "    'Balears, Illes': 'Islas Baleares',\n",
    "    'Canarias': 'Islas Canarias',\n",
    "    'Cantabria': 'Cantabria',\n",
    "    'Castilla y LeÃ³n': 'Castilla y León',\n",
    "    'Castilla-La Mancha': 'Castilla-La Mancha',\n",
    "    'CataluÃ±a': 'Cataluña',\n",
    "    'Comunitat Valenciana': 'Comunidad Valenciana',\n",
    "    'Extremadura': 'Extremadura',\n",
    "    'Galicia': 'Galicia',\n",
    "    'Madrid, Comunidad de': 'Comunidad de Madrid',\n",
    "    'Murcia, RegiÃ³n de': 'Región de Murcia',\n",
    "    'Navarra, Comunidad Foral de': 'Comunidad Foral de Navarra',\n",
    "    'PaÃ\\xads Vasco': 'País Vasco',\n",
    "    'Rioja, La': 'La Rioja',\n",
    "    'Ceuta': 'Ceuta',\n",
    "    'Melilla': 'Melilla'\n",
    "}\n",
    "\n",
    "df_equip['Comunidades y Ciudades AutÃ³nomas'] = df_equip['Comunidades y Ciudades AutÃ³nomas'].map(mapeo_CCAA)"
   ]
  },
  {
   "cell_type": "code",
   "execution_count": 323,
   "id": "ada0c970",
   "metadata": {},
   "outputs": [
    {
     "data": {
      "text/plain": [
       "array(['España', 'Andalucía', 'Aragón', 'Principado de Asturias',\n",
       "       'Islas Baleares', 'Islas Canarias', 'Cantabria', 'Castilla y León',\n",
       "       'Castilla-La Mancha', 'Cataluña', 'Comunidad Valenciana',\n",
       "       'Extremadura', 'Galicia', 'Comunidad de Madrid',\n",
       "       'Región de Murcia', 'Comunidad Foral de Navarra', 'País Vasco',\n",
       "       'La Rioja', 'Ceuta', 'Melilla'], dtype=object)"
      ]
     },
     "execution_count": 323,
     "metadata": {},
     "output_type": "execute_result"
    }
   ],
   "source": [
    "df_equip['Comunidades y Ciudades AutÃ³nomas'].unique()"
   ]
  },
  {
   "cell_type": "code",
   "execution_count": 324,
   "id": "84e2016e",
   "metadata": {},
   "outputs": [
    {
     "data": {
      "text/plain": [
       "array(['Viviendas con algÃºn tipo de ordenador',\n",
       "       'Viviendas que disponen de acceso a Internet',\n",
       "       'Viviendas con conexiÃ³n de Banda Ancha  (ADSL, Red de cable, etc.)',\n",
       "       'Viviendas con telÃ©fono fijo', 'Viviendas con telÃ©fono mÃ³vil'],\n",
       "      dtype=object)"
      ]
     },
     "execution_count": 324,
     "metadata": {},
     "output_type": "execute_result"
    }
   ],
   "source": [
    "df_equip['Tipo de equipamiento'].unique()"
   ]
  },
  {
   "cell_type": "code",
   "execution_count": 325,
   "id": "406fa7e9",
   "metadata": {},
   "outputs": [],
   "source": [
    "mapeo = {\n",
    "    'Viviendas con algÃºn tipo de ordenador': 'Viviendas con algún tipo de ordenador',\n",
    "    'Viviendas que disponen de acceso a Internet': 'Viviendas que disponen de acceso a Internet',\n",
    "    'Viviendas con conexiÃ³n de Banda Ancha  (ADSL, Red de cable, etc.)': 'Viviendas con conexión de Banda Ancha (ADSL, Red de cable, etc.)',\n",
    "    'Viviendas con telÃ©fono fijo': 'Viviendas con teléfono fijo',\n",
    "    'Viviendas con telÃ©fono mÃ³vil': 'Viviendas con teléfono móvil'\n",
    "}\n",
    "\n",
    "df_equip['Tipo de equipamiento'] = df_equip['Tipo de equipamiento'].replace(mapeo)"
   ]
  },
  {
   "cell_type": "code",
   "execution_count": 326,
   "id": "fe1c3136",
   "metadata": {},
   "outputs": [
    {
     "data": {
      "text/plain": [
       "array(['Viviendas con algún tipo de ordenador',\n",
       "       'Viviendas que disponen de acceso a Internet',\n",
       "       'Viviendas con conexión de Banda Ancha (ADSL, Red de cable, etc.)',\n",
       "       'Viviendas con teléfono fijo', 'Viviendas con teléfono móvil'],\n",
       "      dtype=object)"
      ]
     },
     "execution_count": 326,
     "metadata": {},
     "output_type": "execute_result"
    }
   ],
   "source": [
    "df_equip['Tipo de equipamiento'].unique()"
   ]
  },
  {
   "cell_type": "code",
   "execution_count": 327,
   "id": "54455e87",
   "metadata": {},
   "outputs": [
    {
     "data": {
      "text/plain": [
       "array([2024, 2023, 2022, 2021, 2020, 2019, 2018, 2017, 2016, 2015, 2014,\n",
       "       2013, 2012, 2011, 2010, 2009, 2008, 2007, 2006])"
      ]
     },
     "execution_count": 327,
     "metadata": {},
     "output_type": "execute_result"
    }
   ],
   "source": [
    "df_equip['Periodo'].unique()"
   ]
  },
  {
   "cell_type": "code",
   "execution_count": 328,
   "id": "a6f82f91",
   "metadata": {},
   "outputs": [
    {
     "data": {
      "text/plain": [
       "Index(['Comunidades y Ciudades AutÃ³nomas', 'Tipo de equipamiento', 'Periodo',\n",
       "       'Total'],\n",
       "      dtype='object')"
      ]
     },
     "execution_count": 328,
     "metadata": {},
     "output_type": "execute_result"
    }
   ],
   "source": [
    "df_equip.columns"
   ]
  },
  {
   "cell_type": "code",
   "execution_count": 329,
   "id": "676030a8",
   "metadata": {},
   "outputs": [],
   "source": [
    "df_equip = df_equip.rename(columns = {'Comunidades y Ciudades AutÃ³nomas':'CCAA'})"
   ]
  },
  {
   "cell_type": "code",
   "execution_count": 330,
   "id": "f6a75fed",
   "metadata": {},
   "outputs": [
    {
     "data": {
      "text/plain": [
       "Index(['CCAA', 'Tipo de equipamiento', 'Periodo', 'Total'], dtype='object')"
      ]
     },
     "execution_count": 330,
     "metadata": {},
     "output_type": "execute_result"
    }
   ],
   "source": [
    "df_equip.columns"
   ]
  },
  {
   "cell_type": "code",
   "execution_count": 331,
   "id": "ce4a7487",
   "metadata": {},
   "outputs": [],
   "source": [
    "df_equip.to_csv('files/evolucion_equipamiento_viviendas.csv', index=False)"
   ]
  },
  {
   "cell_type": "markdown",
   "id": "65d52d5d",
   "metadata": {},
   "source": [
    "## Unión CSV para correlación:"
   ]
  },
  {
   "cell_type": "code",
   "execution_count": 332,
   "id": "1a4c105e",
   "metadata": {},
   "outputs": [
    {
     "data": {
      "text/html": [
       "<div>\n",
       "<style scoped>\n",
       "    .dataframe tbody tr th:only-of-type {\n",
       "        vertical-align: middle;\n",
       "    }\n",
       "\n",
       "    .dataframe tbody tr th {\n",
       "        vertical-align: top;\n",
       "    }\n",
       "\n",
       "    .dataframe thead th {\n",
       "        text-align: right;\n",
       "    }\n",
       "</style>\n",
       "<table border=\"1\" class=\"dataframe\">\n",
       "  <thead>\n",
       "    <tr style=\"text-align: right;\">\n",
       "      <th></th>\n",
       "      <th>año</th>\n",
       "      <th>CCAA</th>\n",
       "      <th>tasa_paro</th>\n",
       "    </tr>\n",
       "  </thead>\n",
       "  <tbody>\n",
       "    <tr>\n",
       "      <th>0</th>\n",
       "      <td>2002</td>\n",
       "      <td>Andalucía</td>\n",
       "      <td>24.931905</td>\n",
       "    </tr>\n",
       "    <tr>\n",
       "      <th>1</th>\n",
       "      <td>2002</td>\n",
       "      <td>Aragón</td>\n",
       "      <td>9.475714</td>\n",
       "    </tr>\n",
       "    <tr>\n",
       "      <th>2</th>\n",
       "      <td>2002</td>\n",
       "      <td>Asturias</td>\n",
       "      <td>15.213452</td>\n",
       "    </tr>\n",
       "    <tr>\n",
       "      <th>3</th>\n",
       "      <td>2002</td>\n",
       "      <td>Baleares</td>\n",
       "      <td>11.208095</td>\n",
       "    </tr>\n",
       "    <tr>\n",
       "      <th>4</th>\n",
       "      <td>2002</td>\n",
       "      <td>Canarias</td>\n",
       "      <td>15.212024</td>\n",
       "    </tr>\n",
       "  </tbody>\n",
       "</table>\n",
       "</div>"
      ],
      "text/plain": [
       "    año       CCAA  tasa_paro\n",
       "0  2002  Andalucía  24.931905\n",
       "1  2002     Aragón   9.475714\n",
       "2  2002   Asturias  15.213452\n",
       "3  2002   Baleares  11.208095\n",
       "4  2002   Canarias  15.212024"
      ]
     },
     "execution_count": 332,
     "metadata": {},
     "output_type": "execute_result"
    }
   ],
   "source": [
    "df_paro_año_ccaa = pd.read_csv('files/tasa_paro_año_ccaa.csv')\n",
    "df_paro_año_ccaa.head()"
   ]
  },
  {
   "cell_type": "code",
   "execution_count": 339,
   "id": "cff254fe",
   "metadata": {},
   "outputs": [
    {
     "data": {
      "text/plain": [
       "array(['Andalucía', 'Aragón', 'Asturias', 'Baleares', 'Canarias',\n",
       "       'Cantabria', 'Castilla y León', 'Castilla-La Mancha', 'Cataluña',\n",
       "       'Ceuta', 'España', 'Extremadura', 'Galicia', 'La Rioja', 'Madrid',\n",
       "       'Melilla', 'Murcia', 'Navarra', 'País Vasco', 'Valencia'],\n",
       "      dtype=object)"
      ]
     },
     "execution_count": 339,
     "metadata": {},
     "output_type": "execute_result"
    }
   ],
   "source": [
    "df_paro_año_ccaa['CCAA'].unique()"
   ]
  },
  {
   "cell_type": "code",
   "execution_count": 334,
   "id": "72dbcdd4",
   "metadata": {},
   "outputs": [
    {
     "data": {
      "text/html": [
       "<div>\n",
       "<style scoped>\n",
       "    .dataframe tbody tr th:only-of-type {\n",
       "        vertical-align: middle;\n",
       "    }\n",
       "\n",
       "    .dataframe tbody tr th {\n",
       "        vertical-align: top;\n",
       "    }\n",
       "\n",
       "    .dataframe thead th {\n",
       "        text-align: right;\n",
       "    }\n",
       "</style>\n",
       "<table border=\"1\" class=\"dataframe\">\n",
       "  <thead>\n",
       "    <tr style=\"text-align: right;\">\n",
       "      <th></th>\n",
       "      <th>CCAA</th>\n",
       "      <th>Tipo de equipamiento</th>\n",
       "      <th>Periodo</th>\n",
       "      <th>Total</th>\n",
       "    </tr>\n",
       "  </thead>\n",
       "  <tbody>\n",
       "    <tr>\n",
       "      <th>0</th>\n",
       "      <td>España</td>\n",
       "      <td>Viviendas con algún tipo de ordenador</td>\n",
       "      <td>2024</td>\n",
       "      <td>83</td>\n",
       "    </tr>\n",
       "    <tr>\n",
       "      <th>1</th>\n",
       "      <td>España</td>\n",
       "      <td>Viviendas con algún tipo de ordenador</td>\n",
       "      <td>2023</td>\n",
       "      <td>82,6</td>\n",
       "    </tr>\n",
       "    <tr>\n",
       "      <th>2</th>\n",
       "      <td>España</td>\n",
       "      <td>Viviendas con algún tipo de ordenador</td>\n",
       "      <td>2022</td>\n",
       "      <td>82,9</td>\n",
       "    </tr>\n",
       "    <tr>\n",
       "      <th>3</th>\n",
       "      <td>España</td>\n",
       "      <td>Viviendas con algún tipo de ordenador</td>\n",
       "      <td>2021</td>\n",
       "      <td>83,7</td>\n",
       "    </tr>\n",
       "    <tr>\n",
       "      <th>4</th>\n",
       "      <td>España</td>\n",
       "      <td>Viviendas con algún tipo de ordenador</td>\n",
       "      <td>2020</td>\n",
       "      <td>81,4</td>\n",
       "    </tr>\n",
       "  </tbody>\n",
       "</table>\n",
       "</div>"
      ],
      "text/plain": [
       "     CCAA                   Tipo de equipamiento  Periodo Total\n",
       "0  España  Viviendas con algún tipo de ordenador     2024    83\n",
       "1  España  Viviendas con algún tipo de ordenador     2023  82,6\n",
       "2  España  Viviendas con algún tipo de ordenador     2022  82,9\n",
       "3  España  Viviendas con algún tipo de ordenador     2021  83,7\n",
       "4  España  Viviendas con algún tipo de ordenador     2020  81,4"
      ]
     },
     "execution_count": 334,
     "metadata": {},
     "output_type": "execute_result"
    }
   ],
   "source": [
    "df_equip = pd.read_csv('files/evolucion_equipamiento_viviendas.csv')\n",
    "df_equip.head()"
   ]
  },
  {
   "cell_type": "code",
   "execution_count": 344,
   "id": "86ebee4e",
   "metadata": {},
   "outputs": [],
   "source": [
    "df_equip = df_equip.rename(columns = {'Total':'% equipamiento'})"
   ]
  },
  {
   "cell_type": "code",
   "execution_count": 340,
   "id": "735a0bdf",
   "metadata": {},
   "outputs": [
    {
     "data": {
      "text/plain": [
       "array(['España', 'Andalucía', 'Aragón', 'Principado de Asturias',\n",
       "       'Islas Baleares', 'Islas Canarias', 'Cantabria', 'Castilla y León',\n",
       "       'Castilla-La Mancha', 'Cataluña', 'Comunidad Valenciana',\n",
       "       'Extremadura', 'Galicia', 'Comunidad de Madrid',\n",
       "       'Región de Murcia', 'Comunidad Foral de Navarra', 'País Vasco',\n",
       "       'La Rioja', 'Ceuta', 'Melilla'], dtype=object)"
      ]
     },
     "execution_count": 340,
     "metadata": {},
     "output_type": "execute_result"
    }
   ],
   "source": [
    "df_equip['CCAA'].unique()"
   ]
  },
  {
   "cell_type": "code",
   "execution_count": 342,
   "id": "0ae67331",
   "metadata": {},
   "outputs": [],
   "source": [
    "#que df_paro tenga las mismas CCAA (mismo nombre) que df_equip:\n",
    "mapeo_ccaa = {\n",
    "    'Andalucía': 'Andalucía',\n",
    "    'Aragón': 'Aragón',\n",
    "    'Asturias': 'Principado de Asturias',\n",
    "    'Baleares': 'Islas Baleares',\n",
    "    'Canarias': 'Islas Canarias',\n",
    "    'Cantabria': 'Cantabria',\n",
    "    'Castilla y León': 'Castilla y León',\n",
    "    'Castilla-La Mancha': 'Castilla-La Mancha',\n",
    "    'Cataluña': 'Cataluña',\n",
    "    'Ceuta': 'Ceuta',\n",
    "    'España': 'España',\n",
    "    'Extremadura': 'Extremadura',\n",
    "    'Galicia': 'Galicia',\n",
    "    'La Rioja': 'La Rioja',\n",
    "    'Madrid': 'Comunidad de Madrid',\n",
    "    'Melilla': 'Melilla',\n",
    "    'Murcia': 'Región de Murcia',\n",
    "    'Navarra': 'Comunidad Foral de Navarra',\n",
    "    'País Vasco': 'País Vasco',\n",
    "    'Valencia': 'Comunidad Valenciana'\n",
    "}\n",
    "\n",
    "df_paro_año_ccaa['CCAA'] = df_paro_año_ccaa['CCAA'].map(mapeo_ccaa)"
   ]
  },
  {
   "cell_type": "code",
   "execution_count": 347,
   "id": "fcc47628",
   "metadata": {},
   "outputs": [],
   "source": [
    "df_paro_año_ccaa = df_paro_año_ccaa.rename(columns = {'año':'Periodo'})"
   ]
  },
  {
   "cell_type": "code",
   "execution_count": 343,
   "id": "63792c5f",
   "metadata": {},
   "outputs": [
    {
     "data": {
      "text/plain": [
       "array(['Andalucía', 'Aragón', 'Principado de Asturias', 'Islas Baleares',\n",
       "       'Islas Canarias', 'Cantabria', 'Castilla y León',\n",
       "       'Castilla-La Mancha', 'Cataluña', 'Ceuta', 'España', 'Extremadura',\n",
       "       'Galicia', 'La Rioja', 'Comunidad de Madrid', 'Melilla',\n",
       "       'Región de Murcia', 'Comunidad Foral de Navarra', 'País Vasco',\n",
       "       'Comunidad Valenciana'], dtype=object)"
      ]
     },
     "execution_count": 343,
     "metadata": {},
     "output_type": "execute_result"
    }
   ],
   "source": [
    "df_paro_año_ccaa['CCAA'].unique()"
   ]
  },
  {
   "cell_type": "code",
   "execution_count": 348,
   "id": "229b6550",
   "metadata": {},
   "outputs": [
    {
     "data": {
      "text/html": [
       "<div>\n",
       "<style scoped>\n",
       "    .dataframe tbody tr th:only-of-type {\n",
       "        vertical-align: middle;\n",
       "    }\n",
       "\n",
       "    .dataframe tbody tr th {\n",
       "        vertical-align: top;\n",
       "    }\n",
       "\n",
       "    .dataframe thead th {\n",
       "        text-align: right;\n",
       "    }\n",
       "</style>\n",
       "<table border=\"1\" class=\"dataframe\">\n",
       "  <thead>\n",
       "    <tr style=\"text-align: right;\">\n",
       "      <th></th>\n",
       "      <th>Periodo</th>\n",
       "      <th>CCAA</th>\n",
       "      <th>tasa_paro</th>\n",
       "    </tr>\n",
       "  </thead>\n",
       "  <tbody>\n",
       "    <tr>\n",
       "      <th>0</th>\n",
       "      <td>2002</td>\n",
       "      <td>Andalucía</td>\n",
       "      <td>24.931905</td>\n",
       "    </tr>\n",
       "    <tr>\n",
       "      <th>1</th>\n",
       "      <td>2002</td>\n",
       "      <td>Aragón</td>\n",
       "      <td>9.475714</td>\n",
       "    </tr>\n",
       "    <tr>\n",
       "      <th>2</th>\n",
       "      <td>2002</td>\n",
       "      <td>Principado de Asturias</td>\n",
       "      <td>15.213452</td>\n",
       "    </tr>\n",
       "    <tr>\n",
       "      <th>3</th>\n",
       "      <td>2002</td>\n",
       "      <td>Islas Baleares</td>\n",
       "      <td>11.208095</td>\n",
       "    </tr>\n",
       "    <tr>\n",
       "      <th>4</th>\n",
       "      <td>2002</td>\n",
       "      <td>Islas Canarias</td>\n",
       "      <td>15.212024</td>\n",
       "    </tr>\n",
       "  </tbody>\n",
       "</table>\n",
       "</div>"
      ],
      "text/plain": [
       "   Periodo                    CCAA  tasa_paro\n",
       "0     2002               Andalucía  24.931905\n",
       "1     2002                  Aragón   9.475714\n",
       "2     2002  Principado de Asturias  15.213452\n",
       "3     2002          Islas Baleares  11.208095\n",
       "4     2002          Islas Canarias  15.212024"
      ]
     },
     "execution_count": 348,
     "metadata": {},
     "output_type": "execute_result"
    }
   ],
   "source": [
    "df_paro_año_ccaa.head()"
   ]
  },
  {
   "cell_type": "code",
   "execution_count": 346,
   "id": "3ee6c5c4",
   "metadata": {},
   "outputs": [
    {
     "data": {
      "text/html": [
       "<div>\n",
       "<style scoped>\n",
       "    .dataframe tbody tr th:only-of-type {\n",
       "        vertical-align: middle;\n",
       "    }\n",
       "\n",
       "    .dataframe tbody tr th {\n",
       "        vertical-align: top;\n",
       "    }\n",
       "\n",
       "    .dataframe thead th {\n",
       "        text-align: right;\n",
       "    }\n",
       "</style>\n",
       "<table border=\"1\" class=\"dataframe\">\n",
       "  <thead>\n",
       "    <tr style=\"text-align: right;\">\n",
       "      <th></th>\n",
       "      <th>CCAA</th>\n",
       "      <th>Tipo de equipamiento</th>\n",
       "      <th>Periodo</th>\n",
       "      <th>% equipamiento</th>\n",
       "    </tr>\n",
       "  </thead>\n",
       "  <tbody>\n",
       "    <tr>\n",
       "      <th>0</th>\n",
       "      <td>España</td>\n",
       "      <td>Viviendas con algún tipo de ordenador</td>\n",
       "      <td>2024</td>\n",
       "      <td>83</td>\n",
       "    </tr>\n",
       "    <tr>\n",
       "      <th>1</th>\n",
       "      <td>España</td>\n",
       "      <td>Viviendas con algún tipo de ordenador</td>\n",
       "      <td>2023</td>\n",
       "      <td>82,6</td>\n",
       "    </tr>\n",
       "    <tr>\n",
       "      <th>2</th>\n",
       "      <td>España</td>\n",
       "      <td>Viviendas con algún tipo de ordenador</td>\n",
       "      <td>2022</td>\n",
       "      <td>82,9</td>\n",
       "    </tr>\n",
       "    <tr>\n",
       "      <th>3</th>\n",
       "      <td>España</td>\n",
       "      <td>Viviendas con algún tipo de ordenador</td>\n",
       "      <td>2021</td>\n",
       "      <td>83,7</td>\n",
       "    </tr>\n",
       "    <tr>\n",
       "      <th>4</th>\n",
       "      <td>España</td>\n",
       "      <td>Viviendas con algún tipo de ordenador</td>\n",
       "      <td>2020</td>\n",
       "      <td>81,4</td>\n",
       "    </tr>\n",
       "  </tbody>\n",
       "</table>\n",
       "</div>"
      ],
      "text/plain": [
       "     CCAA                   Tipo de equipamiento  Periodo % equipamiento\n",
       "0  España  Viviendas con algún tipo de ordenador     2024             83\n",
       "1  España  Viviendas con algún tipo de ordenador     2023           82,6\n",
       "2  España  Viviendas con algún tipo de ordenador     2022           82,9\n",
       "3  España  Viviendas con algún tipo de ordenador     2021           83,7\n",
       "4  España  Viviendas con algún tipo de ordenador     2020           81,4"
      ]
     },
     "execution_count": 346,
     "metadata": {},
     "output_type": "execute_result"
    }
   ],
   "source": [
    "df_equip.head()"
   ]
  },
  {
   "cell_type": "code",
   "execution_count": 349,
   "id": "fa4f4ee5",
   "metadata": {},
   "outputs": [],
   "source": [
    "# Hacemos un merge:\n",
    "# Paso 1: Asegurarnos que Periodo es int en ambos DataFrames\n",
    "df_paro_año_ccaa['Periodo'] = df_paro_año_ccaa['Periodo'].astype(int)\n",
    "df_equip['Periodo'] = df_equip['Periodo'].astype(int)\n",
    "\n",
    "\n",
    "# Paso 2: Limpiamos la columna % equipamiento (si tiene comas como decimales)\n",
    "df_equip['% equipamiento'] = df_equip['% equipamiento'].astype(str).str.replace(',', '.').astype(float)\n",
    "\n",
    "# Paso 3: Hacer el merge\n",
    "df_merged = pd.merge(df_paro_año_ccaa, df_equip, on=['Periodo', 'CCAA'], how='inner')"
   ]
  },
  {
   "cell_type": "code",
   "execution_count": 350,
   "id": "7939ab7a",
   "metadata": {},
   "outputs": [
    {
     "data": {
      "text/html": [
       "<div>\n",
       "<style scoped>\n",
       "    .dataframe tbody tr th:only-of-type {\n",
       "        vertical-align: middle;\n",
       "    }\n",
       "\n",
       "    .dataframe tbody tr th {\n",
       "        vertical-align: top;\n",
       "    }\n",
       "\n",
       "    .dataframe thead th {\n",
       "        text-align: right;\n",
       "    }\n",
       "</style>\n",
       "<table border=\"1\" class=\"dataframe\">\n",
       "  <thead>\n",
       "    <tr style=\"text-align: right;\">\n",
       "      <th></th>\n",
       "      <th>Periodo</th>\n",
       "      <th>CCAA</th>\n",
       "      <th>tasa_paro</th>\n",
       "      <th>Tipo de equipamiento</th>\n",
       "      <th>% equipamiento</th>\n",
       "    </tr>\n",
       "  </thead>\n",
       "  <tbody>\n",
       "    <tr>\n",
       "      <th>0</th>\n",
       "      <td>2006</td>\n",
       "      <td>Andalucía</td>\n",
       "      <td>17.20381</td>\n",
       "      <td>Viviendas con algún tipo de ordenador</td>\n",
       "      <td>50.6</td>\n",
       "    </tr>\n",
       "    <tr>\n",
       "      <th>1</th>\n",
       "      <td>2006</td>\n",
       "      <td>Andalucía</td>\n",
       "      <td>17.20381</td>\n",
       "      <td>Viviendas que disponen de acceso a Internet</td>\n",
       "      <td>30.7</td>\n",
       "    </tr>\n",
       "    <tr>\n",
       "      <th>2</th>\n",
       "      <td>2006</td>\n",
       "      <td>Andalucía</td>\n",
       "      <td>17.20381</td>\n",
       "      <td>Viviendas con conexión de Banda Ancha (ADSL, R...</td>\n",
       "      <td>23.3</td>\n",
       "    </tr>\n",
       "    <tr>\n",
       "      <th>3</th>\n",
       "      <td>2006</td>\n",
       "      <td>Andalucía</td>\n",
       "      <td>17.20381</td>\n",
       "      <td>Viviendas con teléfono fijo</td>\n",
       "      <td>75.3</td>\n",
       "    </tr>\n",
       "    <tr>\n",
       "      <th>4</th>\n",
       "      <td>2006</td>\n",
       "      <td>Andalucía</td>\n",
       "      <td>17.20381</td>\n",
       "      <td>Viviendas con teléfono móvil</td>\n",
       "      <td>84.7</td>\n",
       "    </tr>\n",
       "  </tbody>\n",
       "</table>\n",
       "</div>"
      ],
      "text/plain": [
       "   Periodo       CCAA  tasa_paro  \\\n",
       "0     2006  Andalucía   17.20381   \n",
       "1     2006  Andalucía   17.20381   \n",
       "2     2006  Andalucía   17.20381   \n",
       "3     2006  Andalucía   17.20381   \n",
       "4     2006  Andalucía   17.20381   \n",
       "\n",
       "                                Tipo de equipamiento  % equipamiento  \n",
       "0              Viviendas con algún tipo de ordenador            50.6  \n",
       "1        Viviendas que disponen de acceso a Internet            30.7  \n",
       "2  Viviendas con conexión de Banda Ancha (ADSL, R...            23.3  \n",
       "3                        Viviendas con teléfono fijo            75.3  \n",
       "4                       Viviendas con teléfono móvil            84.7  "
      ]
     },
     "execution_count": 350,
     "metadata": {},
     "output_type": "execute_result"
    }
   ],
   "source": [
    "df_merged.head()"
   ]
  },
  {
   "cell_type": "code",
   "execution_count": 351,
   "id": "7dd79458",
   "metadata": {},
   "outputs": [],
   "source": [
    "df_merged.to_csv('files/correlacion.csv', index=False)"
   ]
  }
 ],
 "metadata": {
  "kernelspec": {
   "display_name": "base",
   "language": "python",
   "name": "python3"
  },
  "language_info": {
   "codemirror_mode": {
    "name": "ipython",
    "version": 3
   },
   "file_extension": ".py",
   "mimetype": "text/x-python",
   "name": "python",
   "nbconvert_exporter": "python",
   "pygments_lexer": "ipython3",
   "version": "3.11.11"
  }
 },
 "nbformat": 4,
 "nbformat_minor": 5
}
