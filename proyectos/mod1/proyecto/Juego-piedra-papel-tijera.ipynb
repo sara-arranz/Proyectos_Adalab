{
 "cells": [
  {
   "cell_type": "code",
   "execution_count": null,
   "metadata": {},
   "outputs": [
    {
     "name": "stdout",
     "output_type": "stream",
     "text": [
      "¡¡¡Bienvenido al juego de Piedra, Papel y Tijera!!! Al mejor de 3 rondas.\n",
      "El primero en llegar a 3 puntos gana.\n",
      "\n",
      "Tú eliges: piedra\n",
      "Tu contrincante eligió: piedra\n",
      "Has empatado 🤓\n",
      "Puntaje: Tú 0 - 0 Computadora\n",
      "\n",
      "Tú eliges: papel\n",
      "Tu contrincante eligió: piedra\n",
      "¡Has ganado esta ronda! 🎉\n",
      "Puntaje: Tú 1 - 0 Computadora\n",
      "\n",
      "Opción no válida. Inténtalo de nuevo.\n",
      "Tú eliges: tijera\n",
      "Tu contrincante eligió: papel\n",
      "¡Has ganado esta ronda! 🎉\n",
      "Puntaje: Tú 2 - 0 Computadora\n",
      "\n",
      "Tú eliges: papel\n",
      "Tu contrincante eligió: piedra\n",
      "¡Has ganado esta ronda! 🎉\n",
      "Puntaje: Tú 3 - 0 Computadora\n",
      "\n",
      "¡Felicidades! Has ganado el juego 🏆\n"
     ]
    }
   ],
   "source": [
    "#Llamamos a importar random. El módulo random es una biblioteca estándar de Python que permite generar números aleatorios y realizar selecciones aleatorias.\n",
    "#Se usa un while True, para asegurarnos de que el usuario solo pueda elegir \"piedra\", \"papel\" o \"tijera\". \n",
    "#Valido la elección del usuario con una función para evitar errores.\n",
    "\n",
    "import random                                                                                 \n",
    "def obtener_eleccion():\n",
    "    opciones = ['piedra', 'papel', 'tijera']                                      \n",
    "                                                                                  #Con while, el juego sigue hasta que alguien llegue al objetivo.\n",
    "\n",
    "    while True:                                                                 \n",
    "        eleccion = input('Elige piedra, papel o tijera: ').lower()                #Uso función lower para evitar fallos si usuario pone su elección en mayus.\n",
    "        if eleccion in opciones:\n",
    "            return eleccion\n",
    "        print('Opción no válida. Inténtalo de nuevo.')\n",
    "\n",
    "\n",
    "usuario_puntos = 0                                                                #Defino puntos objetivo para ganar. \n",
    "puntos_objetivo = 3\n",
    "pc_puntos = 0\n",
    "\n",
    "print('¡¡¡Bienvenido al juego de Piedra, Papel y Tijera!!!')\n",
    "print(f'El primero en llegar a {puntos_objetivo} puntos gana.\\n')\n",
    "\n",
    "while usuario_puntos < puntos_objetivo and pc_puntos < puntos_objetivo:\n",
    "    usuario = obtener_eleccion()                                                  #Usamos la función para asegurarnos de que sea válida.\n",
    "    pc = random.choice(['piedra', 'papel', 'tijera'])\n",
    "\n",
    "    print(f'Tú eliges: {usuario}')                                               #f-strings (format strings), son una forma moderna y eficiente de formatear\n",
    "                                                                                  #cadenas de texto en Python.\n",
    "    print(f'Tu contrincante eligió: {pc}')\n",
    "  \n",
    "    if usuario == pc:\n",
    "        print('Has empatado 🤓')                                                  \n",
    "    elif (usuario == 'piedra' and pc == 'tijera') or\\\n",
    "         (usuario == 'tijera' and pc == 'papel') or\\\n",
    "         (usuario == 'papel' and pc == 'piedra'):\n",
    "        print('¡Has ganado esta ronda! 🎉')\n",
    "        usuario_puntos += 1                                                        #Se muestran los puntajes de cada ronda, para que el usuario sepa.\n",
    "    else:\n",
    "        print('Has perdido esta ronda. 😞')\n",
    "        pc_puntos += 1\n",
    "\n",
    "    print(f'Puntaje: Tú {usuario_puntos} - {pc_puntos} Computadora\\n')           #\\n es un carácter de escape en muchas lenguas de programación. \n",
    "                                                                                  #Su función es representar un salto de línea, \n",
    "    \n",
    "#Verifico el ganador final.                                                        #Anunciamos al ganador final de forma clara.\n",
    "if usuario_puntos > pc_puntos:\n",
    "    print('¡Felicidades! Has ganado el juego 🏆')\n",
    "else:\n",
    "    print('Tu oponente ha ganado esta vez. ¡Sigue practicando!🤖')"
   ]
  }
 ],
 "metadata": {
  "kernelspec": {
   "display_name": "base",
   "language": "python",
   "name": "python3"
  },
  "language_info": {
   "codemirror_mode": {
    "name": "ipython",
    "version": 3
   },
   "file_extension": ".py",
   "mimetype": "text/x-python",
   "name": "python",
   "nbconvert_exporter": "python",
   "pygments_lexer": "ipython3",
   "version": "3.12.7"
  }
 },
 "nbformat": 4,
 "nbformat_minor": 2
}
