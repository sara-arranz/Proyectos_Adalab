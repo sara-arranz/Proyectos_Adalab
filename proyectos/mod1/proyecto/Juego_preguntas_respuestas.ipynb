{
 "cells": [
  {
   "cell_type": "markdown",
   "metadata": {},
   "source": [
    "1 en que año fue la caida el mudo de berlin 1989\n",
    "\n",
    "en que rio se asentaba la civilizacion egipcia: nilo \n",
    "\n",
    "fecha de caida del antiguo imperio romano: 476 dc\n",
    "\n",
    "quien pinto la famosa obrea de la mona lisa: leonardo da vinci\n",
    "\n",
    "en que año se firmo el tratado de versalles que puso fin a 1a 1ra guerra mundial: 1919\n",
    "\n",
    "quien fue el primer primer hombre en pisar la luna y en que año: 1969 Neil  Armstrong\n",
    "\n",
    "en que año comenzo la revolucion francesa y quien es el lider mas destacado: Maximilien Robespierre, 1789\n",
    "\n",
    "nombre que lidero la expedicion que hizo la incoracion de mexico en el imperio español: hernan cortes \n",
    "\n",
    "quien fue principal lider sovietico en la 2da guerrra mundial: stalin \n",
    "\n",
    "\n",
    "cual fue  papel mas importante que desempeñó juana de arco en la guerra de los 100 años entre francia e inglaterra: liberación de orleans"
   ]
  },
  {
   "cell_type": "code",
   "execution_count": 1,
   "metadata": {},
   "outputs": [],
   "source": [
    "juego = {\"¿En qué año fue la caída el Muro de Berlín?\" : \"1989\", \"¿En qué Río se asentaba la Civilización Egipcia?\" : \"Nilo\",\n",
    "        \"¿En qué fecha fue la caída del Antiguo Imperio Romano\": \"476 dc\"}"
   ]
  },
  {
   "cell_type": "code",
   "execution_count": 2,
   "metadata": {},
   "outputs": [
    {
     "name": "stdout",
     "output_type": "stream",
     "text": [
      "{'¿En qué año fue la caída el Muro de Berlín?': '1989', '¿En qué Río se asentaba la Civilización Egipcia?': 'Nilo', '¿En qué fecha fue la caída del Antiguo Imperio Romano': '476 dc'}\n"
     ]
    }
   ],
   "source": [
    "print (juego) \n"
   ]
  },
  {
   "cell_type": "code",
   "execution_count": null,
   "metadata": {},
   "outputs": [
    {
     "name": "stdout",
     "output_type": "stream",
     "text": [
      "La pregunta es: ¿En qué año fue la caída el Muro de Berlín?\n",
      "Has gastado todos tus intentos\n",
      "La pregunta es: ¿En qué año fue la caída el Muro de Berlín?\n",
      "Has gastado todos tus intentos\n",
      "La pregunta es: ¿En qué año fue la caída el Muro de Berlín?\n",
      "Has gastado todos tus intentos\n",
      "La pregunta es: ¿En qué año fue la caída el Muro de Berlín?\n",
      "Has gastado todos tus intentos\n",
      "La pregunta es: ¿En qué año fue la caída el Muro de Berlín?\n"
     ]
    }
   ],
   "source": [
    "import random \n",
    "\n",
    "juego = {\"¿En qué año fue la caída el Muro de Berlín?\" : \"1989\", \"¿En qué Río se asentaba la Civilización Egipcia?\" : \"nilo\",\n",
    "        \"¿En qué fecha fue la caída del Antiguo Imperio Romano\": \"476 dc\"}\n",
    "\n",
    "respuestas = juego.values()\n",
    "respuestas = True\n",
    "\n",
    "respuestas2 = [respuestas]\n",
    "\n",
    "preguntas = random.choice (list(juego.keys()))\n",
    "\n",
    "usuario_intentos = 0 \n",
    "usuario_jugadas = 0\n",
    "\n",
    "while respuestas == True: \n",
    "    print (f\"La pregunta es: {preguntas}\")\n",
    "    usuraio_respuesta = str(input (\"Introduce tu respuesta\").lower())\n",
    "\n",
    "    if usuraio_respuesta in juego [preguntas] in range (1,6):\n",
    "        print (\"Haz Acertado!\")\n",
    "        usuario_jugadas += 1\n",
    "        continue \n",
    "\n",
    "    elif usuraio_respuesta not in juego [preguntas] in range (1,4):\n",
    "        print (\"Has fallado. Inténtalo de nuevo\")\n",
    "        break     \n",
    "\n",
    "    else:\n",
    "        print (\"Has gastado todos tus intentos\")\n",
    "\n",
    "    if usuraio_respuesta == usuario_jugadas:\n",
    "        break \n",
    "\n"
   ]
  },
  {
   "cell_type": "code",
   "execution_count": 4,
   "metadata": {},
   "outputs": [
    {
     "data": {
      "text/plain": [
       "'¿En qué Río se asentaba la Civilización Egipcia?'"
      ]
     },
     "execution_count": 4,
     "metadata": {},
     "output_type": "execute_result"
    }
   ],
   "source": [
    "preguntas"
   ]
  },
  {
   "cell_type": "code",
   "execution_count": 5,
   "metadata": {},
   "outputs": [
    {
     "data": {
      "text/plain": [
       "'nilo'"
      ]
     },
     "execution_count": 5,
     "metadata": {},
     "output_type": "execute_result"
    }
   ],
   "source": [
    "juego [preguntas]"
   ]
  },
  {
   "cell_type": "code",
   "execution_count": null,
   "metadata": {},
   "outputs": [
    {
     "name": "stdout",
     "output_type": "stream",
     "text": [
      "La pregunta es: ¿En qué año fue la caída el Muro de Berlín?\n",
      "Has fallado. Inténtalo de nuevo\n",
      "La pregunta es: ¿En qué año fue la caída el Muro de Berlín?\n",
      "Has fallado. Inténtalo de nuevo\n",
      "La pregunta es: ¿En qué año fue la caída el Muro de Berlín?\n",
      "La pregunta es: ¿En qué año fue la caída el Muro de Berlín?\n",
      "La pregunta es: ¿En qué año fue la caída el Muro de Berlín?\n",
      "La pregunta es: ¿En qué año fue la caída el Muro de Berlín?\n",
      "La pregunta es: ¿En qué año fue la caída el Muro de Berlín?\n",
      "La pregunta es: ¿En qué año fue la caída el Muro de Berlín?\n",
      "La pregunta es: ¿En qué año fue la caída el Muro de Berlín?\n",
      "La pregunta es: ¿En qué año fue la caída el Muro de Berlín?\n"
     ]
    },
    {
     "ename": "KeyboardInterrupt",
     "evalue": "Interrupted by user",
     "output_type": "error",
     "traceback": [
      "\u001b[0;31m---------------------------------------------------------------------------\u001b[0m",
      "\u001b[0;31mKeyboardInterrupt\u001b[0m                         Traceback (most recent call last)",
      "Cell \u001b[0;32mIn[1], line 18\u001b[0m\n\u001b[1;32m     16\u001b[0m \u001b[38;5;28;01mwhile\u001b[39;00m respuestas \u001b[38;5;241m==\u001b[39m \u001b[38;5;28;01mTrue\u001b[39;00m: \n\u001b[1;32m     17\u001b[0m     \u001b[38;5;28mprint\u001b[39m (\u001b[38;5;124mf\u001b[39m\u001b[38;5;124m\"\u001b[39m\u001b[38;5;124mLa pregunta es: \u001b[39m\u001b[38;5;132;01m{\u001b[39;00mpreguntas\u001b[38;5;132;01m}\u001b[39;00m\u001b[38;5;124m\"\u001b[39m)\n\u001b[0;32m---> 18\u001b[0m     usuraio_respuesta \u001b[38;5;241m=\u001b[39m \u001b[38;5;28mstr\u001b[39m(\u001b[38;5;28;43minput\u001b[39;49m\u001b[43m \u001b[49m\u001b[43m(\u001b[49m\u001b[38;5;124;43m\"\u001b[39;49m\u001b[38;5;124;43mIntroduce tu respuesta\u001b[39;49m\u001b[38;5;124;43m\"\u001b[39;49m\u001b[43m)\u001b[49m\u001b[38;5;241m.\u001b[39mlower())\n\u001b[1;32m     20\u001b[0m     \u001b[38;5;28;01mif\u001b[39;00m usuraio_respuesta \u001b[38;5;129;01min\u001b[39;00m juego [preguntas] \u001b[38;5;129;01min\u001b[39;00m \u001b[38;5;28mrange\u001b[39m (\u001b[38;5;241m1\u001b[39m,\u001b[38;5;241m6\u001b[39m):\n\u001b[1;32m     21\u001b[0m         \u001b[38;5;28mprint\u001b[39m (\u001b[38;5;124m\"\u001b[39m\u001b[38;5;124mHaz Acertado!\u001b[39m\u001b[38;5;124m\"\u001b[39m)\n",
      "File \u001b[0;32m~/Library/Python/3.9/lib/python/site-packages/ipykernel/kernelbase.py:1282\u001b[0m, in \u001b[0;36mKernel.raw_input\u001b[0;34m(self, prompt)\u001b[0m\n\u001b[1;32m   1280\u001b[0m     msg \u001b[38;5;241m=\u001b[39m \u001b[38;5;124m\"\u001b[39m\u001b[38;5;124mraw_input was called, but this frontend does not support input requests.\u001b[39m\u001b[38;5;124m\"\u001b[39m\n\u001b[1;32m   1281\u001b[0m     \u001b[38;5;28;01mraise\u001b[39;00m StdinNotImplementedError(msg)\n\u001b[0;32m-> 1282\u001b[0m \u001b[38;5;28;01mreturn\u001b[39;00m \u001b[38;5;28;43mself\u001b[39;49m\u001b[38;5;241;43m.\u001b[39;49m\u001b[43m_input_request\u001b[49m\u001b[43m(\u001b[49m\n\u001b[1;32m   1283\u001b[0m \u001b[43m    \u001b[49m\u001b[38;5;28;43mstr\u001b[39;49m\u001b[43m(\u001b[49m\u001b[43mprompt\u001b[49m\u001b[43m)\u001b[49m\u001b[43m,\u001b[49m\n\u001b[1;32m   1284\u001b[0m \u001b[43m    \u001b[49m\u001b[38;5;28;43mself\u001b[39;49m\u001b[38;5;241;43m.\u001b[39;49m\u001b[43m_parent_ident\u001b[49m\u001b[43m[\u001b[49m\u001b[38;5;124;43m\"\u001b[39;49m\u001b[38;5;124;43mshell\u001b[39;49m\u001b[38;5;124;43m\"\u001b[39;49m\u001b[43m]\u001b[49m\u001b[43m,\u001b[49m\n\u001b[1;32m   1285\u001b[0m \u001b[43m    \u001b[49m\u001b[38;5;28;43mself\u001b[39;49m\u001b[38;5;241;43m.\u001b[39;49m\u001b[43mget_parent\u001b[49m\u001b[43m(\u001b[49m\u001b[38;5;124;43m\"\u001b[39;49m\u001b[38;5;124;43mshell\u001b[39;49m\u001b[38;5;124;43m\"\u001b[39;49m\u001b[43m)\u001b[49m\u001b[43m,\u001b[49m\n\u001b[1;32m   1286\u001b[0m \u001b[43m    \u001b[49m\u001b[43mpassword\u001b[49m\u001b[38;5;241;43m=\u001b[39;49m\u001b[38;5;28;43;01mFalse\u001b[39;49;00m\u001b[43m,\u001b[49m\n\u001b[1;32m   1287\u001b[0m \u001b[43m\u001b[49m\u001b[43m)\u001b[49m\n",
      "File \u001b[0;32m~/Library/Python/3.9/lib/python/site-packages/ipykernel/kernelbase.py:1325\u001b[0m, in \u001b[0;36mKernel._input_request\u001b[0;34m(self, prompt, ident, parent, password)\u001b[0m\n\u001b[1;32m   1322\u001b[0m \u001b[38;5;28;01mexcept\u001b[39;00m \u001b[38;5;167;01mKeyboardInterrupt\u001b[39;00m:\n\u001b[1;32m   1323\u001b[0m     \u001b[38;5;66;03m# re-raise KeyboardInterrupt, to truncate traceback\u001b[39;00m\n\u001b[1;32m   1324\u001b[0m     msg \u001b[38;5;241m=\u001b[39m \u001b[38;5;124m\"\u001b[39m\u001b[38;5;124mInterrupted by user\u001b[39m\u001b[38;5;124m\"\u001b[39m\n\u001b[0;32m-> 1325\u001b[0m     \u001b[38;5;28;01mraise\u001b[39;00m \u001b[38;5;167;01mKeyboardInterrupt\u001b[39;00m(msg) \u001b[38;5;28;01mfrom\u001b[39;00m\u001b[38;5;250m \u001b[39m\u001b[38;5;28;01mNone\u001b[39;00m\n\u001b[1;32m   1326\u001b[0m \u001b[38;5;28;01mexcept\u001b[39;00m \u001b[38;5;167;01mException\u001b[39;00m:\n\u001b[1;32m   1327\u001b[0m     \u001b[38;5;28mself\u001b[39m\u001b[38;5;241m.\u001b[39mlog\u001b[38;5;241m.\u001b[39mwarning(\u001b[38;5;124m\"\u001b[39m\u001b[38;5;124mInvalid Message:\u001b[39m\u001b[38;5;124m\"\u001b[39m, exc_info\u001b[38;5;241m=\u001b[39m\u001b[38;5;28;01mTrue\u001b[39;00m)\n",
      "\u001b[0;31mKeyboardInterrupt\u001b[0m: Interrupted by user"
     ]
    }
   ],
   "source": [
    "import random \n",
    "\n",
    "juego = {\"¿En qué año fue la caída el Muro de Berlín?\" : \"1989\", \"¿En qué Río se asentaba la Civilización Egipcia?\" : \"nilo\",\n",
    "        \"¿En qué fecha fue la caída del Antiguo Imperio Romano\": \"476 dc\"}\n",
    "\n",
    "respuestas = juego.values()\n",
    "respuestas = True\n",
    "\n",
    "respuestas2 = [respuestas]\n",
    "\n",
    "preguntas = random.choice (list(juego.keys()))\n",
    "\n",
    "usuario_intentos = 0 \n",
    "usuario_jugadas = 0\n",
    "\n",
    "while respuestas == True: \n",
    "    print (f\"La pregunta es: {preguntas}\")\n",
    "    usuraio_respuesta = str(input (\"Introduce tu respuesta\").lower())\n",
    "\n",
    "    if usuraio_respuesta in juego [preguntas] in range (1,6):\n",
    "        print (\"Haz Acertado!\")\n",
    "        usuario_jugadas += 1\n",
    "        continue \n",
    "\n",
    "    elif usuraio_respuesta not in juego [preguntas]:\n",
    "        print (\"Has fallado. Inténtalo de nuevo\")\n",
    "        usuario_intentos += 1\n",
    "     \n",
    "        if usuario_intentos >= 3: \n",
    "            print(\"Has gastado todos tus intentos.\")\n",
    "            break \n",
    "\n",
    "\n"
   ]
  },
  {
   "cell_type": "code",
   "execution_count": null,
   "metadata": {},
   "outputs": [
    {
     "name": "stdout",
     "output_type": "stream",
     "text": [
      "La pregunta es: ¿En qué Río se asentaba la Civilización Egipcia?\n",
      "Has fallado. Inténtalo de nuevo\n",
      "La pregunta es: ¿En qué Río se asentaba la Civilización Egipcia?\n",
      "Has fallado. Inténtalo de nuevo\n",
      "La pregunta es: ¿En qué Río se asentaba la Civilización Egipcia?\n",
      "Has fallado. Inténtalo de nuevo\n",
      "Has gastado todos tus intentos.\n"
     ]
    }
   ],
   "source": [
    "import random \n",
    "\n",
    "juego = {\"¿En qué año fue la caída el Muro de Berlín?\" : \"1989\", \"¿En qué Río se asentaba la Civilización Egipcia?\" : \"nilo\",\n",
    "        \"¿En qué fecha fue la caída del Antiguo Imperio Romano\": \"476 dc\"}\n",
    "\n",
    "respuestas = juego.values()\n",
    "respuestas = True\n",
    "\n",
    "respuestas2 = [respuestas]\n",
    "\n",
    "preguntas = random.choice (list(juego.keys()))\n",
    "\n",
    "usuario_intentos = 0 \n",
    "usuario_jugadas = 0\n",
    "\n",
    "while respuestas == True: \n",
    "    print (f\"La pregunta es: {preguntas}\")\n",
    "    usuraio_respuesta = str(input (\"Introduce tu respuesta\").lower())\n",
    "\n",
    "    if usuraio_respuesta in juego [preguntas] in range (1,6):\n",
    "        print (\"Haz Acertado!\")\n",
    "        usuario_jugadas += 1\n",
    "        continue \n",
    "\n",
    "    elif usuraio_respuesta not in juego [preguntas]:\n",
    "        print (\"Has fallado. Inténtalo de nuevo\")\n",
    "        usuario_intentos += 1\n",
    "     \n",
    "        if usuario_intentos >= 3: \n",
    "            print(\"Has gastado todos tus intentos. Se ha terminado el juego!\")\n",
    "            break \n",
    "\n",
    "\n",
    "# corregir sintaxis (revision)\n",
    "# poner emojis\n",
    "# agregar prints \n",
    "# crear el inicio -- también en input \n",
    "# JUGAR \n",
    "\n",
    "#agregar explicaciones en ambos juegos \n"
   ]
  }
 ],
 "metadata": {
  "kernelspec": {
   "display_name": "Python 3",
   "language": "python",
   "name": "python3"
  },
  "language_info": {
   "codemirror_mode": {
    "name": "ipython",
    "version": 3
   },
   "file_extension": ".py",
   "mimetype": "text/x-python",
   "name": "python",
   "nbconvert_exporter": "python",
   "pygments_lexer": "ipython3",
   "version": "3.9.6"
  }
 },
 "nbformat": 4,
 "nbformat_minor": 2
}
