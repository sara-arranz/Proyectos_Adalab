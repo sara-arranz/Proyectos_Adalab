{
 "cells": [
  {
   "cell_type": "markdown",
   "metadata": {},
   "source": [
    "PRUEBA PROYECTO"
   ]
  },
  {
   "cell_type": "code",
   "execution_count": 23,
   "metadata": {},
   "outputs": [],
   "source": [
    "class Tienda_online:\n",
    "    \n",
    "    def __init__ (self, nombre):\n",
    "        \n",
    "        self.nombre = nombre. capitalize ()\n",
    "        self.inventario = []\n",
    "        self.ventas_totales = 0.0 \n",
    "    \n",
    "    \n",
    "    def agregar_productos(self, producto_nuevo):\n",
    "        \n",
    "        producto_existente = False\n",
    "        \n",
    "        for producto in self.inventario:\n",
    "            \n",
    "            if producto['nombre'] == producto_nuevo['nombre']:\n",
    "                \n",
    "                producto_existente = producto\n",
    "                \n",
    "                break\n",
    "        \n",
    "        if producto_existente:\n",
    "            \n",
    "            producto_existente['cantidad'] += producto_nuevo['cantidad']\n",
    "            print(f\"{producto_nuevo['nombre'].capitalize()} ya existe y su nueva cantidad es {producto_existente['cantidad']}\")\n",
    "        \n",
    "        else:\n",
    "            \n",
    "            self.inventario.append(producto_nuevo)\n",
    "            print(f\"Se ha añadido el producto nuevo con todos sus datos: {producto_nuevo}\")\n",
    "    \n",
    "    \n",
    "    \n",
    "    def ver_inventario(self):\n",
    "        for producto in self.inventario:\n",
    "            print(f\"Nombre: {producto['nombre'].capitalize()}, Precio: ${producto['precio']}, Cantidad: {producto['cantidad']}\")\n",
    "    \n",
    "    \n",
    "    \n",
    "    def buscar_producto(self, nombre):\n",
    "        \n",
    "        for producto in self.inventario:\n",
    "            \n",
    "            if producto['nombre'] == nombre:       \n",
    "                print(f\"Nombre: {producto['nombre'].capitalize()}, Precio: ${producto['precio']}, Cantidad: {producto['cantidad']}\")        \n",
    "                break\n",
    "        \n",
    "        else:\n",
    "            print ('El producto consultado no existe en el inventario')\n",
    "    \n",
    "    \n",
    "    def actualizar_stock (self,nombre_producto, cantidad_modificar):\n",
    "    \n",
    "        for producto in self.inventario:\n",
    "        \n",
    "            if producto ['nombre'].lower() == nombre_producto.lower():\n",
    "            \n",
    "                nueva_cantidad = producto[\"cantidad\"] + cantidad_modificar \n",
    "            \n",
    "                if nueva_cantidad < 0:\n",
    "                \n",
    "                    print(f\"No se puede reducir {cantidad_modificar} unidades. Solo hay {producto['cantidad']} en stock.\")\n",
    "                \n",
    "                    return  # Salimos sin modificar el stock\n",
    "            \n",
    "                producto[\"cantidad\"] = nueva_cantidad  # Guardamos la nueva cantidad en el diccionario\n",
    "            \n",
    "                print(f\"Nuevo stock de {producto['nombre'].capitalize()} : {producto['cantidad']} unidades.\")\n",
    "            \n",
    "                break  # Salimos del bucle\n",
    "        \n",
    "        else:\n",
    "            print (f\"El producto {nombre_producto} no existe en el inventario. Recuerda debes agregarlo en primer lugar\")\n",
    "            \n",
    "            \n",
    "            \n",
    "    def eliminar_producto (self, nombre_producto):\n",
    "        \n",
    "        for i in range(len(self.inventario)-1, -1, -1):\n",
    "            \n",
    "            producto = self.inventario[i]\n",
    "            \n",
    "            if nombre_producto.lower() == producto ['nombre'].lower():\n",
    "                \n",
    "                self.inventario.pop(i)\n",
    "            \n",
    "                print(f\"El producto {nombre_producto} ha sido eliminado de tu inventario.\")\n",
    "                \n",
    "                print(f\"Inventario actualizado :{self.inventario}\")\n",
    "                \n",
    "                break\n",
    "        \n",
    "        else:\n",
    "    \n",
    "            print(f\"El producto {nombre_producto} no se encuentra en el inventario.\")\n",
    "    \n",
    "    \n",
    "    def valor_inventario(self):\n",
    "    \n",
    "        valor_total_inventario = 0  \n",
    "\n",
    "        for producto in self.inventario:\n",
    "\n",
    "            nombre = producto['nombre']\n",
    "            precio = producto['precio']\n",
    "            cantidad = producto['cantidad']\n",
    "        \n",
    "            valor_producto = precio * cantidad\n",
    "        \n",
    "            valor_total_inventario += valor_producto\n",
    "\n",
    "            print(f\"El valor en el inventario del producto {nombre} es: {valor_producto}€\")\n",
    "\n",
    "        \n",
    "        print(f\"\\nEl valor total del inventario es: {valor_total_inventario}€\")"
   ]
  },
  {
   "cell_type": "code",
   "execution_count": 24,
   "metadata": {},
   "outputs": [
    {
     "data": {
      "text/plain": [
       "{'nombre': 'Jumanji', 'inventario': [], 'ventas_totales': 0.0}"
      ]
     },
     "execution_count": 24,
     "metadata": {},
     "output_type": "execute_result"
    }
   ],
   "source": [
    "tienda = Tienda_online (\"jumanji\")\n",
    "\n",
    "tienda. __dict__"
   ]
  },
  {
   "cell_type": "markdown",
   "metadata": {},
   "source": [
    "La tienda va a abrir con los siguientes productos:"
   ]
  },
  {
   "cell_type": "code",
   "execution_count": 25,
   "metadata": {},
   "outputs": [],
   "source": [
    "producto1 = {'nombre':'manzana', 'precio': 1, 'cantidad': 78}\n",
    "producto2 = {'nombre':'pera', 'precio': 0.50, 'cantidad': 180}\n",
    "producto3 = {'nombre':'aguacate', 'precio': 4, 'cantidad': 23}\n",
    "producto4 = {'nombre':'aguacate', 'precio': 4, 'cantidad': 78}"
   ]
  },
  {
   "cell_type": "code",
   "execution_count": 26,
   "metadata": {},
   "outputs": [
    {
     "name": "stdout",
     "output_type": "stream",
     "text": [
      "Se ha añadido el producto nuevo con todos sus datos: {'nombre': 'manzana', 'precio': 1, 'cantidad': 78}\n"
     ]
    }
   ],
   "source": [
    "tienda.agregar_productos (producto1)"
   ]
  },
  {
   "cell_type": "code",
   "execution_count": 27,
   "metadata": {},
   "outputs": [
    {
     "name": "stdout",
     "output_type": "stream",
     "text": [
      "Se ha añadido el producto nuevo con todos sus datos: {'nombre': 'aguacate', 'precio': 4, 'cantidad': 23}\n"
     ]
    }
   ],
   "source": [
    "tienda.agregar_productos (producto3)"
   ]
  },
  {
   "cell_type": "code",
   "execution_count": 28,
   "metadata": {},
   "outputs": [
    {
     "name": "stdout",
     "output_type": "stream",
     "text": [
      "Aguacate ya existe y su nueva cantidad es 101\n"
     ]
    }
   ],
   "source": [
    "tienda.agregar_productos (producto4)"
   ]
  },
  {
   "cell_type": "code",
   "execution_count": 29,
   "metadata": {},
   "outputs": [
    {
     "name": "stdout",
     "output_type": "stream",
     "text": [
      "Nombre: Manzana, Precio: $1, Cantidad: 78\n",
      "Nombre: Aguacate, Precio: $4, Cantidad: 101\n"
     ]
    }
   ],
   "source": [
    "tienda. ver_inventario ()"
   ]
  },
  {
   "cell_type": "code",
   "execution_count": 30,
   "metadata": {},
   "outputs": [
    {
     "name": "stdout",
     "output_type": "stream",
     "text": [
      "Nombre: Manzana, Precio: $1, Cantidad: 78\n"
     ]
    }
   ],
   "source": [
    "tienda. buscar_producto ('manzana')"
   ]
  },
  {
   "cell_type": "code",
   "execution_count": 31,
   "metadata": {},
   "outputs": [
    {
     "name": "stdout",
     "output_type": "stream",
     "text": [
      "El producto consultado no existe en el inventario\n"
     ]
    }
   ],
   "source": [
    "tienda. buscar_producto ('kiwi')"
   ]
  },
  {
   "cell_type": "code",
   "execution_count": 32,
   "metadata": {},
   "outputs": [
    {
     "name": "stdout",
     "output_type": "stream",
     "text": [
      "Nombre: Manzana, Precio: $1, Cantidad: 78\n",
      "Nombre: Aguacate, Precio: $4, Cantidad: 101\n"
     ]
    }
   ],
   "source": [
    "tienda.ver_inventario ()"
   ]
  },
  {
   "cell_type": "code",
   "execution_count": 33,
   "metadata": {},
   "outputs": [
    {
     "name": "stdout",
     "output_type": "stream",
     "text": [
      "El producto mandarina no existe en el inventario. Recuerda debes agregarlo en primer lugar\n"
     ]
    }
   ],
   "source": [
    "tienda.actualizar_stock ('mandarina', 80)"
   ]
  },
  {
   "cell_type": "code",
   "execution_count": 34,
   "metadata": {},
   "outputs": [
    {
     "name": "stdout",
     "output_type": "stream",
     "text": [
      "Se ha añadido el producto nuevo con todos sus datos: {'nombre': 'mandarina', 'precio': 1.5, 'cantidad': 500}\n"
     ]
    }
   ],
   "source": [
    "producto5 = {'nombre':'mandarina', 'precio': 1.50, 'cantidad': 500}\n",
    "tienda.agregar_productos (producto5)"
   ]
  },
  {
   "cell_type": "code",
   "execution_count": 35,
   "metadata": {},
   "outputs": [
    {
     "name": "stdout",
     "output_type": "stream",
     "text": [
      "Nombre: Manzana, Precio: $1, Cantidad: 78\n",
      "Nombre: Aguacate, Precio: $4, Cantidad: 101\n",
      "Nombre: Mandarina, Precio: $1.5, Cantidad: 500\n"
     ]
    }
   ],
   "source": [
    "tienda.ver_inventario ()"
   ]
  },
  {
   "cell_type": "code",
   "execution_count": 36,
   "metadata": {},
   "outputs": [
    {
     "name": "stdout",
     "output_type": "stream",
     "text": [
      "Nuevo stock de Mandarina : 580 unidades.\n"
     ]
    }
   ],
   "source": [
    "tienda.actualizar_stock ('mandarina', 80)"
   ]
  },
  {
   "cell_type": "code",
   "execution_count": 37,
   "metadata": {},
   "outputs": [
    {
     "name": "stdout",
     "output_type": "stream",
     "text": [
      "No se puede reducir -100 unidades. Solo hay 78 en stock.\n"
     ]
    }
   ],
   "source": [
    "tienda.actualizar_stock ('manzana', -100)"
   ]
  },
  {
   "cell_type": "code",
   "execution_count": 38,
   "metadata": {},
   "outputs": [
    {
     "name": "stdout",
     "output_type": "stream",
     "text": [
      "Nuevo stock de Manzana : 18 unidades.\n"
     ]
    }
   ],
   "source": [
    "tienda.actualizar_stock ('manzana', -60)\n"
   ]
  },
  {
   "cell_type": "code",
   "execution_count": 39,
   "metadata": {},
   "outputs": [
    {
     "name": "stdout",
     "output_type": "stream",
     "text": [
      "No se puede reducir -60 unidades. Solo hay 18 en stock.\n"
     ]
    }
   ],
   "source": [
    "tienda.actualizar_stock ('manzana', -60)"
   ]
  },
  {
   "cell_type": "code",
   "execution_count": 40,
   "metadata": {},
   "outputs": [
    {
     "name": "stdout",
     "output_type": "stream",
     "text": [
      "Nombre: Manzana, Precio: $1, Cantidad: 18\n",
      "Nombre: Aguacate, Precio: $4, Cantidad: 101\n",
      "Nombre: Mandarina, Precio: $1.5, Cantidad: 580\n"
     ]
    }
   ],
   "source": [
    "tienda.ver_inventario ()"
   ]
  },
  {
   "cell_type": "code",
   "execution_count": 41,
   "metadata": {},
   "outputs": [
    {
     "name": "stdout",
     "output_type": "stream",
     "text": [
      "El producto fresa no se encuentra en el inventario.\n"
     ]
    }
   ],
   "source": [
    "tienda.eliminar_producto ('fresa')"
   ]
  },
  {
   "cell_type": "code",
   "execution_count": 42,
   "metadata": {},
   "outputs": [
    {
     "name": "stdout",
     "output_type": "stream",
     "text": [
      "El producto aguacate ha sido eliminado de tu inventario.\n",
      "Inventario actualizado :[{'nombre': 'manzana', 'precio': 1, 'cantidad': 18}, {'nombre': 'mandarina', 'precio': 1.5, 'cantidad': 580}]\n"
     ]
    }
   ],
   "source": [
    "tienda.eliminar_producto ('aguacate')"
   ]
  },
  {
   "cell_type": "code",
   "execution_count": 43,
   "metadata": {},
   "outputs": [
    {
     "name": "stdout",
     "output_type": "stream",
     "text": [
      "Nombre: Manzana, Precio: $1, Cantidad: 18\n",
      "Nombre: Mandarina, Precio: $1.5, Cantidad: 580\n"
     ]
    }
   ],
   "source": [
    "tienda.ver_inventario ()"
   ]
  },
  {
   "cell_type": "code",
   "execution_count": 44,
   "metadata": {},
   "outputs": [
    {
     "name": "stdout",
     "output_type": "stream",
     "text": [
      "El valor en el inventario del producto manzana es: 18€\n",
      "El valor en el inventario del producto mandarina es: 870.0€\n",
      "\n",
      "El valor total del inventario es: 888.0€\n"
     ]
    }
   ],
   "source": [
    "tienda.valor_inventario ()"
   ]
  }
 ],
 "metadata": {
  "kernelspec": {
   "display_name": "base",
   "language": "python",
   "name": "python3"
  },
  "language_info": {
   "codemirror_mode": {
    "name": "ipython",
    "version": 3
   },
   "file_extension": ".py",
   "mimetype": "text/x-python",
   "name": "python",
   "nbconvert_exporter": "python",
   "pygments_lexer": "ipython3",
   "version": "3.11.11"
  }
 },
 "nbformat": 4,
 "nbformat_minor": 2
}
